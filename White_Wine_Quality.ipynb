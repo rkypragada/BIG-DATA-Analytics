{
 "cells": [
  {
   "cell_type": "code",
   "execution_count": 1,
   "metadata": {},
   "outputs": [],
   "source": [
    "import numpy as np\n",
    "import matplotlib.pyplot as plt  \n",
    "import pandas as pd\n",
    "import seaborn as sns\n",
    "\n",
    "from warnings import filterwarnings\n",
    "filterwarnings(action='ignore')"
   ]
  },
  {
   "cell_type": "markdown",
   "metadata": {},
   "source": [
    "# Loading Dataset"
   ]
  },
  {
   "cell_type": "code",
   "execution_count": 2,
   "metadata": {},
   "outputs": [
    {
     "data": {
      "text/html": [
       "<div>\n",
       "<style scoped>\n",
       "    .dataframe tbody tr th:only-of-type {\n",
       "        vertical-align: middle;\n",
       "    }\n",
       "\n",
       "    .dataframe tbody tr th {\n",
       "        vertical-align: top;\n",
       "    }\n",
       "\n",
       "    .dataframe thead th {\n",
       "        text-align: right;\n",
       "    }\n",
       "</style>\n",
       "<table border=\"1\" class=\"dataframe\">\n",
       "  <thead>\n",
       "    <tr style=\"text-align: right;\">\n",
       "      <th></th>\n",
       "      <th>Unnamed: 0</th>\n",
       "      <th>fixed.acidity</th>\n",
       "      <th>volatile.acidity</th>\n",
       "      <th>citric.acid</th>\n",
       "      <th>residual.sugar</th>\n",
       "      <th>chlorides</th>\n",
       "      <th>free.sulfur.dioxide</th>\n",
       "      <th>total.sulfur.dioxide</th>\n",
       "      <th>density</th>\n",
       "      <th>pH</th>\n",
       "      <th>sulphates</th>\n",
       "      <th>alcohol</th>\n",
       "      <th>quality</th>\n",
       "    </tr>\n",
       "  </thead>\n",
       "  <tbody>\n",
       "    <tr>\n",
       "      <th>0</th>\n",
       "      <td>1</td>\n",
       "      <td>7.0</td>\n",
       "      <td>0.27</td>\n",
       "      <td>0.36</td>\n",
       "      <td>20.7</td>\n",
       "      <td>0.045</td>\n",
       "      <td>45.0</td>\n",
       "      <td>170.0</td>\n",
       "      <td>1.0010</td>\n",
       "      <td>3.00</td>\n",
       "      <td>0.45</td>\n",
       "      <td>8.8</td>\n",
       "      <td>6</td>\n",
       "    </tr>\n",
       "    <tr>\n",
       "      <th>1</th>\n",
       "      <td>2</td>\n",
       "      <td>6.3</td>\n",
       "      <td>0.30</td>\n",
       "      <td>0.34</td>\n",
       "      <td>1.6</td>\n",
       "      <td>0.049</td>\n",
       "      <td>14.0</td>\n",
       "      <td>132.0</td>\n",
       "      <td>0.9940</td>\n",
       "      <td>3.30</td>\n",
       "      <td>0.49</td>\n",
       "      <td>9.5</td>\n",
       "      <td>6</td>\n",
       "    </tr>\n",
       "    <tr>\n",
       "      <th>2</th>\n",
       "      <td>3</td>\n",
       "      <td>8.1</td>\n",
       "      <td>0.28</td>\n",
       "      <td>0.40</td>\n",
       "      <td>6.9</td>\n",
       "      <td>0.050</td>\n",
       "      <td>30.0</td>\n",
       "      <td>97.0</td>\n",
       "      <td>0.9951</td>\n",
       "      <td>3.26</td>\n",
       "      <td>0.44</td>\n",
       "      <td>10.1</td>\n",
       "      <td>6</td>\n",
       "    </tr>\n",
       "    <tr>\n",
       "      <th>3</th>\n",
       "      <td>4</td>\n",
       "      <td>7.2</td>\n",
       "      <td>0.23</td>\n",
       "      <td>0.32</td>\n",
       "      <td>8.5</td>\n",
       "      <td>0.058</td>\n",
       "      <td>47.0</td>\n",
       "      <td>186.0</td>\n",
       "      <td>0.9956</td>\n",
       "      <td>3.19</td>\n",
       "      <td>0.40</td>\n",
       "      <td>9.9</td>\n",
       "      <td>6</td>\n",
       "    </tr>\n",
       "    <tr>\n",
       "      <th>4</th>\n",
       "      <td>5</td>\n",
       "      <td>7.2</td>\n",
       "      <td>0.23</td>\n",
       "      <td>0.32</td>\n",
       "      <td>8.5</td>\n",
       "      <td>0.058</td>\n",
       "      <td>47.0</td>\n",
       "      <td>186.0</td>\n",
       "      <td>0.9956</td>\n",
       "      <td>3.19</td>\n",
       "      <td>0.40</td>\n",
       "      <td>9.9</td>\n",
       "      <td>6</td>\n",
       "    </tr>\n",
       "  </tbody>\n",
       "</table>\n",
       "</div>"
      ],
      "text/plain": [
       "   Unnamed: 0  fixed.acidity  volatile.acidity  citric.acid  residual.sugar  \\\n",
       "0           1            7.0              0.27         0.36            20.7   \n",
       "1           2            6.3              0.30         0.34             1.6   \n",
       "2           3            8.1              0.28         0.40             6.9   \n",
       "3           4            7.2              0.23         0.32             8.5   \n",
       "4           5            7.2              0.23         0.32             8.5   \n",
       "\n",
       "   chlorides  free.sulfur.dioxide  total.sulfur.dioxide  density    pH  \\\n",
       "0      0.045                 45.0                 170.0   1.0010  3.00   \n",
       "1      0.049                 14.0                 132.0   0.9940  3.30   \n",
       "2      0.050                 30.0                  97.0   0.9951  3.26   \n",
       "3      0.058                 47.0                 186.0   0.9956  3.19   \n",
       "4      0.058                 47.0                 186.0   0.9956  3.19   \n",
       "\n",
       "   sulphates  alcohol  quality  \n",
       "0       0.45      8.8        6  \n",
       "1       0.49      9.5        6  \n",
       "2       0.44     10.1        6  \n",
       "3       0.40      9.9        6  \n",
       "4       0.40      9.9        6  "
      ]
     },
     "execution_count": 2,
     "metadata": {},
     "output_type": "execute_result"
    }
   ],
   "source": [
    "white_wine=pd.read_csv(\"winequality-white.csv\")\n",
    "white_wine.head()"
   ]
  },
  {
   "cell_type": "code",
   "execution_count": 3,
   "metadata": {},
   "outputs": [
    {
     "name": "stdout",
     "output_type": "stream",
     "text": [
      "(4898, 13)\n"
     ]
    }
   ],
   "source": [
    "print(white_wine.shape)"
   ]
  },
  {
   "cell_type": "markdown",
   "metadata": {},
   "source": [
    "# Description"
   ]
  },
  {
   "cell_type": "code",
   "execution_count": 4,
   "metadata": {},
   "outputs": [
    {
     "data": {
      "text/html": [
       "<div>\n",
       "<style scoped>\n",
       "    .dataframe tbody tr th:only-of-type {\n",
       "        vertical-align: middle;\n",
       "    }\n",
       "\n",
       "    .dataframe tbody tr th {\n",
       "        vertical-align: top;\n",
       "    }\n",
       "\n",
       "    .dataframe thead th {\n",
       "        text-align: right;\n",
       "    }\n",
       "</style>\n",
       "<table border=\"1\" class=\"dataframe\">\n",
       "  <thead>\n",
       "    <tr style=\"text-align: right;\">\n",
       "      <th></th>\n",
       "      <th>Unnamed: 0</th>\n",
       "      <th>fixed.acidity</th>\n",
       "      <th>volatile.acidity</th>\n",
       "      <th>citric.acid</th>\n",
       "      <th>residual.sugar</th>\n",
       "      <th>chlorides</th>\n",
       "      <th>free.sulfur.dioxide</th>\n",
       "      <th>total.sulfur.dioxide</th>\n",
       "      <th>density</th>\n",
       "      <th>pH</th>\n",
       "      <th>sulphates</th>\n",
       "      <th>alcohol</th>\n",
       "      <th>quality</th>\n",
       "    </tr>\n",
       "  </thead>\n",
       "  <tbody>\n",
       "    <tr>\n",
       "      <th>count</th>\n",
       "      <td>4898.000000</td>\n",
       "      <td>4898.000000</td>\n",
       "      <td>4898.000000</td>\n",
       "      <td>4898.000000</td>\n",
       "      <td>4898.000000</td>\n",
       "      <td>4898.000000</td>\n",
       "      <td>4898.000000</td>\n",
       "      <td>4898.000000</td>\n",
       "      <td>4898.000000</td>\n",
       "      <td>4898.000000</td>\n",
       "      <td>4898.000000</td>\n",
       "      <td>4898.000000</td>\n",
       "      <td>4898.000000</td>\n",
       "    </tr>\n",
       "    <tr>\n",
       "      <th>mean</th>\n",
       "      <td>2449.500000</td>\n",
       "      <td>6.854788</td>\n",
       "      <td>0.278241</td>\n",
       "      <td>0.334192</td>\n",
       "      <td>6.391415</td>\n",
       "      <td>0.045772</td>\n",
       "      <td>35.308085</td>\n",
       "      <td>138.360657</td>\n",
       "      <td>0.994027</td>\n",
       "      <td>3.188267</td>\n",
       "      <td>0.489847</td>\n",
       "      <td>10.514267</td>\n",
       "      <td>5.877909</td>\n",
       "    </tr>\n",
       "    <tr>\n",
       "      <th>std</th>\n",
       "      <td>1414.075139</td>\n",
       "      <td>0.843868</td>\n",
       "      <td>0.100795</td>\n",
       "      <td>0.121020</td>\n",
       "      <td>5.072058</td>\n",
       "      <td>0.021848</td>\n",
       "      <td>17.007137</td>\n",
       "      <td>42.498065</td>\n",
       "      <td>0.002991</td>\n",
       "      <td>0.151001</td>\n",
       "      <td>0.114126</td>\n",
       "      <td>1.230621</td>\n",
       "      <td>0.885639</td>\n",
       "    </tr>\n",
       "    <tr>\n",
       "      <th>min</th>\n",
       "      <td>1.000000</td>\n",
       "      <td>3.800000</td>\n",
       "      <td>0.080000</td>\n",
       "      <td>0.000000</td>\n",
       "      <td>0.600000</td>\n",
       "      <td>0.009000</td>\n",
       "      <td>2.000000</td>\n",
       "      <td>9.000000</td>\n",
       "      <td>0.987110</td>\n",
       "      <td>2.720000</td>\n",
       "      <td>0.220000</td>\n",
       "      <td>8.000000</td>\n",
       "      <td>3.000000</td>\n",
       "    </tr>\n",
       "    <tr>\n",
       "      <th>25%</th>\n",
       "      <td>1225.250000</td>\n",
       "      <td>6.300000</td>\n",
       "      <td>0.210000</td>\n",
       "      <td>0.270000</td>\n",
       "      <td>1.700000</td>\n",
       "      <td>0.036000</td>\n",
       "      <td>23.000000</td>\n",
       "      <td>108.000000</td>\n",
       "      <td>0.991723</td>\n",
       "      <td>3.090000</td>\n",
       "      <td>0.410000</td>\n",
       "      <td>9.500000</td>\n",
       "      <td>5.000000</td>\n",
       "    </tr>\n",
       "    <tr>\n",
       "      <th>50%</th>\n",
       "      <td>2449.500000</td>\n",
       "      <td>6.800000</td>\n",
       "      <td>0.260000</td>\n",
       "      <td>0.320000</td>\n",
       "      <td>5.200000</td>\n",
       "      <td>0.043000</td>\n",
       "      <td>34.000000</td>\n",
       "      <td>134.000000</td>\n",
       "      <td>0.993740</td>\n",
       "      <td>3.180000</td>\n",
       "      <td>0.470000</td>\n",
       "      <td>10.400000</td>\n",
       "      <td>6.000000</td>\n",
       "    </tr>\n",
       "    <tr>\n",
       "      <th>75%</th>\n",
       "      <td>3673.750000</td>\n",
       "      <td>7.300000</td>\n",
       "      <td>0.320000</td>\n",
       "      <td>0.390000</td>\n",
       "      <td>9.900000</td>\n",
       "      <td>0.050000</td>\n",
       "      <td>46.000000</td>\n",
       "      <td>167.000000</td>\n",
       "      <td>0.996100</td>\n",
       "      <td>3.280000</td>\n",
       "      <td>0.550000</td>\n",
       "      <td>11.400000</td>\n",
       "      <td>6.000000</td>\n",
       "    </tr>\n",
       "    <tr>\n",
       "      <th>max</th>\n",
       "      <td>4898.000000</td>\n",
       "      <td>14.200000</td>\n",
       "      <td>1.100000</td>\n",
       "      <td>1.660000</td>\n",
       "      <td>65.800000</td>\n",
       "      <td>0.346000</td>\n",
       "      <td>289.000000</td>\n",
       "      <td>440.000000</td>\n",
       "      <td>1.038980</td>\n",
       "      <td>3.820000</td>\n",
       "      <td>1.080000</td>\n",
       "      <td>14.200000</td>\n",
       "      <td>9.000000</td>\n",
       "    </tr>\n",
       "  </tbody>\n",
       "</table>\n",
       "</div>"
      ],
      "text/plain": [
       "        Unnamed: 0  fixed.acidity  volatile.acidity  citric.acid  \\\n",
       "count  4898.000000    4898.000000       4898.000000  4898.000000   \n",
       "mean   2449.500000       6.854788          0.278241     0.334192   \n",
       "std    1414.075139       0.843868          0.100795     0.121020   \n",
       "min       1.000000       3.800000          0.080000     0.000000   \n",
       "25%    1225.250000       6.300000          0.210000     0.270000   \n",
       "50%    2449.500000       6.800000          0.260000     0.320000   \n",
       "75%    3673.750000       7.300000          0.320000     0.390000   \n",
       "max    4898.000000      14.200000          1.100000     1.660000   \n",
       "\n",
       "       residual.sugar    chlorides  free.sulfur.dioxide  total.sulfur.dioxide  \\\n",
       "count     4898.000000  4898.000000          4898.000000           4898.000000   \n",
       "mean         6.391415     0.045772            35.308085            138.360657   \n",
       "std          5.072058     0.021848            17.007137             42.498065   \n",
       "min          0.600000     0.009000             2.000000              9.000000   \n",
       "25%          1.700000     0.036000            23.000000            108.000000   \n",
       "50%          5.200000     0.043000            34.000000            134.000000   \n",
       "75%          9.900000     0.050000            46.000000            167.000000   \n",
       "max         65.800000     0.346000           289.000000            440.000000   \n",
       "\n",
       "           density           pH    sulphates      alcohol      quality  \n",
       "count  4898.000000  4898.000000  4898.000000  4898.000000  4898.000000  \n",
       "mean      0.994027     3.188267     0.489847    10.514267     5.877909  \n",
       "std       0.002991     0.151001     0.114126     1.230621     0.885639  \n",
       "min       0.987110     2.720000     0.220000     8.000000     3.000000  \n",
       "25%       0.991723     3.090000     0.410000     9.500000     5.000000  \n",
       "50%       0.993740     3.180000     0.470000    10.400000     6.000000  \n",
       "75%       0.996100     3.280000     0.550000    11.400000     6.000000  \n",
       "max       1.038980     3.820000     1.080000    14.200000     9.000000  "
      ]
     },
     "execution_count": 4,
     "metadata": {},
     "output_type": "execute_result"
    }
   ],
   "source": [
    "white_wine.describe(include='all')"
   ]
  },
  {
   "cell_type": "markdown",
   "metadata": {},
   "source": [
    "# Finding Null Values"
   ]
  },
  {
   "cell_type": "code",
   "execution_count": 5,
   "metadata": {},
   "outputs": [
    {
     "name": "stdout",
     "output_type": "stream",
     "text": [
      "Unnamed: 0              0\n",
      "fixed.acidity           0\n",
      "volatile.acidity        0\n",
      "citric.acid             0\n",
      "residual.sugar          0\n",
      "chlorides               0\n",
      "free.sulfur.dioxide     0\n",
      "total.sulfur.dioxide    0\n",
      "density                 0\n",
      "pH                      0\n",
      "sulphates               0\n",
      "alcohol                 0\n",
      "quality                 0\n",
      "dtype: int64\n"
     ]
    }
   ],
   "source": [
    "print(white_wine.isna().sum())"
   ]
  },
  {
   "cell_type": "code",
   "execution_count": 6,
   "metadata": {},
   "outputs": [
    {
     "data": {
      "text/html": [
       "<div>\n",
       "<style scoped>\n",
       "    .dataframe tbody tr th:only-of-type {\n",
       "        vertical-align: middle;\n",
       "    }\n",
       "\n",
       "    .dataframe tbody tr th {\n",
       "        vertical-align: top;\n",
       "    }\n",
       "\n",
       "    .dataframe thead th {\n",
       "        text-align: right;\n",
       "    }\n",
       "</style>\n",
       "<table border=\"1\" class=\"dataframe\">\n",
       "  <thead>\n",
       "    <tr style=\"text-align: right;\">\n",
       "      <th></th>\n",
       "      <th>Unnamed: 0</th>\n",
       "      <th>fixed.acidity</th>\n",
       "      <th>volatile.acidity</th>\n",
       "      <th>citric.acid</th>\n",
       "      <th>residual.sugar</th>\n",
       "      <th>chlorides</th>\n",
       "      <th>free.sulfur.dioxide</th>\n",
       "      <th>total.sulfur.dioxide</th>\n",
       "      <th>density</th>\n",
       "      <th>pH</th>\n",
       "      <th>sulphates</th>\n",
       "      <th>alcohol</th>\n",
       "      <th>quality</th>\n",
       "    </tr>\n",
       "  </thead>\n",
       "  <tbody>\n",
       "    <tr>\n",
       "      <th>Unnamed: 0</th>\n",
       "      <td>1.000000</td>\n",
       "      <td>-0.255814</td>\n",
       "      <td>0.002858</td>\n",
       "      <td>-0.149900</td>\n",
       "      <td>0.006624</td>\n",
       "      <td>-0.045645</td>\n",
       "      <td>-0.011929</td>\n",
       "      <td>-0.161979</td>\n",
       "      <td>-0.185976</td>\n",
       "      <td>-0.115774</td>\n",
       "      <td>0.009808</td>\n",
       "      <td>0.213656</td>\n",
       "      <td>0.035763</td>\n",
       "    </tr>\n",
       "    <tr>\n",
       "      <th>fixed.acidity</th>\n",
       "      <td>-0.255814</td>\n",
       "      <td>1.000000</td>\n",
       "      <td>-0.022697</td>\n",
       "      <td>0.289181</td>\n",
       "      <td>0.089021</td>\n",
       "      <td>0.023086</td>\n",
       "      <td>-0.049396</td>\n",
       "      <td>0.091070</td>\n",
       "      <td>0.265331</td>\n",
       "      <td>-0.425858</td>\n",
       "      <td>-0.017143</td>\n",
       "      <td>-0.120881</td>\n",
       "      <td>-0.113663</td>\n",
       "    </tr>\n",
       "    <tr>\n",
       "      <th>volatile.acidity</th>\n",
       "      <td>0.002858</td>\n",
       "      <td>-0.022697</td>\n",
       "      <td>1.000000</td>\n",
       "      <td>-0.149472</td>\n",
       "      <td>0.064286</td>\n",
       "      <td>0.070512</td>\n",
       "      <td>-0.097012</td>\n",
       "      <td>0.089261</td>\n",
       "      <td>0.027114</td>\n",
       "      <td>-0.031915</td>\n",
       "      <td>-0.035728</td>\n",
       "      <td>0.067718</td>\n",
       "      <td>-0.194723</td>\n",
       "    </tr>\n",
       "    <tr>\n",
       "      <th>citric.acid</th>\n",
       "      <td>-0.149900</td>\n",
       "      <td>0.289181</td>\n",
       "      <td>-0.149472</td>\n",
       "      <td>1.000000</td>\n",
       "      <td>0.094212</td>\n",
       "      <td>0.114364</td>\n",
       "      <td>0.094077</td>\n",
       "      <td>0.121131</td>\n",
       "      <td>0.149503</td>\n",
       "      <td>-0.163748</td>\n",
       "      <td>0.062331</td>\n",
       "      <td>-0.075729</td>\n",
       "      <td>-0.009209</td>\n",
       "    </tr>\n",
       "    <tr>\n",
       "      <th>residual.sugar</th>\n",
       "      <td>0.006624</td>\n",
       "      <td>0.089021</td>\n",
       "      <td>0.064286</td>\n",
       "      <td>0.094212</td>\n",
       "      <td>1.000000</td>\n",
       "      <td>0.088685</td>\n",
       "      <td>0.299098</td>\n",
       "      <td>0.401439</td>\n",
       "      <td>0.838966</td>\n",
       "      <td>-0.194133</td>\n",
       "      <td>-0.026664</td>\n",
       "      <td>-0.450631</td>\n",
       "      <td>-0.097577</td>\n",
       "    </tr>\n",
       "    <tr>\n",
       "      <th>chlorides</th>\n",
       "      <td>-0.045645</td>\n",
       "      <td>0.023086</td>\n",
       "      <td>0.070512</td>\n",
       "      <td>0.114364</td>\n",
       "      <td>0.088685</td>\n",
       "      <td>1.000000</td>\n",
       "      <td>0.101392</td>\n",
       "      <td>0.198910</td>\n",
       "      <td>0.257211</td>\n",
       "      <td>-0.090439</td>\n",
       "      <td>0.016763</td>\n",
       "      <td>-0.360189</td>\n",
       "      <td>-0.209934</td>\n",
       "    </tr>\n",
       "    <tr>\n",
       "      <th>free.sulfur.dioxide</th>\n",
       "      <td>-0.011929</td>\n",
       "      <td>-0.049396</td>\n",
       "      <td>-0.097012</td>\n",
       "      <td>0.094077</td>\n",
       "      <td>0.299098</td>\n",
       "      <td>0.101392</td>\n",
       "      <td>1.000000</td>\n",
       "      <td>0.615501</td>\n",
       "      <td>0.294210</td>\n",
       "      <td>-0.000618</td>\n",
       "      <td>0.059217</td>\n",
       "      <td>-0.250104</td>\n",
       "      <td>0.008158</td>\n",
       "    </tr>\n",
       "    <tr>\n",
       "      <th>total.sulfur.dioxide</th>\n",
       "      <td>-0.161979</td>\n",
       "      <td>0.091070</td>\n",
       "      <td>0.089261</td>\n",
       "      <td>0.121131</td>\n",
       "      <td>0.401439</td>\n",
       "      <td>0.198910</td>\n",
       "      <td>0.615501</td>\n",
       "      <td>1.000000</td>\n",
       "      <td>0.529881</td>\n",
       "      <td>0.002321</td>\n",
       "      <td>0.134562</td>\n",
       "      <td>-0.448892</td>\n",
       "      <td>-0.174737</td>\n",
       "    </tr>\n",
       "    <tr>\n",
       "      <th>density</th>\n",
       "      <td>-0.185976</td>\n",
       "      <td>0.265331</td>\n",
       "      <td>0.027114</td>\n",
       "      <td>0.149503</td>\n",
       "      <td>0.838966</td>\n",
       "      <td>0.257211</td>\n",
       "      <td>0.294210</td>\n",
       "      <td>0.529881</td>\n",
       "      <td>1.000000</td>\n",
       "      <td>-0.093591</td>\n",
       "      <td>0.074493</td>\n",
       "      <td>-0.780138</td>\n",
       "      <td>-0.307123</td>\n",
       "    </tr>\n",
       "    <tr>\n",
       "      <th>pH</th>\n",
       "      <td>-0.115774</td>\n",
       "      <td>-0.425858</td>\n",
       "      <td>-0.031915</td>\n",
       "      <td>-0.163748</td>\n",
       "      <td>-0.194133</td>\n",
       "      <td>-0.090439</td>\n",
       "      <td>-0.000618</td>\n",
       "      <td>0.002321</td>\n",
       "      <td>-0.093591</td>\n",
       "      <td>1.000000</td>\n",
       "      <td>0.155951</td>\n",
       "      <td>0.121432</td>\n",
       "      <td>0.099427</td>\n",
       "    </tr>\n",
       "    <tr>\n",
       "      <th>sulphates</th>\n",
       "      <td>0.009808</td>\n",
       "      <td>-0.017143</td>\n",
       "      <td>-0.035728</td>\n",
       "      <td>0.062331</td>\n",
       "      <td>-0.026664</td>\n",
       "      <td>0.016763</td>\n",
       "      <td>0.059217</td>\n",
       "      <td>0.134562</td>\n",
       "      <td>0.074493</td>\n",
       "      <td>0.155951</td>\n",
       "      <td>1.000000</td>\n",
       "      <td>-0.017433</td>\n",
       "      <td>0.053678</td>\n",
       "    </tr>\n",
       "    <tr>\n",
       "      <th>alcohol</th>\n",
       "      <td>0.213656</td>\n",
       "      <td>-0.120881</td>\n",
       "      <td>0.067718</td>\n",
       "      <td>-0.075729</td>\n",
       "      <td>-0.450631</td>\n",
       "      <td>-0.360189</td>\n",
       "      <td>-0.250104</td>\n",
       "      <td>-0.448892</td>\n",
       "      <td>-0.780138</td>\n",
       "      <td>0.121432</td>\n",
       "      <td>-0.017433</td>\n",
       "      <td>1.000000</td>\n",
       "      <td>0.435575</td>\n",
       "    </tr>\n",
       "    <tr>\n",
       "      <th>quality</th>\n",
       "      <td>0.035763</td>\n",
       "      <td>-0.113663</td>\n",
       "      <td>-0.194723</td>\n",
       "      <td>-0.009209</td>\n",
       "      <td>-0.097577</td>\n",
       "      <td>-0.209934</td>\n",
       "      <td>0.008158</td>\n",
       "      <td>-0.174737</td>\n",
       "      <td>-0.307123</td>\n",
       "      <td>0.099427</td>\n",
       "      <td>0.053678</td>\n",
       "      <td>0.435575</td>\n",
       "      <td>1.000000</td>\n",
       "    </tr>\n",
       "  </tbody>\n",
       "</table>\n",
       "</div>"
      ],
      "text/plain": [
       "                      Unnamed: 0  fixed.acidity  volatile.acidity  \\\n",
       "Unnamed: 0              1.000000      -0.255814          0.002858   \n",
       "fixed.acidity          -0.255814       1.000000         -0.022697   \n",
       "volatile.acidity        0.002858      -0.022697          1.000000   \n",
       "citric.acid            -0.149900       0.289181         -0.149472   \n",
       "residual.sugar          0.006624       0.089021          0.064286   \n",
       "chlorides              -0.045645       0.023086          0.070512   \n",
       "free.sulfur.dioxide    -0.011929      -0.049396         -0.097012   \n",
       "total.sulfur.dioxide   -0.161979       0.091070          0.089261   \n",
       "density                -0.185976       0.265331          0.027114   \n",
       "pH                     -0.115774      -0.425858         -0.031915   \n",
       "sulphates               0.009808      -0.017143         -0.035728   \n",
       "alcohol                 0.213656      -0.120881          0.067718   \n",
       "quality                 0.035763      -0.113663         -0.194723   \n",
       "\n",
       "                      citric.acid  residual.sugar  chlorides  \\\n",
       "Unnamed: 0              -0.149900        0.006624  -0.045645   \n",
       "fixed.acidity            0.289181        0.089021   0.023086   \n",
       "volatile.acidity        -0.149472        0.064286   0.070512   \n",
       "citric.acid              1.000000        0.094212   0.114364   \n",
       "residual.sugar           0.094212        1.000000   0.088685   \n",
       "chlorides                0.114364        0.088685   1.000000   \n",
       "free.sulfur.dioxide      0.094077        0.299098   0.101392   \n",
       "total.sulfur.dioxide     0.121131        0.401439   0.198910   \n",
       "density                  0.149503        0.838966   0.257211   \n",
       "pH                      -0.163748       -0.194133  -0.090439   \n",
       "sulphates                0.062331       -0.026664   0.016763   \n",
       "alcohol                 -0.075729       -0.450631  -0.360189   \n",
       "quality                 -0.009209       -0.097577  -0.209934   \n",
       "\n",
       "                      free.sulfur.dioxide  total.sulfur.dioxide   density  \\\n",
       "Unnamed: 0                      -0.011929             -0.161979 -0.185976   \n",
       "fixed.acidity                   -0.049396              0.091070  0.265331   \n",
       "volatile.acidity                -0.097012              0.089261  0.027114   \n",
       "citric.acid                      0.094077              0.121131  0.149503   \n",
       "residual.sugar                   0.299098              0.401439  0.838966   \n",
       "chlorides                        0.101392              0.198910  0.257211   \n",
       "free.sulfur.dioxide              1.000000              0.615501  0.294210   \n",
       "total.sulfur.dioxide             0.615501              1.000000  0.529881   \n",
       "density                          0.294210              0.529881  1.000000   \n",
       "pH                              -0.000618              0.002321 -0.093591   \n",
       "sulphates                        0.059217              0.134562  0.074493   \n",
       "alcohol                         -0.250104             -0.448892 -0.780138   \n",
       "quality                          0.008158             -0.174737 -0.307123   \n",
       "\n",
       "                            pH  sulphates   alcohol   quality  \n",
       "Unnamed: 0           -0.115774   0.009808  0.213656  0.035763  \n",
       "fixed.acidity        -0.425858  -0.017143 -0.120881 -0.113663  \n",
       "volatile.acidity     -0.031915  -0.035728  0.067718 -0.194723  \n",
       "citric.acid          -0.163748   0.062331 -0.075729 -0.009209  \n",
       "residual.sugar       -0.194133  -0.026664 -0.450631 -0.097577  \n",
       "chlorides            -0.090439   0.016763 -0.360189 -0.209934  \n",
       "free.sulfur.dioxide  -0.000618   0.059217 -0.250104  0.008158  \n",
       "total.sulfur.dioxide  0.002321   0.134562 -0.448892 -0.174737  \n",
       "density              -0.093591   0.074493 -0.780138 -0.307123  \n",
       "pH                    1.000000   0.155951  0.121432  0.099427  \n",
       "sulphates             0.155951   1.000000 -0.017433  0.053678  \n",
       "alcohol               0.121432  -0.017433  1.000000  0.435575  \n",
       "quality               0.099427   0.053678  0.435575  1.000000  "
      ]
     },
     "execution_count": 6,
     "metadata": {},
     "output_type": "execute_result"
    }
   ],
   "source": [
    "white_wine.corr()"
   ]
  },
  {
   "cell_type": "code",
   "execution_count": 7,
   "metadata": {},
   "outputs": [
    {
     "data": {
      "text/plain": [
       "6    2198\n",
       "5    1457\n",
       "7     880\n",
       "8     175\n",
       "4     163\n",
       "3      20\n",
       "9       5\n",
       "Name: quality, dtype: int64"
      ]
     },
     "execution_count": 7,
     "metadata": {},
     "output_type": "execute_result"
    }
   ],
   "source": [
    "white_wine['quality'].value_counts()"
   ]
  },
  {
   "cell_type": "markdown",
   "metadata": {},
   "source": [
    "# Task 1: Data pre-processing and data exploration"
   ]
  },
  {
   "cell_type": "markdown",
   "metadata": {},
   "source": [
    "# Data Analysis"
   ]
  },
  {
   "cell_type": "code",
   "execution_count": 8,
   "metadata": {},
   "outputs": [
    {
     "data": {
      "image/png": "[encoded data removed]",
      "text/plain": [
       "<Figure size 432x288 with 1 Axes>"
      ]
     },
     "metadata": {
      "needs_background": "light"
     },
     "output_type": "display_data"
    }
   ],
   "source": [
    "sns.countplot(white_wine['quality'])\n",
    "plt.show()"
   ]
  },
  {
   "cell_type": "code",
   "execution_count": 9,
   "metadata": {},
   "outputs": [
    {
     "data": {
      "image/png": "[encoded data removed]",
      "text/plain": [
       "<Figure size 432x288 with 1 Axes>"
      ]
     },
     "metadata": {
      "needs_background": "light"
     },
     "output_type": "display_data"
    }
   ],
   "source": [
    "sns.countplot(white_wine['pH'])\n",
    "plt.show()"
   ]
  },
  {
   "cell_type": "code",
   "execution_count": 10,
   "metadata": {},
   "outputs": [
    {
     "data": {
      "image/png": "[encoded data removed]",
      "text/plain": [
       "<Figure size 432x288 with 1 Axes>"
      ]
     },
     "metadata": {
      "needs_background": "light"
     },
     "output_type": "display_data"
    }
   ],
   "source": [
    "sns.countplot(white_wine['alcohol'])\n",
    "plt.show()"
   ]
  },
  {
   "cell_type": "code",
   "execution_count": 11,
   "metadata": {},
   "outputs": [
    {
     "data": {
      "image/png": "[encoded data removed]",
      "text/plain": [
       "<Figure size 432x288 with 1 Axes>"
      ]
     },
     "metadata": {
      "needs_background": "light"
     },
     "output_type": "display_data"
    }
   ],
   "source": [
    "sns.countplot(white_wine['fixed.acidity'])\n",
    "plt.show()"
   ]
  },
  {
   "cell_type": "code",
   "execution_count": 12,
   "metadata": {},
   "outputs": [
    {
     "data": {
      "image/png": "[encoded data removed]",
      "text/plain": [
       "<Figure size 432x288 with 1 Axes>"
      ]
     },
     "metadata": {
      "needs_background": "light"
     },
     "output_type": "display_data"
    }
   ],
   "source": [
    "sns.countplot(white_wine['volatile.acidity'])\n",
    "plt.show()"
   ]
  },
  {
   "cell_type": "code",
   "execution_count": 13,
   "metadata": {},
   "outputs": [
    {
     "data": {
      "image/png": "[encoded data removed]",
      "text/plain": [
       "<Figure size 432x288 with 1 Axes>"
      ]
     },
     "metadata": {
      "needs_background": "light"
     },
     "output_type": "display_data"
    }
   ],
   "source": [
    "sns.countplot(white_wine['citric.acid'])\n",
    "plt.show()"
   ]
  },
  {
   "cell_type": "code",
   "execution_count": 14,
   "metadata": {},
   "outputs": [
    {
     "data": {
      "image/png": "[encoded data removed]",
      "text/plain": [
       "<Figure size 432x288 with 1 Axes>"
      ]
     },
     "metadata": {
      "needs_background": "light"
     },
     "output_type": "display_data"
    }
   ],
   "source": [
    "sns.countplot(white_wine['density'])\n",
    "plt.show()"
   ]
  },
  {
   "cell_type": "markdown",
   "metadata": {},
   "source": [
    "# Kernel density estimation plotting"
   ]
  },
  {
   "cell_type": "code",
   "execution_count": 15,
   "metadata": {},
   "outputs": [
    {
     "data": {
      "text/plain": [
       "<matplotlib.axes._subplots.AxesSubplot at 0x1ed4e7bf7c8>"
      ]
     },
     "execution_count": 15,
     "metadata": {},
     "output_type": "execute_result"
    },
    {
     "data": {
      "image/png": "[encoded data removed]",
      "text/plain": [
       "<Figure size 432x288 with 1 Axes>"
      ]
     },
     "metadata": {
      "needs_background": "light"
     },
     "output_type": "display_data"
    }
   ],
   "source": [
    "sns.kdeplot(white_wine.query('quality > 2').quality)"
   ]
  },
  {
   "cell_type": "markdown",
   "metadata": {},
   "source": [
    "# Exploring distributions of dataset"
   ]
  },
  {
   "cell_type": "code",
   "execution_count": 16,
   "metadata": {},
   "outputs": [
    {
     "data": {
      "text/plain": [
       "<matplotlib.axes._subplots.AxesSubplot at 0x1ed4f173388>"
      ]
     },
     "execution_count": 16,
     "metadata": {},
     "output_type": "execute_result"
    },
    {
     "data": {
      "image/png": "[encoded data removed]",
      "text/plain": [
       "<Figure size 432x288 with 1 Axes>"
      ]
     },
     "metadata": {
      "needs_background": "light"
     },
     "output_type": "display_data"
    }
   ],
   "source": [
    "sns.distplot(white_wine['alcohol'],color='r')"
   ]
  },
  {
   "cell_type": "code",
   "execution_count": 17,
   "metadata": {},
   "outputs": [
    {
     "data": {
      "text/plain": [
       "Unnamed: 0                  AxesSubplot(0.125,0.71587;0.168478x0.16413)\n",
       "fixed.acidity            AxesSubplot(0.327174,0.71587;0.168478x0.16413)\n",
       "volatile.acidity         AxesSubplot(0.529348,0.71587;0.168478x0.16413)\n",
       "citric.acid              AxesSubplot(0.731522,0.71587;0.168478x0.16413)\n",
       "residual.sugar             AxesSubplot(0.125,0.518913;0.168478x0.16413)\n",
       "chlorides               AxesSubplot(0.327174,0.518913;0.168478x0.16413)\n",
       "free.sulfur.dioxide     AxesSubplot(0.529348,0.518913;0.168478x0.16413)\n",
       "total.sulfur.dioxide    AxesSubplot(0.731522,0.518913;0.168478x0.16413)\n",
       "density                    AxesSubplot(0.125,0.321957;0.168478x0.16413)\n",
       "pH                      AxesSubplot(0.327174,0.321957;0.168478x0.16413)\n",
       "sulphates               AxesSubplot(0.529348,0.321957;0.168478x0.16413)\n",
       "alcohol                 AxesSubplot(0.731522,0.321957;0.168478x0.16413)\n",
       "quality                       AxesSubplot(0.125,0.125;0.168478x0.16413)\n",
       "dtype: object"
      ]
     },
     "execution_count": 17,
     "metadata": {},
     "output_type": "execute_result"
    },
    {
     "data": {
      "image/png": "[encoded data removed]",
      "text/plain": [
       "<Figure size 432x288 with 16 Axes>"
      ]
     },
     "metadata": {
      "needs_background": "light"
     },
     "output_type": "display_data"
    }
   ],
   "source": [
    "white_wine.plot(kind ='box',subplots = True, layout =(4,4),sharex = False, color='g')"
   ]
  },
  {
   "cell_type": "code",
   "execution_count": 18,
   "metadata": {},
   "outputs": [
    {
     "data": {
      "text/plain": [
       "array([[<matplotlib.axes._subplots.AxesSubplot object at 0x000001ED4DFABA48>,\n",
       "        <matplotlib.axes._subplots.AxesSubplot object at 0x000001ED4DC2D8C8>,\n",
       "        <matplotlib.axes._subplots.AxesSubplot object at 0x000001ED4E412D48>,\n",
       "        <matplotlib.axes._subplots.AxesSubplot object at 0x000001ED4E13CAC8>],\n",
       "       [<matplotlib.axes._subplots.AxesSubplot object at 0x000001ED4E14D4C8>,\n",
       "        <matplotlib.axes._subplots.AxesSubplot object at 0x000001ED4DFCAE88>,\n",
       "        <matplotlib.axes._subplots.AxesSubplot object at 0x000001ED4F08B888>,\n",
       "        <matplotlib.axes._subplots.AxesSubplot object at 0x000001ED4DC922C8>],\n",
       "       [<matplotlib.axes._subplots.AxesSubplot object at 0x000001ED4E4EDE88>,\n",
       "        <matplotlib.axes._subplots.AxesSubplot object at 0x000001ED4E0CC088>,\n",
       "        <matplotlib.axes._subplots.AxesSubplot object at 0x000001ED4E297608>,\n",
       "        <matplotlib.axes._subplots.AxesSubplot object at 0x000001ED4E5B6E88>],\n",
       "       [<matplotlib.axes._subplots.AxesSubplot object at 0x000001ED4DE5B788>,\n",
       "        <matplotlib.axes._subplots.AxesSubplot object at 0x000001ED4DD438C8>,\n",
       "        <matplotlib.axes._subplots.AxesSubplot object at 0x000001ED4DCF5588>,\n",
       "        <matplotlib.axes._subplots.AxesSubplot object at 0x000001ED4DDDB7C8>]],\n",
       "      dtype=object)"
      ]
     },
     "execution_count": 18,
     "metadata": {},
     "output_type": "execute_result"
    },
    {
     "data": {
      "image/png": "[encoded data removed]",
      "text/plain": [
       "<Figure size 432x288 with 16 Axes>"
      ]
     },
     "metadata": {
      "needs_background": "light"
     },
     "output_type": "display_data"
    }
   ],
   "source": [
    "white_wine.plot(kind ='density',subplots = True, layout =(4,4),sharex = False)"
   ]
  },
  {
   "cell_type": "markdown",
   "metadata": {},
   "source": [
    "# Feature Selection"
   ]
  },
  {
   "cell_type": "code",
   "execution_count": 19,
   "metadata": {},
   "outputs": [],
   "source": [
    "# Creating target variable featuring\n",
    "white_wine['goodquality'] = [1 if x >= 7 else 0 for x in white_wine['quality']]# Specific feature  and target variable\n",
    "X = white_wine.drop(['quality','goodquality'], axis = 1)\n",
    "Y = white_wine['goodquality']"
   ]
  },
  {
   "cell_type": "code",
   "execution_count": 20,
   "metadata": {},
   "outputs": [
    {
     "data": {
      "text/plain": [
       "0    3838\n",
       "1    1060\n",
       "Name: goodquality, dtype: int64"
      ]
     },
     "execution_count": 20,
     "metadata": {},
     "output_type": "execute_result"
    }
   ],
   "source": [
    "# exibiting the values of best vs worst wine\n",
    "white_wine['goodquality'].value_counts()"
   ]
  },
  {
   "cell_type": "code",
   "execution_count": 21,
   "metadata": {},
   "outputs": [
    {
     "data": {
      "text/html": [
       "<div>\n",
       "<style scoped>\n",
       "    .dataframe tbody tr th:only-of-type {\n",
       "        vertical-align: middle;\n",
       "    }\n",
       "\n",
       "    .dataframe tbody tr th {\n",
       "        vertical-align: top;\n",
       "    }\n",
       "\n",
       "    .dataframe thead th {\n",
       "        text-align: right;\n",
       "    }\n",
       "</style>\n",
       "<table border=\"1\" class=\"dataframe\">\n",
       "  <thead>\n",
       "    <tr style=\"text-align: right;\">\n",
       "      <th></th>\n",
       "      <th>Unnamed: 0</th>\n",
       "      <th>fixed.acidity</th>\n",
       "      <th>volatile.acidity</th>\n",
       "      <th>citric.acid</th>\n",
       "      <th>residual.sugar</th>\n",
       "      <th>chlorides</th>\n",
       "      <th>free.sulfur.dioxide</th>\n",
       "      <th>total.sulfur.dioxide</th>\n",
       "      <th>density</th>\n",
       "      <th>pH</th>\n",
       "      <th>sulphates</th>\n",
       "      <th>alcohol</th>\n",
       "    </tr>\n",
       "  </thead>\n",
       "  <tbody>\n",
       "    <tr>\n",
       "      <th>0</th>\n",
       "      <td>1</td>\n",
       "      <td>7.0</td>\n",
       "      <td>0.27</td>\n",
       "      <td>0.36</td>\n",
       "      <td>20.7</td>\n",
       "      <td>0.045</td>\n",
       "      <td>45.0</td>\n",
       "      <td>170.0</td>\n",
       "      <td>1.00100</td>\n",
       "      <td>3.00</td>\n",
       "      <td>0.45</td>\n",
       "      <td>8.8</td>\n",
       "    </tr>\n",
       "    <tr>\n",
       "      <th>1</th>\n",
       "      <td>2</td>\n",
       "      <td>6.3</td>\n",
       "      <td>0.30</td>\n",
       "      <td>0.34</td>\n",
       "      <td>1.6</td>\n",
       "      <td>0.049</td>\n",
       "      <td>14.0</td>\n",
       "      <td>132.0</td>\n",
       "      <td>0.99400</td>\n",
       "      <td>3.30</td>\n",
       "      <td>0.49</td>\n",
       "      <td>9.5</td>\n",
       "    </tr>\n",
       "    <tr>\n",
       "      <th>2</th>\n",
       "      <td>3</td>\n",
       "      <td>8.1</td>\n",
       "      <td>0.28</td>\n",
       "      <td>0.40</td>\n",
       "      <td>6.9</td>\n",
       "      <td>0.050</td>\n",
       "      <td>30.0</td>\n",
       "      <td>97.0</td>\n",
       "      <td>0.99510</td>\n",
       "      <td>3.26</td>\n",
       "      <td>0.44</td>\n",
       "      <td>10.1</td>\n",
       "    </tr>\n",
       "    <tr>\n",
       "      <th>3</th>\n",
       "      <td>4</td>\n",
       "      <td>7.2</td>\n",
       "      <td>0.23</td>\n",
       "      <td>0.32</td>\n",
       "      <td>8.5</td>\n",
       "      <td>0.058</td>\n",
       "      <td>47.0</td>\n",
       "      <td>186.0</td>\n",
       "      <td>0.99560</td>\n",
       "      <td>3.19</td>\n",
       "      <td>0.40</td>\n",
       "      <td>9.9</td>\n",
       "    </tr>\n",
       "    <tr>\n",
       "      <th>4</th>\n",
       "      <td>5</td>\n",
       "      <td>7.2</td>\n",
       "      <td>0.23</td>\n",
       "      <td>0.32</td>\n",
       "      <td>8.5</td>\n",
       "      <td>0.058</td>\n",
       "      <td>47.0</td>\n",
       "      <td>186.0</td>\n",
       "      <td>0.99560</td>\n",
       "      <td>3.19</td>\n",
       "      <td>0.40</td>\n",
       "      <td>9.9</td>\n",
       "    </tr>\n",
       "    <tr>\n",
       "      <th>...</th>\n",
       "      <td>...</td>\n",
       "      <td>...</td>\n",
       "      <td>...</td>\n",
       "      <td>...</td>\n",
       "      <td>...</td>\n",
       "      <td>...</td>\n",
       "      <td>...</td>\n",
       "      <td>...</td>\n",
       "      <td>...</td>\n",
       "      <td>...</td>\n",
       "      <td>...</td>\n",
       "      <td>...</td>\n",
       "    </tr>\n",
       "    <tr>\n",
       "      <th>4893</th>\n",
       "      <td>4894</td>\n",
       "      <td>6.2</td>\n",
       "      <td>0.21</td>\n",
       "      <td>0.29</td>\n",
       "      <td>1.6</td>\n",
       "      <td>0.039</td>\n",
       "      <td>24.0</td>\n",
       "      <td>92.0</td>\n",
       "      <td>0.99114</td>\n",
       "      <td>3.27</td>\n",
       "      <td>0.50</td>\n",
       "      <td>11.2</td>\n",
       "    </tr>\n",
       "    <tr>\n",
       "      <th>4894</th>\n",
       "      <td>4895</td>\n",
       "      <td>6.6</td>\n",
       "      <td>0.32</td>\n",
       "      <td>0.36</td>\n",
       "      <td>8.0</td>\n",
       "      <td>0.047</td>\n",
       "      <td>57.0</td>\n",
       "      <td>168.0</td>\n",
       "      <td>0.99490</td>\n",
       "      <td>3.15</td>\n",
       "      <td>0.46</td>\n",
       "      <td>9.6</td>\n",
       "    </tr>\n",
       "    <tr>\n",
       "      <th>4895</th>\n",
       "      <td>4896</td>\n",
       "      <td>6.5</td>\n",
       "      <td>0.24</td>\n",
       "      <td>0.19</td>\n",
       "      <td>1.2</td>\n",
       "      <td>0.041</td>\n",
       "      <td>30.0</td>\n",
       "      <td>111.0</td>\n",
       "      <td>0.99254</td>\n",
       "      <td>2.99</td>\n",
       "      <td>0.46</td>\n",
       "      <td>9.4</td>\n",
       "    </tr>\n",
       "    <tr>\n",
       "      <th>4896</th>\n",
       "      <td>4897</td>\n",
       "      <td>5.5</td>\n",
       "      <td>0.29</td>\n",
       "      <td>0.30</td>\n",
       "      <td>1.1</td>\n",
       "      <td>0.022</td>\n",
       "      <td>20.0</td>\n",
       "      <td>110.0</td>\n",
       "      <td>0.98869</td>\n",
       "      <td>3.34</td>\n",
       "      <td>0.38</td>\n",
       "      <td>12.8</td>\n",
       "    </tr>\n",
       "    <tr>\n",
       "      <th>4897</th>\n",
       "      <td>4898</td>\n",
       "      <td>6.0</td>\n",
       "      <td>0.21</td>\n",
       "      <td>0.38</td>\n",
       "      <td>0.8</td>\n",
       "      <td>0.020</td>\n",
       "      <td>22.0</td>\n",
       "      <td>98.0</td>\n",
       "      <td>0.98941</td>\n",
       "      <td>3.26</td>\n",
       "      <td>0.32</td>\n",
       "      <td>11.8</td>\n",
       "    </tr>\n",
       "  </tbody>\n",
       "</table>\n",
       "<p>4898 rows × 12 columns</p>\n",
       "</div>"
      ],
      "text/plain": [
       "      Unnamed: 0  fixed.acidity  volatile.acidity  citric.acid  \\\n",
       "0              1            7.0              0.27         0.36   \n",
       "1              2            6.3              0.30         0.34   \n",
       "2              3            8.1              0.28         0.40   \n",
       "3              4            7.2              0.23         0.32   \n",
       "4              5            7.2              0.23         0.32   \n",
       "...          ...            ...               ...          ...   \n",
       "4893        4894            6.2              0.21         0.29   \n",
       "4894        4895            6.6              0.32         0.36   \n",
       "4895        4896            6.5              0.24         0.19   \n",
       "4896        4897            5.5              0.29         0.30   \n",
       "4897        4898            6.0              0.21         0.38   \n",
       "\n",
       "      residual.sugar  chlorides  free.sulfur.dioxide  total.sulfur.dioxide  \\\n",
       "0               20.7      0.045                 45.0                 170.0   \n",
       "1                1.6      0.049                 14.0                 132.0   \n",
       "2                6.9      0.050                 30.0                  97.0   \n",
       "3                8.5      0.058                 47.0                 186.0   \n",
       "4                8.5      0.058                 47.0                 186.0   \n",
       "...              ...        ...                  ...                   ...   \n",
       "4893             1.6      0.039                 24.0                  92.0   \n",
       "4894             8.0      0.047                 57.0                 168.0   \n",
       "4895             1.2      0.041                 30.0                 111.0   \n",
       "4896             1.1      0.022                 20.0                 110.0   \n",
       "4897             0.8      0.020                 22.0                  98.0   \n",
       "\n",
       "      density    pH  sulphates  alcohol  \n",
       "0     1.00100  3.00       0.45      8.8  \n",
       "1     0.99400  3.30       0.49      9.5  \n",
       "2     0.99510  3.26       0.44     10.1  \n",
       "3     0.99560  3.19       0.40      9.9  \n",
       "4     0.99560  3.19       0.40      9.9  \n",
       "...       ...   ...        ...      ...  \n",
       "4893  0.99114  3.27       0.50     11.2  \n",
       "4894  0.99490  3.15       0.46      9.6  \n",
       "4895  0.99254  2.99       0.46      9.4  \n",
       "4896  0.98869  3.34       0.38     12.8  \n",
       "4897  0.98941  3.26       0.32     11.8  \n",
       "\n",
       "[4898 rows x 12 columns]"
      ]
     },
     "execution_count": 21,
     "metadata": {},
     "output_type": "execute_result"
    }
   ],
   "source": [
    "X"
   ]
  },
  {
   "cell_type": "code",
   "execution_count": 22,
   "metadata": {},
   "outputs": [
    {
     "name": "stdout",
     "output_type": "stream",
     "text": [
      "0       0\n",
      "1       0\n",
      "2       0\n",
      "3       0\n",
      "4       0\n",
      "       ..\n",
      "4893    0\n",
      "4894    0\n",
      "4895    0\n",
      "4896    1\n",
      "4897    0\n",
      "Name: goodquality, Length: 4898, dtype: int64\n"
     ]
    }
   ],
   "source": [
    "print(Y)"
   ]
  },
  {
   "cell_type": "markdown",
   "metadata": {},
   "source": [
    "# Performing random permutations of the data using the function, shuffle"
   ]
  },
  {
   "cell_type": "code",
   "execution_count": 23,
   "metadata": {},
   "outputs": [
    {
     "data": {
      "text/html": [
       "<div>\n",
       "<style scoped>\n",
       "    .dataframe tbody tr th:only-of-type {\n",
       "        vertical-align: middle;\n",
       "    }\n",
       "\n",
       "    .dataframe tbody tr th {\n",
       "        vertical-align: top;\n",
       "    }\n",
       "\n",
       "    .dataframe thead th {\n",
       "        text-align: right;\n",
       "    }\n",
       "</style>\n",
       "<table border=\"1\" class=\"dataframe\">\n",
       "  <thead>\n",
       "    <tr style=\"text-align: right;\">\n",
       "      <th></th>\n",
       "      <th>Unnamed: 0</th>\n",
       "      <th>fixed.acidity</th>\n",
       "      <th>volatile.acidity</th>\n",
       "      <th>citric.acid</th>\n",
       "      <th>residual.sugar</th>\n",
       "      <th>chlorides</th>\n",
       "      <th>free.sulfur.dioxide</th>\n",
       "      <th>total.sulfur.dioxide</th>\n",
       "      <th>density</th>\n",
       "      <th>pH</th>\n",
       "      <th>sulphates</th>\n",
       "      <th>alcohol</th>\n",
       "    </tr>\n",
       "  </thead>\n",
       "  <tbody>\n",
       "    <tr>\n",
       "      <th>2762</th>\n",
       "      <td>2763</td>\n",
       "      <td>7.3</td>\n",
       "      <td>0.32</td>\n",
       "      <td>0.35</td>\n",
       "      <td>1.40</td>\n",
       "      <td>0.050</td>\n",
       "      <td>8.0</td>\n",
       "      <td>163.0</td>\n",
       "      <td>0.99244</td>\n",
       "      <td>3.24</td>\n",
       "      <td>0.42</td>\n",
       "      <td>10.7</td>\n",
       "    </tr>\n",
       "    <tr>\n",
       "      <th>42</th>\n",
       "      <td>43</td>\n",
       "      <td>7.0</td>\n",
       "      <td>0.31</td>\n",
       "      <td>0.26</td>\n",
       "      <td>7.40</td>\n",
       "      <td>0.069</td>\n",
       "      <td>28.0</td>\n",
       "      <td>160.0</td>\n",
       "      <td>0.99540</td>\n",
       "      <td>3.13</td>\n",
       "      <td>0.46</td>\n",
       "      <td>9.8</td>\n",
       "    </tr>\n",
       "    <tr>\n",
       "      <th>1419</th>\n",
       "      <td>1420</td>\n",
       "      <td>7.6</td>\n",
       "      <td>0.14</td>\n",
       "      <td>0.74</td>\n",
       "      <td>1.60</td>\n",
       "      <td>0.040</td>\n",
       "      <td>27.0</td>\n",
       "      <td>103.0</td>\n",
       "      <td>0.99160</td>\n",
       "      <td>3.07</td>\n",
       "      <td>0.40</td>\n",
       "      <td>10.8</td>\n",
       "    </tr>\n",
       "    <tr>\n",
       "      <th>3664</th>\n",
       "      <td>3665</td>\n",
       "      <td>5.0</td>\n",
       "      <td>0.29</td>\n",
       "      <td>0.54</td>\n",
       "      <td>5.70</td>\n",
       "      <td>0.035</td>\n",
       "      <td>54.0</td>\n",
       "      <td>155.0</td>\n",
       "      <td>0.98976</td>\n",
       "      <td>3.27</td>\n",
       "      <td>0.34</td>\n",
       "      <td>12.9</td>\n",
       "    </tr>\n",
       "    <tr>\n",
       "      <th>2125</th>\n",
       "      <td>2126</td>\n",
       "      <td>6.0</td>\n",
       "      <td>0.28</td>\n",
       "      <td>0.22</td>\n",
       "      <td>12.15</td>\n",
       "      <td>0.048</td>\n",
       "      <td>42.0</td>\n",
       "      <td>163.0</td>\n",
       "      <td>0.99570</td>\n",
       "      <td>3.20</td>\n",
       "      <td>0.46</td>\n",
       "      <td>10.1</td>\n",
       "    </tr>\n",
       "    <tr>\n",
       "      <th>...</th>\n",
       "      <td>...</td>\n",
       "      <td>...</td>\n",
       "      <td>...</td>\n",
       "      <td>...</td>\n",
       "      <td>...</td>\n",
       "      <td>...</td>\n",
       "      <td>...</td>\n",
       "      <td>...</td>\n",
       "      <td>...</td>\n",
       "      <td>...</td>\n",
       "      <td>...</td>\n",
       "      <td>...</td>\n",
       "    </tr>\n",
       "    <tr>\n",
       "      <th>4859</th>\n",
       "      <td>4860</td>\n",
       "      <td>6.0</td>\n",
       "      <td>0.43</td>\n",
       "      <td>0.34</td>\n",
       "      <td>7.60</td>\n",
       "      <td>0.045</td>\n",
       "      <td>25.0</td>\n",
       "      <td>118.0</td>\n",
       "      <td>0.99222</td>\n",
       "      <td>3.03</td>\n",
       "      <td>0.37</td>\n",
       "      <td>11.0</td>\n",
       "    </tr>\n",
       "    <tr>\n",
       "      <th>3264</th>\n",
       "      <td>3265</td>\n",
       "      <td>5.9</td>\n",
       "      <td>0.24</td>\n",
       "      <td>0.12</td>\n",
       "      <td>1.40</td>\n",
       "      <td>0.035</td>\n",
       "      <td>60.0</td>\n",
       "      <td>247.0</td>\n",
       "      <td>0.99358</td>\n",
       "      <td>3.34</td>\n",
       "      <td>0.44</td>\n",
       "      <td>9.6</td>\n",
       "    </tr>\n",
       "    <tr>\n",
       "      <th>1653</th>\n",
       "      <td>1654</td>\n",
       "      <td>7.9</td>\n",
       "      <td>0.33</td>\n",
       "      <td>0.28</td>\n",
       "      <td>31.60</td>\n",
       "      <td>0.053</td>\n",
       "      <td>35.0</td>\n",
       "      <td>176.0</td>\n",
       "      <td>1.01030</td>\n",
       "      <td>3.15</td>\n",
       "      <td>0.38</td>\n",
       "      <td>8.8</td>\n",
       "    </tr>\n",
       "    <tr>\n",
       "      <th>2607</th>\n",
       "      <td>2608</td>\n",
       "      <td>8.9</td>\n",
       "      <td>0.26</td>\n",
       "      <td>0.33</td>\n",
       "      <td>8.10</td>\n",
       "      <td>0.024</td>\n",
       "      <td>47.0</td>\n",
       "      <td>202.0</td>\n",
       "      <td>0.99558</td>\n",
       "      <td>3.13</td>\n",
       "      <td>0.46</td>\n",
       "      <td>10.8</td>\n",
       "    </tr>\n",
       "    <tr>\n",
       "      <th>2732</th>\n",
       "      <td>2733</td>\n",
       "      <td>7.9</td>\n",
       "      <td>0.51</td>\n",
       "      <td>0.34</td>\n",
       "      <td>2.60</td>\n",
       "      <td>0.049</td>\n",
       "      <td>13.0</td>\n",
       "      <td>135.0</td>\n",
       "      <td>0.99335</td>\n",
       "      <td>3.09</td>\n",
       "      <td>0.51</td>\n",
       "      <td>10.0</td>\n",
       "    </tr>\n",
       "  </tbody>\n",
       "</table>\n",
       "<p>4898 rows × 12 columns</p>\n",
       "</div>"
      ],
      "text/plain": [
       "      Unnamed: 0  fixed.acidity  volatile.acidity  citric.acid  \\\n",
       "2762        2763            7.3              0.32         0.35   \n",
       "42            43            7.0              0.31         0.26   \n",
       "1419        1420            7.6              0.14         0.74   \n",
       "3664        3665            5.0              0.29         0.54   \n",
       "2125        2126            6.0              0.28         0.22   \n",
       "...          ...            ...               ...          ...   \n",
       "4859        4860            6.0              0.43         0.34   \n",
       "3264        3265            5.9              0.24         0.12   \n",
       "1653        1654            7.9              0.33         0.28   \n",
       "2607        2608            8.9              0.26         0.33   \n",
       "2732        2733            7.9              0.51         0.34   \n",
       "\n",
       "      residual.sugar  chlorides  free.sulfur.dioxide  total.sulfur.dioxide  \\\n",
       "2762            1.40      0.050                  8.0                 163.0   \n",
       "42              7.40      0.069                 28.0                 160.0   \n",
       "1419            1.60      0.040                 27.0                 103.0   \n",
       "3664            5.70      0.035                 54.0                 155.0   \n",
       "2125           12.15      0.048                 42.0                 163.0   \n",
       "...              ...        ...                  ...                   ...   \n",
       "4859            7.60      0.045                 25.0                 118.0   \n",
       "3264            1.40      0.035                 60.0                 247.0   \n",
       "1653           31.60      0.053                 35.0                 176.0   \n",
       "2607            8.10      0.024                 47.0                 202.0   \n",
       "2732            2.60      0.049                 13.0                 135.0   \n",
       "\n",
       "      density    pH  sulphates  alcohol  \n",
       "2762  0.99244  3.24       0.42     10.7  \n",
       "42    0.99540  3.13       0.46      9.8  \n",
       "1419  0.99160  3.07       0.40     10.8  \n",
       "3664  0.98976  3.27       0.34     12.9  \n",
       "2125  0.99570  3.20       0.46     10.1  \n",
       "...       ...   ...        ...      ...  \n",
       "4859  0.99222  3.03       0.37     11.0  \n",
       "3264  0.99358  3.34       0.44      9.6  \n",
       "1653  1.01030  3.15       0.38      8.8  \n",
       "2607  0.99558  3.13       0.46     10.8  \n",
       "2732  0.99335  3.09       0.51     10.0  \n",
       "\n",
       "[4898 rows x 12 columns]"
      ]
     },
     "execution_count": 23,
     "metadata": {},
     "output_type": "execute_result"
    }
   ],
   "source": [
    "from scipy.sparse import coo_matrix\n",
    "from sklearn.utils import shuffle\n",
    "X_sparse = coo_matrix(X)\n",
    "X, X_sparse, Y = shuffle(X, X_sparse, Y, random_state=0)\n",
    "X"
   ]
  },
  {
   "cell_type": "code",
   "execution_count": 24,
   "metadata": {},
   "outputs": [
    {
     "data": {
      "text/plain": [
       "<matplotlib.axes._subplots.AxesSubplot at 0x1ed4df5a3c8>"
      ]
     },
     "execution_count": 24,
     "metadata": {},
     "output_type": "execute_result"
    },
    {
     "data": {
      "image/png": "[encoded data removed]",
      "text/plain": [
       "<Figure size 432x288 with 1 Axes>"
      ]
     },
     "metadata": {
      "needs_background": "light"
     },
     "output_type": "display_data"
    }
   ],
   "source": [
    "white_wine.plot.scatter(x = \"alcohol\", y = \"density\",color='y')"
   ]
  },
  {
   "cell_type": "code",
   "execution_count": 25,
   "metadata": {},
   "outputs": [
    {
     "data": {
      "text/plain": [
       "<matplotlib.axes._subplots.AxesSubplot at 0x1ed4e542c48>"
      ]
     },
     "execution_count": 25,
     "metadata": {},
     "output_type": "execute_result"
    },
    {
     "data": {
      "image/png": "[encoded data removed]",
      "text/plain": [
       "<Figure size 432x288 with 1 Axes>"
      ]
     },
     "metadata": {
      "needs_background": "light"
     },
     "output_type": "display_data"
    }
   ],
   "source": [
    "white_wine.plot.scatter(x = \"residual.sugar\", y = \"density\",color='r')"
   ]
  },
  {
   "cell_type": "code",
   "execution_count": 26,
   "metadata": {},
   "outputs": [
    {
     "data": {
      "text/plain": [
       "<matplotlib.axes._subplots.AxesSubplot at 0x1ed4e542508>"
      ]
     },
     "execution_count": 26,
     "metadata": {},
     "output_type": "execute_result"
    },
    {
     "data": {
      "image/png": "[encoded data removed]",
      "text/plain": [
       "<Figure size 432x288 with 1 Axes>"
      ]
     },
     "metadata": {
      "needs_background": "light"
     },
     "output_type": "display_data"
    }
   ],
   "source": [
    "white_wine.plot.scatter(x = \"fixed.acidity\", y = \"density\",color='g')"
   ]
  },
  {
   "cell_type": "code",
   "execution_count": 27,
   "metadata": {},
   "outputs": [
    {
     "data": {
      "text/plain": [
       "<matplotlib.axes._subplots.AxesSubplot at 0x1ed4f068e48>"
      ]
     },
     "execution_count": 27,
     "metadata": {},
     "output_type": "execute_result"
    },
    {
     "data": {
      "image/png": "[encoded data removed]",
      "text/plain": [
       "<Figure size 432x288 with 1 Axes>"
      ]
     },
     "metadata": {
      "needs_background": "light"
     },
     "output_type": "display_data"
    }
   ],
   "source": [
    "white_wine.plot.scatter(x = \"citric.acid\", y = \"volatile.acidity\",color='b')"
   ]
  },
  {
   "cell_type": "code",
   "execution_count": 28,
   "metadata": {},
   "outputs": [
    {
     "data": {
      "text/plain": [
       "<matplotlib.axes._subplots.AxesSubplot at 0x1ed4ee7e0c8>"
      ]
     },
     "execution_count": 28,
     "metadata": {},
     "output_type": "execute_result"
    },
    {
     "data": {
      "image/png": "[encoded data removed]",
      "text/plain": [
       "<Figure size 432x288 with 1 Axes>"
      ]
     },
     "metadata": {
      "needs_background": "light"
     },
     "output_type": "display_data"
    }
   ],
   "source": [
    "white_wine.plot.scatter(x = \"total.sulfur.dioxide\", y = \"free.sulfur.dioxide\",color='m')"
   ]
  },
  {
   "cell_type": "code",
   "execution_count": 29,
   "metadata": {},
   "outputs": [
    {
     "data": {
      "text/plain": [
       "<matplotlib.axes._subplots.AxesSubplot at 0x1ed4ebb2f08>"
      ]
     },
     "execution_count": 29,
     "metadata": {},
     "output_type": "execute_result"
    },
    {
     "data": {
      "image/png": "[encoded data removed]",
      "text/plain": [
       "<Figure size 432x288 with 1 Axes>"
      ]
     },
     "metadata": {
      "needs_background": "light"
     },
     "output_type": "display_data"
    }
   ],
   "source": [
    "white_wine.plot.scatter(x = \"volatile.acidity\", y = \"fixed.acidity\",color='r')"
   ]
  },
  {
   "cell_type": "code",
   "execution_count": 30,
   "metadata": {},
   "outputs": [
    {
     "data": {
      "text/plain": [
       "<matplotlib.axes._subplots.AxesSubplot at 0x1ed4ed97148>"
      ]
     },
     "execution_count": 30,
     "metadata": {},
     "output_type": "execute_result"
    },
    {
     "data": {
      "image/png": "[encoded data removed]",
      "text/plain": [
       "<Figure size 432x288 with 1 Axes>"
      ]
     },
     "metadata": {
      "needs_background": "light"
     },
     "output_type": "display_data"
    }
   ],
   "source": [
    "white_wine.plot.scatter(x = \"pH\", y = \"density\",color='g')"
   ]
  },
  {
   "cell_type": "code",
   "execution_count": 31,
   "metadata": {},
   "outputs": [
    {
     "data": {
      "text/plain": [
       "<matplotlib.axes._subplots.AxesSubplot at 0x1ed4eaff808>"
      ]
     },
     "execution_count": 31,
     "metadata": {},
     "output_type": "execute_result"
    },
    {
     "data": {
      "image/png": "[encoded data removed]",
      "text/plain": [
       "<Figure size 432x288 with 1 Axes>"
      ]
     },
     "metadata": {
      "needs_background": "light"
     },
     "output_type": "display_data"
    }
   ],
   "source": [
    "white_wine.plot.scatter(x = \"sulphates\", y = \"density\")"
   ]
  },
  {
   "cell_type": "markdown",
   "metadata": {},
   "source": [
    "# Task 2: PCA Analysis on the white-wine dataset Using Scikit-Learn"
   ]
  },
  {
   "cell_type": "markdown",
   "metadata": {},
   "source": [
    "# Feature Importance"
   ]
  },
  {
   "cell_type": "code",
   "execution_count": 32,
   "metadata": {},
   "outputs": [
    {
     "name": "stdout",
     "output_type": "stream",
     "text": [
      "   fixed.acidity  volatile.acidity  citric.acid  residual.sugar  chlorides  \\\n",
      "0            7.0              0.27         0.36            20.7      0.045   \n",
      "1            6.3              0.30         0.34             1.6      0.049   \n",
      "2            8.1              0.28         0.40             6.9      0.050   \n",
      "3            7.2              0.23         0.32             8.5      0.058   \n",
      "4            7.2              0.23         0.32             8.5      0.058   \n",
      "5            8.1              0.28         0.40             6.9      0.050   \n",
      "6            6.2              0.32         0.16             7.0      0.045   \n",
      "7            7.0              0.27         0.36            20.7      0.045   \n",
      "8            6.3              0.30         0.34             1.6      0.049   \n",
      "9            8.1              0.22         0.43             1.5      0.044   \n",
      "\n",
      "   free.sulfur.dioxide  total.sulfur.dioxide  density    pH  sulphates  \\\n",
      "0                 45.0                 170.0   1.0010  3.00       0.45   \n",
      "1                 14.0                 132.0   0.9940  3.30       0.49   \n",
      "2                 30.0                  97.0   0.9951  3.26       0.44   \n",
      "3                 47.0                 186.0   0.9956  3.19       0.40   \n",
      "4                 47.0                 186.0   0.9956  3.19       0.40   \n",
      "5                 30.0                  97.0   0.9951  3.26       0.44   \n",
      "6                 30.0                 136.0   0.9949  3.18       0.47   \n",
      "7                 45.0                 170.0   1.0010  3.00       0.45   \n",
      "8                 14.0                 132.0   0.9940  3.30       0.49   \n",
      "9                 28.0                 129.0   0.9938  3.22       0.45   \n",
      "\n",
      "   alcohol  quality  goodquality  \n",
      "0      8.8        6            0  \n",
      "1      9.5        6            0  \n",
      "2     10.1        6            0  \n",
      "3      9.9        6            0  \n",
      "4      9.9        6            0  \n",
      "5     10.1        6            0  \n",
      "6      9.6        6            0  \n",
      "7      8.8        6            0  \n",
      "8      9.5        6            0  \n",
      "9     11.0        6            0  \n",
      "   fixed.acidity  volatile.acidity  citric.acid  residual.sugar  chlorides  \\\n",
      "0       0.172097         -0.081770     0.213280        2.821349  -0.035355   \n",
      "1      -0.657501          0.215896     0.048001       -0.944765   0.147747   \n",
      "2       1.475751          0.017452     0.543838        0.100282   0.193523   \n",
      "3       0.409125         -0.478657    -0.117278        0.415768   0.559727   \n",
      "4       0.409125         -0.478657    -0.117278        0.415768   0.559727   \n",
      "5       1.475751          0.017452     0.543838        0.100282   0.193523   \n",
      "6      -0.776015          0.414339    -1.439511        0.120000  -0.035355   \n",
      "7       0.172097         -0.081770     0.213280        2.821349  -0.035355   \n",
      "8      -0.657501          0.215896     0.048001       -0.944765   0.147747   \n",
      "9       1.475751         -0.577879     0.791757       -0.964483  -0.081131   \n",
      "\n",
      "   free.sulfur.dioxide  total.sulfur.dioxide   density        pH  sulphates  \\\n",
      "0             0.569932              0.744565  2.331512 -1.246921  -0.349184   \n",
      "1            -1.253019             -0.149685 -0.009154  0.740029   0.001342   \n",
      "2            -0.312141             -0.973336  0.358665  0.475102  -0.436816   \n",
      "3             0.687541              1.121091  0.525855  0.011480  -0.787342   \n",
      "4             0.687541              1.121091  0.525855  0.011480  -0.787342   \n",
      "5            -0.312141             -0.973336  0.358665  0.475102  -0.436816   \n",
      "6            -0.312141             -0.055553  0.291789 -0.054751  -0.173921   \n",
      "7             0.569932              0.744565  2.331512 -1.246921  -0.349184   \n",
      "8            -1.253019             -0.149685 -0.009154  0.740029   0.001342   \n",
      "9            -0.429751             -0.220283 -0.076030  0.210175  -0.349184   \n",
      "\n",
      "    alcohol  quality  goodquality  \n",
      "0 -1.393152  0.13787    -0.525534  \n",
      "1 -0.824276  0.13787    -0.525534  \n",
      "2 -0.336667  0.13787    -0.525534  \n",
      "3 -0.499203  0.13787    -0.525534  \n",
      "4 -0.499203  0.13787    -0.525534  \n",
      "5 -0.336667  0.13787    -0.525534  \n",
      "6 -0.743008  0.13787    -0.525534  \n",
      "7 -1.393152  0.13787    -0.525534  \n",
      "8 -0.824276  0.13787    -0.525534  \n",
      "9  0.394746  0.13787    -0.525534  \n"
     ]
    }
   ],
   "source": [
    "numeric_data = white_wine.drop('Unnamed: 0', axis=1)\n",
    "print (numeric_data.head(10))\n",
    "numeric_data = (numeric_data - np.mean(numeric_data)) / np.std(numeric_data)\n",
    "\n",
    "print(numeric_data.head(10))"
   ]
  },
  {
   "cell_type": "code",
   "execution_count": 33,
   "metadata": {},
   "outputs": [
    {
     "name": "stdout",
     "output_type": "stream",
     "text": [
      "    fixed.acidity  volatile.acidity  citric.acid  residual.sugar  chlorides  \\\n",
      "0        0.172097         -0.081770     0.213280        2.821349  -0.035355   \n",
      "1       -0.657501          0.215896     0.048001       -0.944765   0.147747   \n",
      "2        1.475751          0.017452     0.543838        0.100282   0.193523   \n",
      "3        0.409125         -0.478657    -0.117278        0.415768   0.559727   \n",
      "4        0.409125         -0.478657    -0.117278        0.415768   0.559727   \n",
      "5        1.475751          0.017452     0.543838        0.100282   0.193523   \n",
      "6       -0.776015          0.414339    -1.439511        0.120000  -0.035355   \n",
      "7        0.172097         -0.081770     0.213280        2.821349  -0.035355   \n",
      "8       -0.657501          0.215896     0.048001       -0.944765   0.147747   \n",
      "9        1.475751         -0.577879     0.791757       -0.964483  -0.081131   \n",
      "10       1.475751         -0.081770     0.626478       -0.974342  -0.584661   \n",
      "11       2.068321         -0.478657     0.543838       -0.432100  -0.493110   \n",
      "12       1.238723         -0.974766     0.295920       -1.023637  -0.264233   \n",
      "13      -0.301959         -1.173210     0.543838       -0.964483  -0.081131   \n",
      "14       1.712779          1.406558     2.361908        2.535440  -0.264233   \n",
      "15      -0.301959         -1.073988     0.378559       -0.964483  -0.630437   \n",
      "16      -0.657501          2.001889    -2.431185       -1.043355   0.010421   \n",
      "17      -0.776015          3.787882     1.204955       -1.023637  -0.767763   \n",
      "18       0.646153          0.612783     0.709117       -1.043355  -0.584661   \n",
      "19      -0.420473          0.315117    -1.604790        0.218589  -0.081131   \n",
      "\n",
      "    free.sulfur.dioxide  total.sulfur.dioxide   density        pH  sulphates  \\\n",
      "0              0.569932              0.744565  2.331512 -1.246921  -0.349184   \n",
      "1             -1.253019             -0.149685 -0.009154  0.740029   0.001342   \n",
      "2             -0.312141             -0.973336  0.358665  0.475102  -0.436816   \n",
      "3              0.687541              1.121091  0.525855  0.011480  -0.787342   \n",
      "4              0.687541              1.121091  0.525855  0.011480  -0.787342   \n",
      "5             -0.312141             -0.973336  0.358665  0.475102  -0.436816   \n",
      "6             -0.312141             -0.055553  0.291789 -0.054751  -0.173921   \n",
      "7              0.569932              0.744565  2.331512 -1.246921  -0.349184   \n",
      "8             -1.253019             -0.149685 -0.009154  0.740029   0.001342   \n",
      "9             -0.429751             -0.220283 -0.076030  0.210175  -0.349184   \n",
      "10            -1.429433             -1.773454 -1.079173 -1.313153   0.614763   \n",
      "11            -1.076604             -0.690941  0.224912 -0.319678   0.351868   \n",
      "12            -1.135409             -1.491059 -0.677916 -0.054751   1.228183   \n",
      "13             0.746346              0.109177 -0.945421  2.329589   0.264236   \n",
      "14             0.334712              0.791631  2.064007 -1.379385   1.578709   \n",
      "15            -0.429751             -0.620342 -0.878544  0.408870   0.527131   \n",
      "16            -0.312141             -0.926270 -0.410411  0.342639  -1.137868   \n",
      "17            -0.370946             -1.491059 -1.614182  0.938724  -0.874973   \n",
      "18            -1.076604              0.768098 -0.778230 -0.452141   0.351868   \n",
      "19            -0.076922             -0.126152  0.492417  0.210175   0.088973   \n",
      "\n",
      "     alcohol   quality  goodquality  \n",
      "0  -1.393152  0.137870    -0.525534  \n",
      "1  -0.824276  0.137870    -0.525534  \n",
      "2  -0.336667  0.137870    -0.525534  \n",
      "3  -0.499203  0.137870    -0.525534  \n",
      "4  -0.499203  0.137870    -0.525534  \n",
      "5  -0.336667  0.137870    -0.525534  \n",
      "6  -0.743008  0.137870    -0.525534  \n",
      "7  -1.393152  0.137870    -0.525534  \n",
      "8  -0.824276  0.137870    -0.525534  \n",
      "9   0.394746  0.137870    -0.525534  \n",
      "10  1.207427 -0.991374    -0.525534  \n",
      "11 -0.661739 -0.991374    -0.525534  \n",
      "12  0.232210 -0.991374    -0.525534  \n",
      "13  1.532500  1.267114     1.902828  \n",
      "14 -0.661739 -0.991374    -0.525534  \n",
      "15  0.719818  1.267114     1.902828  \n",
      "16 -0.743008  0.137870    -0.525534  \n",
      "17  1.857572  2.396358     1.902828  \n",
      "18  0.638550  0.137870    -0.525534  \n",
      "19 -0.824276 -0.991374    -0.525534  \n"
     ]
    }
   ],
   "source": [
    "numeric_data = (numeric_data - np.mean(numeric_data)) / np.std(numeric_data)\n",
    "\n",
    "print(numeric_data.head(20))"
   ]
  },
  {
   "cell_type": "code",
   "execution_count": 34,
   "metadata": {},
   "outputs": [],
   "source": [
    "import sklearn.decomposition\n",
    "pca = sklearn.decomposition.PCA(n_components=2)\n",
    "principal_components = pca.fit(numeric_data).transform(numeric_data)"
   ]
  },
  {
   "cell_type": "code",
   "execution_count": 35,
   "metadata": {},
   "outputs": [
    {
     "data": {
      "image/png": "[encoded data removed]",
      "text/plain": [
       "<Figure size 432x288 with 1 Axes>"
      ]
     },
     "metadata": {
      "needs_background": "light"
     },
     "output_type": "display_data"
    }
   ],
   "source": [
    "import matplotlib.pyplot as plt\n",
    "from matplotlib.colors import ListedColormap\n",
    "from matplotlib.backends.backend_pdf import PdfPages\n",
    "observation_colormap = ListedColormap(['red', 'black'])\n",
    "x = principal_components[:,0]\n",
    "y = principal_components[:,1]\n",
    "plt.plot(principal_components[:,0], principal_components[:,1])\n",
    "plt.title(\"Principal Components of White Wine\")\n",
    "plt.scatter(x, y, alpha = 1,    c = white_wine['quality'], cmap = observation_colormap, edgecolors = 'green')\n",
    "plt.xlim(-6, 10); plt.ylim(-6, 10)\n",
    "plt.xlabel(\"Principal Component 1\"); \n",
    "plt.ylabel(\"Principal Component 2\")\n",
    "plt.show()"
   ]
  },
  {
   "cell_type": "markdown",
   "metadata": {},
   "source": [
    "# Task 3: Divide the white_wine dataset into a training set, a validation set, and a test set."
   ]
  },
  {
   "cell_type": "code",
   "execution_count": 36,
   "metadata": {},
   "outputs": [],
   "source": [
    "import numpy as np\n",
    "import pandas as pd\n",
    "\n",
    "#length of data \n",
    "N = 4898 \n",
    "scale=2\n",
    "\n",
    "\n",
    "#generated random data\n",
    "X, y = np.arange(N*scale).reshape((N, scale)), np.arange(N)\n",
    "\n",
    "#Works for pandas dataframe too\n",
    "\n",
    "def train_test_val(X, y, train_ratio, test_ratio, val_ratio):\n",
    "    assert sum([train_ratio, test_ratio, val_ratio])==1.0, \"wrong given ratio, all ratios have to sum to 1.0\"\n",
    "    assert X.shape[0]==len(y), \"X and y shape mismatch\"\n",
    "\n",
    "    ind_train = int(round(X.shape[0]*train_ratio))\n",
    "    ind_test = int(round(X.shape[0]*(train_ratio+test_ratio)))\n",
    "\n",
    "    X_train = X[:ind_train]\n",
    "    X_test = X[ind_train:ind_test]\n",
    "    X_val = X[ind_test:]\n",
    "\n",
    "    y_train = y[:ind_train]\n",
    "    y_test = y[ind_train:ind_test]\n",
    "    y_val = y[ind_test:]\n",
    "\n",
    "    return X_train, X_test, X_val, y_train, y_test, y_val\n",
    "# put ratio as you wish\n",
    "X_train, X_test, X_val, y_train, y_test, y_val=train_test_val(X, y, 0.8, 0.1, 0.1) "
   ]
  },
  {
   "cell_type": "markdown",
   "metadata": {},
   "source": [
    "# Feature Importance"
   ]
  },
  {
   "cell_type": "code",
   "execution_count": 37,
   "metadata": {},
   "outputs": [
    {
     "name": "stdout",
     "output_type": "stream",
     "text": [
      "[0.49608236 0.50391764]\n"
     ]
    }
   ],
   "source": [
    "from sklearn.linear_model import LogisticRegression\n",
    "model = LogisticRegression()\n",
    "\n",
    "from sklearn.ensemble import ExtraTreesClassifier\n",
    "classifiern = ExtraTreesClassifier()\n",
    "classifiern.fit(X,Y)\n",
    "score = classifiern.feature_importances_\n",
    "print(score)"
   ]
  },
  {
   "cell_type": "markdown",
   "metadata": {},
   "source": [
    "# Task 4: Investigate how the size of the training dataset affects the model performance on the test set."
   ]
  },
  {
   "cell_type": "code",
   "execution_count": 38,
   "metadata": {},
   "outputs": [
    {
     "name": "stdout",
     "output_type": "stream",
     "text": [
      "Accuracy Score: 0.8081632653061225\n",
      "confusion_matrix: [[396   0]\n",
      " [ 94   0]]\n"
     ]
    }
   ],
   "source": [
    "from sklearn.model_selection import train_test_split\n",
    "X_train, X_test, Y_train, Y_test = train_test_split(X,Y,test_size=0.1,random_state=7)\n",
    "from sklearn.linear_model import LogisticRegression\n",
    "model = LogisticRegression()\n",
    "model.fit(X_train,Y_train)\n",
    "Y_pred = model.predict(X_test)\n",
    "\n",
    "from sklearn.metrics import accuracy_score,confusion_matrix,f1_score, precision_score, recall_score\n",
    "print(\"Accuracy Score:\",accuracy_score(Y_test,Y_pred))\n",
    "print(\"confusion_matrix:\",confusion_matrix(Y_test,Y_pred))"
   ]
  },
  {
   "cell_type": "code",
   "execution_count": 39,
   "metadata": {},
   "outputs": [
    {
     "name": "stdout",
     "output_type": "stream",
     "text": [
      "Accuracy Score: 0.786734693877551\n",
      "confusion_matrix: [[771   0]\n",
      " [209   0]]\n"
     ]
    }
   ],
   "source": [
    "from sklearn.model_selection import train_test_split\n",
    "X_train, X_test, Y_train, Y_test = train_test_split(X,Y,test_size=0.2,random_state=7)\n",
    "from sklearn.linear_model import LogisticRegression\n",
    "model = LogisticRegression()\n",
    "model.fit(X_train,Y_train)\n",
    "Y_pred = model.predict(X_test)\n",
    "\n",
    "from sklearn.metrics import accuracy_score,confusion_matrix,f1_score, precision_score, recall_score\n",
    "print(\"Accuracy Score:\",accuracy_score(Y_test,Y_pred))\n",
    "print(\"confusion_matrix:\",confusion_matrix(Y_test,Y_pred))"
   ]
  },
  {
   "cell_type": "code",
   "execution_count": 40,
   "metadata": {},
   "outputs": [
    {
     "name": "stdout",
     "output_type": "stream",
     "text": [
      "Accuracy Score: 0.7945578231292517\n",
      "confusion_matrix: [[1168    0]\n",
      " [ 302    0]]\n"
     ]
    }
   ],
   "source": [
    "from sklearn.model_selection import train_test_split\n",
    "X_train, X_test, Y_train, Y_test = train_test_split(X,Y,test_size=0.3,random_state=7)\n",
    "from sklearn.linear_model import LogisticRegression\n",
    "model = LogisticRegression()\n",
    "model.fit(X_train,Y_train)\n",
    "Y_pred = model.predict(X_test)\n",
    "\n",
    "from sklearn.metrics import accuracy_score,confusion_matrix,f1_score, precision_score, recall_score\n",
    "print(\"Accuracy Score:\",accuracy_score(Y_test,Y_pred))\n",
    "print(\"confusion_matrix:\",confusion_matrix(Y_test,Y_pred))"
   ]
  },
  {
   "cell_type": "code",
   "execution_count": 41,
   "metadata": {},
   "outputs": [
    {
     "name": "stdout",
     "output_type": "stream",
     "text": [
      "Accuracy Score: 0.7892857142857143\n",
      "confusion_matrix: [[1547    0]\n",
      " [ 413    0]]\n"
     ]
    }
   ],
   "source": [
    "from sklearn.model_selection import train_test_split\n",
    "X_train, X_test, Y_train, Y_test = train_test_split(X,Y,test_size=0.4,random_state=7)\n",
    "from sklearn.linear_model import LogisticRegression\n",
    "model = LogisticRegression()\n",
    "model.fit(X_train,Y_train)\n",
    "Y_pred = model.predict(X_test)\n",
    "\n",
    "from sklearn.metrics import accuracy_score,confusion_matrix,f1_score, precision_score, recall_score\n",
    "print(\"Accuracy Score:\",accuracy_score(Y_test,Y_pred))\n",
    "print(\"confusion_matrix:\",confusion_matrix(Y_test,Y_pred))"
   ]
  },
  {
   "cell_type": "code",
   "execution_count": 42,
   "metadata": {},
   "outputs": [
    {
     "name": "stdout",
     "output_type": "stream",
     "text": [
      "Accuracy Score: 0.7852184565128624\n",
      "confusion_matrix: [[1923    0]\n",
      " [ 526    0]]\n"
     ]
    }
   ],
   "source": [
    "from sklearn.model_selection import train_test_split\n",
    "X_train, X_test, Y_train, Y_test = train_test_split(X,Y,test_size=0.5,random_state=7)\n",
    "from sklearn.linear_model import LogisticRegression\n",
    "model = LogisticRegression()\n",
    "model.fit(X_train,Y_train)\n",
    "Y_pred = model.predict(X_test)\n",
    "\n",
    "from sklearn.metrics import accuracy_score,confusion_matrix,f1_score, precision_score, recall_score\n",
    "print(\"Accuracy Score:\",accuracy_score(Y_test,Y_pred))\n",
    "print(\"confusion_matrix:\",confusion_matrix(Y_test,Y_pred))"
   ]
  },
  {
   "cell_type": "code",
   "execution_count": 43,
   "metadata": {},
   "outputs": [
    {
     "name": "stdout",
     "output_type": "stream",
     "text": [
      "Accuracy Score: 0.7846206192582511\n",
      "confusion_matrix: [[2306    0]\n",
      " [ 633    0]]\n"
     ]
    }
   ],
   "source": [
    "from sklearn.model_selection import train_test_split\n",
    "X_train, X_test, Y_train, Y_test = train_test_split(X,Y,test_size=0.6,random_state=7)\n",
    "from sklearn.linear_model import LogisticRegression\n",
    "model = LogisticRegression()\n",
    "model.fit(X_train,Y_train)\n",
    "Y_pred = model.predict(X_test)\n",
    "\n",
    "from sklearn.metrics import accuracy_score,confusion_matrix,f1_score, precision_score, recall_score\n",
    "print(\"Accuracy Score:\",accuracy_score(Y_test,Y_pred))\n",
    "print(\"confusion_matrix:\",confusion_matrix(Y_test,Y_pred))"
   ]
  },
  {
   "cell_type": "code",
   "execution_count": 44,
   "metadata": {},
   "outputs": [
    {
     "name": "stdout",
     "output_type": "stream",
     "text": [
      "Accuracy Score: 0.7801108194808982\n",
      "confusion_matrix: [[2675    0]\n",
      " [ 754    0]]\n"
     ]
    }
   ],
   "source": [
    "from sklearn.model_selection import train_test_split\n",
    "X_train, X_test, Y_train, Y_test = train_test_split(X,Y,test_size=0.7,random_state=7)\n",
    "from sklearn.linear_model import LogisticRegression\n",
    "model = LogisticRegression()\n",
    "model.fit(X_train,Y_train)\n",
    "Y_pred = model.predict(X_test)\n",
    "\n",
    "from sklearn.metrics import accuracy_score,confusion_matrix,f1_score, precision_score, recall_score\n",
    "print(\"Accuracy Score:\",accuracy_score(Y_test,Y_pred))\n",
    "print(\"confusion_matrix:\",confusion_matrix(Y_test,Y_pred))"
   ]
  },
  {
   "cell_type": "code",
   "execution_count": 45,
   "metadata": {},
   "outputs": [
    {
     "name": "stdout",
     "output_type": "stream",
     "text": [
      "Accuracy Score: 0.782597601428936\n",
      "confusion_matrix: [[3067    0]\n",
      " [ 852    0]]\n"
     ]
    }
   ],
   "source": [
    "from sklearn.model_selection import train_test_split\n",
    "X_train, X_test, Y_train, Y_test = train_test_split(X,Y,test_size=0.8,random_state=7)\n",
    "from sklearn.linear_model import LogisticRegression\n",
    "model = LogisticRegression()\n",
    "model.fit(X_train,Y_train)\n",
    "Y_pred = model.predict(X_test)\n",
    "\n",
    "from sklearn.metrics import accuracy_score,confusion_matrix,f1_score, precision_score, recall_score\n",
    "print(\"Accuracy Score:\",accuracy_score(Y_test,Y_pred))\n",
    "print(\"confusion_matrix:\",confusion_matrix(Y_test,Y_pred))"
   ]
  },
  {
   "cell_type": "code",
   "execution_count": 46,
   "metadata": {},
   "outputs": [
    {
     "name": "stdout",
     "output_type": "stream",
     "text": [
      "Accuracy Score: 0.7843048310274439\n",
      "confusion_matrix: [[3458    0]\n",
      " [ 951    0]]\n"
     ]
    }
   ],
   "source": [
    "from sklearn.model_selection import train_test_split\n",
    "X_train, X_test, Y_train, Y_test = train_test_split(X,Y,test_size=0.9,random_state=7)\n",
    "from sklearn.linear_model import LogisticRegression\n",
    "model = LogisticRegression()\n",
    "model.fit(X_train,Y_train)\n",
    "Y_pred = model.predict(X_test)\n",
    "\n",
    "from sklearn.metrics import accuracy_score,confusion_matrix,f1_score, precision_score, recall_score\n",
    "print(\"Accuracy Score:\",accuracy_score(Y_test,Y_pred))\n",
    "print(\"confusion_matrix:\",confusion_matrix(Y_test,Y_pred))"
   ]
  },
  {
   "cell_type": "code",
   "execution_count": 47,
   "metadata": {},
   "outputs": [
    {
     "name": "stdout",
     "output_type": "stream",
     "text": [
      "Accuracy Score: 0.7863945578231293\n",
      "confusion_matrix: [[578   0]\n",
      " [157   0]]\n"
     ]
    }
   ],
   "source": [
    "from sklearn.model_selection import train_test_split\n",
    "X_train, X_test, Y_train, Y_test = train_test_split(X,Y,test_size=0.15,random_state=7)\n",
    "from sklearn.linear_model import LogisticRegression\n",
    "model = LogisticRegression()\n",
    "model.fit(X_train,Y_train)\n",
    "Y_pred = model.predict(X_test)\n",
    "\n",
    "from sklearn.metrics import accuracy_score,confusion_matrix,f1_score, precision_score, recall_score\n",
    "print(\"Accuracy Score:\",accuracy_score(Y_test,Y_pred))\n",
    "print(\"confusion_matrix:\",confusion_matrix(Y_test,Y_pred))"
   ]
  },
  {
   "cell_type": "markdown",
   "metadata": {},
   "source": [
    "# Task 5: Critical Discussion: write your conclusions using critical thinking (no more than 150 words)in your Jupyter notebook submission."
   ]
  },
  {
   "cell_type": "raw",
   "metadata": {},
   "source": [
    "The dataset is from the https://archive.ics.uci.edu/ml/machine-learning-databases/wine-quality/ repository for the UCI machine learning database. The original estimates contain 4898 white wine findings. We have the following attributes: acidity, volatile acidity, citric acid, sugar residue, chloride, sulfur dioxide, sulfure dioxide, density, pH, sulphates and alcohol for each of us: wine and eleven chemicals. The links between wine quality and chemical attributes were explored. Implemented Principal Analysis of Components (PCA) is a technique to decrease dataset dimensionality, increase interpretability while minimizing loss of information. It does so by generating new unfixed variables to increase variance successively, which have been successfully used on the white wine dataset. Chosen Machine Learning Algorithm for Logistic Regression. Logistic regression explains the relationships between one dependent binary variable and independent variables and estimates them. The overall accuracy reached in this algorithm is 80.81%"
   ]
  }
 ],
 "metadata": {
  "kernelspec": {
   "display_name": "Python 3",
   "language": "python",
   "name": "python3"
  },
  "language_info": {
   "codemirror_mode": {
    "name": "ipython",
    "version": 3
   },
   "file_extension": ".py",
   "mimetype": "text/x-python",
   "name": "python",
   "nbconvert_exporter": "python",
   "pygments_lexer": "ipython3",
   "version": "3.7.6"
  }
 },
 "nbformat": 4,
 "nbformat_minor": 4
}
