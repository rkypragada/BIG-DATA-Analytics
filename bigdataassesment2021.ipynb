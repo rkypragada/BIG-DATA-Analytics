{
 "cells": [
  {
   "cell_type": "markdown",
   "metadata": {
    "id": "Qr4JYxvnTgXr"
   },
   "source": [
    "# \"Big Data Analytics\" [CN7031] CRWK 2020-21"
   ]
  },
  {
   "cell_type": "markdown",
   "metadata": {
    "id": "1zUiXhlLTs4h"
   },
   "source": [
    "# SPARK INITIATION THROUGH COLAB"
   ]
  },
  {
   "cell_type": "code",
   "execution_count": 1,
   "metadata": {
    "colab": {
     "base_uri": "https://localhost:8080/"
    },
    "id": "24jZUPq_dmjG",
    "outputId": "232bdf21-da45-4f32-c996-4d6e9ba2acf8"
   },
   "outputs": [
    {
     "name": "stdout",
     "output_type": "stream",
     "text": [
      "Mounted at /content/drive\n"
     ]
    }
   ],
   "source": [
    "# MOUNTING THE DRIVE\n",
    "from google.colab import drive\n",
    "drive.mount('/content/drive')"
   ]
  },
  {
   "cell_type": "code",
   "execution_count": 2,
   "metadata": {
    "colab": {
     "base_uri": "https://localhost:8080/"
    },
    "id": "q9q9_Y96d_-n",
    "outputId": "e43cfb16-dc45-450c-91b3-dc92fa22ae36"
   },
   "outputs": [
    {
     "name": "stdout",
     "output_type": "stream",
     "text": [
      "\r",
      "0% [Working]\r",
      "            \r",
      "Hit:1 http://archive.ubuntu.com/ubuntu bionic InRelease\n",
      "\r",
      "0% [Waiting for headers] [Connected to cloud.r-project.org (13.227.220.16)] [Wa\r",
      "                                                                               \r",
      "Get:2 http://archive.ubuntu.com/ubuntu bionic-updates InRelease [88.7 kB]\n",
      "\r",
      "                                                                               \r",
      "Get:3 http://security.ubuntu.com/ubuntu bionic-security InRelease [88.7 kB]\n",
      "\r",
      "                                                                               \r",
      "Get:4 http://ppa.launchpad.net/c2d4u.team/c2d4u4.0+/ubuntu bionic InRelease [15.9 kB]\n",
      "\r",
      "                                                                               \r",
      "Hit:5 http://ppa.launchpad.net/cran/libgit2/ubuntu bionic InRelease\n",
      "\r",
      "0% [Waiting for headers] [Connected to cloud.r-project.org (13.227.220.16)] [Co\r",
      "0% [1 InRelease gpgv 242 kB] [Waiting for headers] [Connected to cloud.r-projec\r",
      "                                                                               \r",
      "Get:6 http://archive.ubuntu.com/ubuntu bionic-backports InRelease [74.6 kB]\n",
      "\r",
      "0% [1 InRelease gpgv 242 kB] [6 InRelease 17.1 kB/74.6 kB 23%] [Waiting for hea\r",
      "                                                                               \r",
      "Get:7 https://cloud.r-project.org/bin/linux/ubuntu bionic-cran40/ InRelease [3,626 B]\n",
      "\r",
      "                                                                               \r",
      "0% [1 InRelease gpgv 242 kB] [Waiting for headers] [Waiting for headers]\r",
      "                                                                        \r",
      "Hit:8 http://ppa.launchpad.net/deadsnakes/ppa/ubuntu bionic InRelease\n",
      "\r",
      "0% [1 InRelease gpgv 242 kB] [Connecting to ppa.launchpad.net (91.189.95.85)] [\r",
      "                                                                               \r",
      "Get:9 http://ppa.launchpad.net/graphics-drivers/ppa/ubuntu bionic InRelease [21.3 kB]\n",
      "Ign:10 https://developer.download.nvidia.com/compute/cuda/repos/ubuntu1804/x86_64  InRelease\n",
      "Get:11 http://archive.ubuntu.com/ubuntu bionic-updates/universe amd64 Packages [2,165 kB]\n",
      "Ign:12 https://developer.download.nvidia.com/compute/machine-learning/repos/ubuntu1804/x86_64  InRelease\n",
      "Hit:13 https://developer.download.nvidia.com/compute/cuda/repos/ubuntu1804/x86_64  Release\n",
      "Hit:14 https://developer.download.nvidia.com/compute/machine-learning/repos/ubuntu1804/x86_64  Release\n",
      "Get:15 http://archive.ubuntu.com/ubuntu bionic-updates/main amd64 Packages [2,439 kB]\n",
      "Get:16 http://archive.ubuntu.com/ubuntu bionic-updates/restricted amd64 Packages [368 kB]\n",
      "Get:17 http://security.ubuntu.com/ubuntu bionic-security/restricted amd64 Packages [339 kB]\n",
      "Get:18 http://security.ubuntu.com/ubuntu bionic-security/main amd64 Packages [2,009 kB]\n",
      "Get:19 http://ppa.launchpad.net/c2d4u.team/c2d4u4.0+/ubuntu bionic/main Sources [1,747 kB]\n",
      "Get:20 http://ppa.launchpad.net/c2d4u.team/c2d4u4.0+/ubuntu bionic/main amd64 Packages [894 kB]\n",
      "Get:21 http://ppa.launchpad.net/graphics-drivers/ppa/ubuntu bionic/main amd64 Packages [49.4 kB]\n",
      "Fetched 10.3 MB in 2s (6,269 kB/s)\n",
      "Reading package lists... Done\n"
     ]
    }
   ],
   "source": [
    "# UPDATING AND DOWNLOADING THE REQUIRED PACKAGES\n",
    "!sudo apt-get update\n",
    "!apt-get install openjdk-8-jdk-headless -qq > /dev/null\n",
    "!wget -q https://mirrors.estointernet.in/apache/spark/spark-3.1.1/spark-3.1.1-bin-hadoop3.2.tgz\n",
    "!tar xf spark-3.1.1-bin-hadoop3.2.tgz\n",
    "!pip install -q findspark"
   ]
  },
  {
   "cell_type": "code",
   "execution_count": 3,
   "metadata": {
    "id": "Hh4tonOfeH8G"
   },
   "outputs": [],
   "source": [
    "# CONFIGURING THE JAVA AND SPARK PATH\n",
    "import os\n",
    "os.environ[\"JAVA_HOME\"]=\"/usr/lib/jvm/java-8-openjdk-amd64\"\n",
    "os.environ[\"SPARK_HOME\"]=\"/content/spark-3.1.1-bin-hadoop3.2\"\n",
    "# IDENTIFYING SPARK\n",
    "import findspark\n",
    "findspark.init()"
   ]
  },
  {
   "cell_type": "code",
   "execution_count": 4,
   "metadata": {
    "id": "d_6eRofCeWx4"
   },
   "outputs": [],
   "source": [
    "# STARTING A PYSPARK SESSION\n",
    "from pyspark.sql import SparkSession\n",
    "spark = SparkSession.builder.master(\"local[*]\").appName('Group ID G 15').getOrCreate()"
   ]
  },
  {
   "cell_type": "code",
   "execution_count": 5,
   "metadata": {
    "id": "nwvYeFzxejVa"
   },
   "outputs": [],
   "source": [
    "# IMPORTING INDIVIDUAL DATA FILES OF THE DATASET\n",
    "data_frame_01 = spark.read.load(\"/content/drive/MyDrive/data/02_14_2018.csv\", format=\"csv\", inferSchema=True, header=True)\n",
    "data_frame_02 = spark.read.load(\"/content/drive/MyDrive/data/02_15_2018.csv\", format=\"csv\", inferSchema=True, header=True)\n",
    "data_frame_03 = spark.read.load(\"/content/drive/MyDrive/data/02_16_2018.csv\", format=\"csv\", inferSchema=True, header=True)\n",
    "data_frame_04 = spark.read.load(\"/content/drive/MyDrive/data/02_21_2018.csv\", format=\"csv\", inferSchema=True, header=True)\n",
    "data_frame_05 = spark.read.load(\"/content/drive/MyDrive/data/02_22_2018.csv\", format=\"csv\", inferSchema=True, header=True)\n",
    "data_frame_06 = spark.read.load(\"/content/drive/MyDrive/data/02_23_2018.csv\", format=\"csv\", inferSchema=True, header=True)\n",
    "data_frame_07 = spark.read.load(\"/content/drive/MyDrive/data/02_28_2018.csv\", format=\"csv\", inferSchema=True, header=True)\n",
    "data_frame_08 = spark.read.load(\"/content/drive/MyDrive/data/03_01_2018.csv\", format=\"csv\", inferSchema=True, header=True)\n",
    "data_frame_09 = spark.read.load(\"/content/drive/MyDrive/data/03_02_2018.csv\", format=\"csv\", inferSchema=True, header=True)"
   ]
  },
  {
   "cell_type": "code",
   "execution_count": 6,
   "metadata": {
    "id": "-NM33yIMlW3N"
   },
   "outputs": [],
   "source": [
    "# DATA FRAME CREATION\n",
    "from pyspark.sql import DataFrame\n",
    "all_data_frames = [data_frame_01, data_frame_02, data_frame_03, data_frame_04, data_frame_05, data_frame_06, data_frame_07, data_frame_08, data_frame_09]"
   ]
  },
  {
   "cell_type": "code",
   "execution_count": 7,
   "metadata": {
    "id": "fdeWB7wBl2wM"
   },
   "outputs": [],
   "source": [
    "# COMBINING ALL THE DATA FRAMES\n",
    "from functools import reduce\n",
    "dataframeunion = reduce(DataFrame.unionAll, all_data_frames)"
   ]
  },
  {
   "cell_type": "code",
   "execution_count": 8,
   "metadata": {
    "colab": {
     "base_uri": "https://localhost:8080/"
    },
    "id": "u5h5bTRQmlKM",
    "outputId": "ba6b1b8e-ccd4-4958-c6c8-b66eaffb41b8"
   },
   "outputs": [
    {
     "data": {
      "text/plain": [
       "DataFrame[Dst Port: int, Protocol: int, Timestamp: string, Flow Duration: bigint, Tot Fwd Pkts: int, Tot Bwd Pkts: int, TotLen Fwd Pkts: int, TotLen Bwd Pkts: double, Fwd Pkt Len Max: int, Fwd Pkt Len Min: int, Fwd Pkt Len Mean: double, Fwd Pkt Len Std: double, Bwd Pkt Len Max: int, Bwd Pkt Len Min: int, Bwd Pkt Len Mean: double, Bwd Pkt Len Std: double, Flow Byts/s: double, Flow Pkts/s: double, Flow IAT Mean: double, Flow IAT Std: double, Flow IAT Max: double, Flow IAT Min: double, Fwd IAT Tot: double, Fwd IAT Mean: double, Fwd IAT Std: double, Fwd IAT Max: double, Fwd IAT Min: double, Bwd IAT Tot: double, Bwd IAT Mean: double, Bwd IAT Std: double, Bwd IAT Max: double, Bwd IAT Min: double, Fwd PSH Flags: int, Bwd PSH Flags: int, Fwd URG Flags: int, Bwd URG Flags: int, Fwd Header Len: int, Bwd Header Len: int, Fwd Pkts/s: double, Bwd Pkts/s: double, Pkt Len Min: int, Pkt Len Max: int, Pkt Len Mean: double, Pkt Len Std: double, Pkt Len Var: double, FIN Flag Cnt: int, SYN Flag Cnt: int, RST Flag Cnt: int, PSH Flag Cnt: int, ACK Flag Cnt: int, URG Flag Cnt: int, CWE Flag Count: int, ECE Flag Cnt: int, Down/Up Ratio: int, Pkt Size Avg: double, Fwd Seg Size Avg: double, Bwd Seg Size Avg: double, Fwd Byts/b Avg: int, Fwd Pkts/b Avg: int, Fwd Blk Rate Avg: string, Bwd Byts/b Avg: int, Bwd Pkts/b Avg: int, Bwd Blk Rate Avg: int, Subflow Fwd Pkts: int, Subflow Fwd Byts: int, Subflow Bwd Pkts: int, Subflow Bwd Byts: int, Init Fwd Win Byts: int, Init Bwd Win Byts: int, Fwd Act Data Pkts: int, Fwd Seg Size Min: int, Active Mean: double, Active Std: double, Active Max: double, Active Min: double, Idle Mean: double, Idle Std: double, Idle Max: double, Idle Min: double, Label: string]"
      ]
     },
     "execution_count": 8,
     "metadata": {
      "tags": []
     },
     "output_type": "execute_result"
    }
   ],
   "source": [
    "# VERIFYING THE CREATED DATAFRAME\n",
    "dataframeunion "
   ]
  },
  {
   "cell_type": "code",
   "execution_count": 9,
   "metadata": {
    "colab": {
     "base_uri": "https://localhost:8080/"
    },
    "id": "oJWm6CV8nnBH",
    "outputId": "f07e9c8c-3d16-4aaa-bcf6-803ce220cd53"
   },
   "outputs": [
    {
     "name": "stdout",
     "output_type": "stream",
     "text": [
      "root\n",
      " |-- Dst Port: integer (nullable = true)\n",
      " |-- Protocol: integer (nullable = true)\n",
      " |-- Timestamp: string (nullable = true)\n",
      " |-- Flow Duration: long (nullable = true)\n",
      " |-- Tot Fwd Pkts: integer (nullable = true)\n",
      " |-- Tot Bwd Pkts: integer (nullable = true)\n",
      " |-- TotLen Fwd Pkts: integer (nullable = true)\n",
      " |-- TotLen Bwd Pkts: double (nullable = true)\n",
      " |-- Fwd Pkt Len Max: integer (nullable = true)\n",
      " |-- Fwd Pkt Len Min: integer (nullable = true)\n",
      " |-- Fwd Pkt Len Mean: double (nullable = true)\n",
      " |-- Fwd Pkt Len Std: double (nullable = true)\n",
      " |-- Bwd Pkt Len Max: integer (nullable = true)\n",
      " |-- Bwd Pkt Len Min: integer (nullable = true)\n",
      " |-- Bwd Pkt Len Mean: double (nullable = true)\n",
      " |-- Bwd Pkt Len Std: double (nullable = true)\n",
      " |-- Flow Byts/s: double (nullable = true)\n",
      " |-- Flow Pkts/s: double (nullable = true)\n",
      " |-- Flow IAT Mean: double (nullable = true)\n",
      " |-- Flow IAT Std: double (nullable = true)\n",
      " |-- Flow IAT Max: double (nullable = true)\n",
      " |-- Flow IAT Min: double (nullable = true)\n",
      " |-- Fwd IAT Tot: double (nullable = true)\n",
      " |-- Fwd IAT Mean: double (nullable = true)\n",
      " |-- Fwd IAT Std: double (nullable = true)\n",
      " |-- Fwd IAT Max: double (nullable = true)\n",
      " |-- Fwd IAT Min: double (nullable = true)\n",
      " |-- Bwd IAT Tot: double (nullable = true)\n",
      " |-- Bwd IAT Mean: double (nullable = true)\n",
      " |-- Bwd IAT Std: double (nullable = true)\n",
      " |-- Bwd IAT Max: double (nullable = true)\n",
      " |-- Bwd IAT Min: double (nullable = true)\n",
      " |-- Fwd PSH Flags: integer (nullable = true)\n",
      " |-- Bwd PSH Flags: integer (nullable = true)\n",
      " |-- Fwd URG Flags: integer (nullable = true)\n",
      " |-- Bwd URG Flags: integer (nullable = true)\n",
      " |-- Fwd Header Len: integer (nullable = true)\n",
      " |-- Bwd Header Len: integer (nullable = true)\n",
      " |-- Fwd Pkts/s: double (nullable = true)\n",
      " |-- Bwd Pkts/s: double (nullable = true)\n",
      " |-- Pkt Len Min: integer (nullable = true)\n",
      " |-- Pkt Len Max: integer (nullable = true)\n",
      " |-- Pkt Len Mean: double (nullable = true)\n",
      " |-- Pkt Len Std: double (nullable = true)\n",
      " |-- Pkt Len Var: double (nullable = true)\n",
      " |-- FIN Flag Cnt: integer (nullable = true)\n",
      " |-- SYN Flag Cnt: integer (nullable = true)\n",
      " |-- RST Flag Cnt: integer (nullable = true)\n",
      " |-- PSH Flag Cnt: integer (nullable = true)\n",
      " |-- ACK Flag Cnt: integer (nullable = true)\n",
      " |-- URG Flag Cnt: integer (nullable = true)\n",
      " |-- CWE Flag Count: integer (nullable = true)\n",
      " |-- ECE Flag Cnt: integer (nullable = true)\n",
      " |-- Down/Up Ratio: integer (nullable = true)\n",
      " |-- Pkt Size Avg: double (nullable = true)\n",
      " |-- Fwd Seg Size Avg: double (nullable = true)\n",
      " |-- Bwd Seg Size Avg: double (nullable = true)\n",
      " |-- Fwd Byts/b Avg: integer (nullable = true)\n",
      " |-- Fwd Pkts/b Avg: integer (nullable = true)\n",
      " |-- Fwd Blk Rate Avg: string (nullable = true)\n",
      " |-- Bwd Byts/b Avg: integer (nullable = true)\n",
      " |-- Bwd Pkts/b Avg: integer (nullable = true)\n",
      " |-- Bwd Blk Rate Avg: integer (nullable = true)\n",
      " |-- Subflow Fwd Pkts: integer (nullable = true)\n",
      " |-- Subflow Fwd Byts: integer (nullable = true)\n",
      " |-- Subflow Bwd Pkts: integer (nullable = true)\n",
      " |-- Subflow Bwd Byts: integer (nullable = true)\n",
      " |-- Init Fwd Win Byts: integer (nullable = true)\n",
      " |-- Init Bwd Win Byts: integer (nullable = true)\n",
      " |-- Fwd Act Data Pkts: integer (nullable = true)\n",
      " |-- Fwd Seg Size Min: integer (nullable = true)\n",
      " |-- Active Mean: double (nullable = true)\n",
      " |-- Active Std: double (nullable = true)\n",
      " |-- Active Max: double (nullable = true)\n",
      " |-- Active Min: double (nullable = true)\n",
      " |-- Idle Mean: double (nullable = true)\n",
      " |-- Idle Std: double (nullable = true)\n",
      " |-- Idle Max: double (nullable = true)\n",
      " |-- Idle Min: double (nullable = true)\n",
      " |-- Label: string (nullable = true)\n",
      "\n"
     ]
    }
   ],
   "source": [
    "dataframeunion.printSchema()"
   ]
  },
  {
   "cell_type": "markdown",
   "metadata": {
    "id": "LKnNzcaJoSgj"
   },
   "source": [
    "# **PySpark QUERIES** -- **TASK 1**\n",
    "\n",
    "\n",
    "\n",
    "\n",
    "\n"
   ]
  },
  {
   "cell_type": "code",
   "execution_count": 10,
   "metadata": {
    "id": "sV_LgpPEpJ5T"
   },
   "outputs": [],
   "source": [
    "# SPARK VIEW CREATION\n",
    "from pyspark.sql import functions as F\n",
    "# ELIMINATING WHITE SPACES IN THE ATTRIBUTE NAMES\n",
    "dataframeunion = dataframeunion.select([F.col(col).alias(col.replace(' ', '').replace('/','_')) for col in dataframeunion.columns])\n",
    "dataframeunion.createOrReplaceTempView('dataframeunion')"
   ]
  },
  {
   "cell_type": "code",
   "execution_count": 11,
   "metadata": {
    "colab": {
     "base_uri": "https://localhost:8080/"
    },
    "id": "5N2ULbg2p-Bw",
    "outputId": "82919ab7-da20-4f69-ad8f-a97500043a47"
   },
   "outputs": [
    {
     "name": "stdout",
     "output_type": "stream",
     "text": [
      "root\n",
      " |-- DstPort: integer (nullable = true)\n",
      " |-- Protocol: integer (nullable = true)\n",
      " |-- Timestamp: string (nullable = true)\n",
      " |-- FlowDuration: long (nullable = true)\n",
      " |-- TotFwdPkts: integer (nullable = true)\n",
      " |-- TotBwdPkts: integer (nullable = true)\n",
      " |-- TotLenFwdPkts: integer (nullable = true)\n",
      " |-- TotLenBwdPkts: double (nullable = true)\n",
      " |-- FwdPktLenMax: integer (nullable = true)\n",
      " |-- FwdPktLenMin: integer (nullable = true)\n",
      " |-- FwdPktLenMean: double (nullable = true)\n",
      " |-- FwdPktLenStd: double (nullable = true)\n",
      " |-- BwdPktLenMax: integer (nullable = true)\n",
      " |-- BwdPktLenMin: integer (nullable = true)\n",
      " |-- BwdPktLenMean: double (nullable = true)\n",
      " |-- BwdPktLenStd: double (nullable = true)\n",
      " |-- FlowByts_s: double (nullable = true)\n",
      " |-- FlowPkts_s: double (nullable = true)\n",
      " |-- FlowIATMean: double (nullable = true)\n",
      " |-- FlowIATStd: double (nullable = true)\n",
      " |-- FlowIATMax: double (nullable = true)\n",
      " |-- FlowIATMin: double (nullable = true)\n",
      " |-- FwdIATTot: double (nullable = true)\n",
      " |-- FwdIATMean: double (nullable = true)\n",
      " |-- FwdIATStd: double (nullable = true)\n",
      " |-- FwdIATMax: double (nullable = true)\n",
      " |-- FwdIATMin: double (nullable = true)\n",
      " |-- BwdIATTot: double (nullable = true)\n",
      " |-- BwdIATMean: double (nullable = true)\n",
      " |-- BwdIATStd: double (nullable = true)\n",
      " |-- BwdIATMax: double (nullable = true)\n",
      " |-- BwdIATMin: double (nullable = true)\n",
      " |-- FwdPSHFlags: integer (nullable = true)\n",
      " |-- BwdPSHFlags: integer (nullable = true)\n",
      " |-- FwdURGFlags: integer (nullable = true)\n",
      " |-- BwdURGFlags: integer (nullable = true)\n",
      " |-- FwdHeaderLen: integer (nullable = true)\n",
      " |-- BwdHeaderLen: integer (nullable = true)\n",
      " |-- FwdPkts_s: double (nullable = true)\n",
      " |-- BwdPkts_s: double (nullable = true)\n",
      " |-- PktLenMin: integer (nullable = true)\n",
      " |-- PktLenMax: integer (nullable = true)\n",
      " |-- PktLenMean: double (nullable = true)\n",
      " |-- PktLenStd: double (nullable = true)\n",
      " |-- PktLenVar: double (nullable = true)\n",
      " |-- FINFlagCnt: integer (nullable = true)\n",
      " |-- SYNFlagCnt: integer (nullable = true)\n",
      " |-- RSTFlagCnt: integer (nullable = true)\n",
      " |-- PSHFlagCnt: integer (nullable = true)\n",
      " |-- ACKFlagCnt: integer (nullable = true)\n",
      " |-- URGFlagCnt: integer (nullable = true)\n",
      " |-- CWEFlagCount: integer (nullable = true)\n",
      " |-- ECEFlagCnt: integer (nullable = true)\n",
      " |-- Down_UpRatio: integer (nullable = true)\n",
      " |-- PktSizeAvg: double (nullable = true)\n",
      " |-- FwdSegSizeAvg: double (nullable = true)\n",
      " |-- BwdSegSizeAvg: double (nullable = true)\n",
      " |-- FwdByts_bAvg: integer (nullable = true)\n",
      " |-- FwdPkts_bAvg: integer (nullable = true)\n",
      " |-- FwdBlkRateAvg: string (nullable = true)\n",
      " |-- BwdByts_bAvg: integer (nullable = true)\n",
      " |-- BwdPkts_bAvg: integer (nullable = true)\n",
      " |-- BwdBlkRateAvg: integer (nullable = true)\n",
      " |-- SubflowFwdPkts: integer (nullable = true)\n",
      " |-- SubflowFwdByts: integer (nullable = true)\n",
      " |-- SubflowBwdPkts: integer (nullable = true)\n",
      " |-- SubflowBwdByts: integer (nullable = true)\n",
      " |-- InitFwdWinByts: integer (nullable = true)\n",
      " |-- InitBwdWinByts: integer (nullable = true)\n",
      " |-- FwdActDataPkts: integer (nullable = true)\n",
      " |-- FwdSegSizeMin: integer (nullable = true)\n",
      " |-- ActiveMean: double (nullable = true)\n",
      " |-- ActiveStd: double (nullable = true)\n",
      " |-- ActiveMax: double (nullable = true)\n",
      " |-- ActiveMin: double (nullable = true)\n",
      " |-- IdleMean: double (nullable = true)\n",
      " |-- IdleStd: double (nullable = true)\n",
      " |-- IdleMax: double (nullable = true)\n",
      " |-- IdleMin: double (nullable = true)\n",
      " |-- Label: string (nullable = true)\n",
      "\n"
     ]
    }
   ],
   "source": [
    "# PRINTING THE MODIFIED SCHEMA OF THE DATASET\n",
    "dataframeunion.printSchema()"
   ]
  },
  {
   "cell_type": "code",
   "execution_count": 12,
   "metadata": {
    "id": "f8-V_zeCUBwA"
   },
   "outputs": [],
   "source": [
    "import pyspark\n",
    "from pyspark.sql import SparkSession\n",
    "from pyspark.sql.functions import approx_count_distinct,collect_list\n",
    "from pyspark.sql.functions import collect_set,sum,avg,max,countDistinct,count\n",
    "from pyspark.sql.functions import first, last, kurtosis, min, mean, skewness \n",
    "from pyspark.sql.functions import stddev, stddev_samp, stddev_pop, sumDistinct\n",
    "from pyspark.sql.functions import variance,var_samp,  var_pop"
   ]
  },
  {
   "cell_type": "code",
   "execution_count": 13,
   "metadata": {
    "colab": {
     "base_uri": "https://localhost:8080/",
     "height": 472
    },
    "id": "OIyNpjI_wLe9",
    "outputId": "79529e6c-f0c4-46f2-b592-42de33a58f80"
   },
   "outputs": [
    {
     "name": "stdout",
     "output_type": "stream",
     "text": [
      "+-------------------+-----+\n",
      "|          Timestamp|count|\n",
      "+-------------------+-----+\n",
      "|21/02/2018 10:38:44|    1|\n",
      "|14/02/2018 05:18:08|    1|\n",
      "|14/02/2018 04:06:58|    1|\n",
      "|14/02/2018 05:10:38|    1|\n",
      "|14/02/2018 05:29:50|    1|\n",
      "|15/02/2018 05:34:32|    1|\n",
      "|16/02/2018 01:03:50|    1|\n",
      "|21/02/2018 10:11:48|    1|\n",
      "|21/02/2018 10:36:21|    1|\n",
      "|14/02/2018 05:01:58|    1|\n",
      "|21/02/2018 10:40:34|    1|\n",
      "|21/02/2018 09:00:07|    1|\n",
      "|21/02/2018 10:14:38|    1|\n",
      "|21/02/2018 09:03:35|    1|\n",
      "|28/02/2018 05:39:37|    1|\n",
      "|28/02/2018 05:32:08|    1|\n",
      "|28/02/2018 09:01:33|    1|\n",
      "|28/02/2018 02:48:25|    1|\n",
      "|28/02/2018 12:14:11|    1|\n",
      "|28/02/2018 02:59:02|    1|\n",
      "+-------------------+-----+\n",
      "only showing top 20 rows\n",
      "\n"
     ]
    },
    {
     "data": {
      "application/vnd.google.colaboratory.intrinsic+json": {
       "type": "string"
      },
      "text/plain": [
       "\"#Graphically representing the above query\\nquery1_1 = query1.toPandas()\\nquery1_1.plot.bar (x='Timestamp',y='count',figsize=(10,5))\""
      ]
     },
     "execution_count": 13,
     "metadata": {
      "tags": []
     },
     "output_type": "execute_result"
    }
   ],
   "source": [
    "#QUERY@1 -- IMPLEMENTING GROUPBY & ORDERBY\n",
    "dataframeunion.select('Timestamp').groupBy('Timestamp').count().orderBy('count', ascending=True).show()\n",
    "'''#Graphically representing the above query\n",
    "query1_1 = query1.toPandas()\n",
    "query1_1.plot.bar (x='Timestamp',y='count',figsize=(10,5))'''"
   ]
  },
  {
   "cell_type": "code",
   "execution_count": 14,
   "metadata": {
    "colab": {
     "base_uri": "https://localhost:8080/"
    },
    "id": "GDvyTg0T2hgV",
    "outputId": "2ef0e111-af7c-46ea-8411-d2331d48571b"
   },
   "outputs": [
    {
     "name": "stdout",
     "output_type": "stream",
     "text": [
      "+-------+--------+-------------------+------------+----------+----------+-------------+-------------+------------+------------+-------------+--------------+------------+------------+--------------+--------------+---------------+-------------+----------------+----------------+-----------+-----------+------------+----------------+----------------+-----------+-----------+---------+----------------+----------------+---------+---------+-----------+-----------+-----------+-----------+------------+------------+-------------+------------+---------+---------+--------------+--------------+----------------+----------+----------+----------+----------+----------+----------+------------+----------+------------+--------------+-------------+--------------+------------+------------+-------------+------------+------------+-------------+--------------+--------------+--------------+--------------+--------------+--------------+--------------+-------------+----------+---------+---------+---------+------------+--------------+-----------+-----------+------+\n",
      "|DstPort|Protocol|Timestamp          |FlowDuration|TotFwdPkts|TotBwdPkts|TotLenFwdPkts|TotLenBwdPkts|FwdPktLenMax|FwdPktLenMin|FwdPktLenMean|FwdPktLenStd  |BwdPktLenMax|BwdPktLenMin|BwdPktLenMean |BwdPktLenStd  |FlowByts_s     |FlowPkts_s   |FlowIATMean     |FlowIATStd      |FlowIATMax |FlowIATMin |FwdIATTot   |FwdIATMean      |FwdIATStd       |FwdIATMax  |FwdIATMin  |BwdIATTot|BwdIATMean      |BwdIATStd       |BwdIATMax|BwdIATMin|FwdPSHFlags|BwdPSHFlags|FwdURGFlags|BwdURGFlags|FwdHeaderLen|BwdHeaderLen|FwdPkts_s    |BwdPkts_s   |PktLenMin|PktLenMax|PktLenMean    |PktLenStd     |PktLenVar       |FINFlagCnt|SYNFlagCnt|RSTFlagCnt|PSHFlagCnt|ACKFlagCnt|URGFlagCnt|CWEFlagCount|ECEFlagCnt|Down_UpRatio|PktSizeAvg    |FwdSegSizeAvg|BwdSegSizeAvg |FwdByts_bAvg|FwdPkts_bAvg|FwdBlkRateAvg|BwdByts_bAvg|BwdPkts_bAvg|BwdBlkRateAvg|SubflowFwdPkts|SubflowFwdByts|SubflowBwdPkts|SubflowBwdByts|InitFwdWinByts|InitBwdWinByts|FwdActDataPkts|FwdSegSizeMin|ActiveMean|ActiveStd|ActiveMax|ActiveMin|IdleMean    |IdleStd       |IdleMax    |IdleMin    |Label |\n",
      "+-------+--------+-------------------+------------+----------+----------+-------------+-------------+------------+------------+-------------+--------------+------------+------------+--------------+--------------+---------------+-------------+----------------+----------------+-----------+-----------+------------+----------------+----------------+-----------+-----------+---------+----------------+----------------+---------+---------+-----------+-----------+-----------+-----------+------------+------------+-------------+------------+---------+---------+--------------+--------------+----------------+----------+----------+----------+----------+----------+----------+------------+----------+------------+--------------+-------------+--------------+------------+------------+-------------+------------+------------+-------------+--------------+--------------+--------------+--------------+--------------+--------------+--------------+-------------+----------+---------+---------+---------+------------+--------------+-----------+-----------+------+\n",
      "|0      |0       |14/02/2018 08:31:01|112641719   |3         |0         |0            |0.0          |0           |0           |0.0          |0.0           |0           |0           |0.0           |0.0           |0.0            |0.0266331163 |5.63208595E7    |139.3000358938  |5.6320958E7|5.6320761E7|1.12641719E8|5.63208595E7    |139.3000358938  |5.6320958E7|5.6320761E7|0.0      |0.0             |0.0             |0.0      |0.0      |0          |0          |0          |0          |0           |0           |0.0266331163 |0.0         |0        |0        |0.0           |0.0           |0.0             |0         |0         |0         |0         |0         |0         |0           |0         |0           |0.0           |0.0          |0.0           |0           |0           |0            |0           |0           |0            |3             |0             |0             |0             |-1            |-1            |0             |0            |0.0       |0.0      |0.0      |0.0      |5.63208595E7|139.3000358938|5.6320958E7|5.6320761E7|Benign|\n",
      "|0      |0       |14/02/2018 08:33:50|112641466   |3         |0         |0            |0.0          |0           |0           |0.0          |0.0           |0           |0           |0.0           |0.0           |0.0            |0.0266331761 |5.6320733E7     |114.5512985522  |5.6320814E7|5.6320652E7|1.12641466E8|5.6320733E7     |114.5512985522  |5.6320814E7|5.6320652E7|0.0      |0.0             |0.0             |0.0      |0.0      |0          |0          |0          |0          |0           |0           |0.0266331761 |0.0         |0        |0        |0.0           |0.0           |0.0             |0         |0         |0         |0         |0         |0         |0           |0         |0           |0.0           |0.0          |0.0           |0           |0           |0            |0           |0           |0            |3             |0             |0             |0             |-1            |-1            |0             |0            |0.0       |0.0      |0.0      |0.0      |5.6320733E7 |114.5512985522|5.6320814E7|5.6320652E7|Benign|\n",
      "|0      |0       |14/02/2018 08:36:39|112638623   |3         |0         |0            |0.0          |0           |0           |0.0          |0.0           |0           |0           |0.0           |0.0           |0.0            |0.0266338483 |5.63193115E7    |301.9345955667  |5.6319525E7|5.6319098E7|1.12638623E8|5.63193115E7    |301.9345955667  |5.6319525E7|5.6319098E7|0.0      |0.0             |0.0             |0.0      |0.0      |0          |0          |0          |0          |0           |0           |0.0266338483 |0.0         |0        |0        |0.0           |0.0           |0.0             |0         |0         |0         |0         |0         |0         |0           |0         |0           |0.0           |0.0          |0.0           |0           |0           |0            |0           |0           |0            |3             |0             |0             |0             |-1            |-1            |0             |0            |0.0       |0.0      |0.0      |0.0      |5.63193115E7|301.9345955667|5.6319525E7|5.6319098E7|Benign|\n",
      "|22     |6       |14/02/2018 08:40:13|6453966     |15        |10        |1239         |2273.0       |744         |0           |82.6         |196.7412368715|976         |0           |227.3         |371.6778922072|544.1615279659 |3.8735871865 |268915.25       |247443.778966007|673900.0   |22.0       |6453966.0   |460997.571428571|123109.423587757|673900.0   |229740.0   |5637902.0|626433.555555556|455082.21422401 |1167293.0|554.0    |0          |0          |0          |0          |488         |328         |2.3241523119 |1.5494348746|0        |976      |135.0769230769|277.8347599674|77192.1538461539|0         |0         |0         |1         |0         |0         |0           |0         |0           |140.48        |82.6         |227.3         |0           |0           |0            |0           |0           |0            |15            |1239          |10            |2273          |65535         |233           |6             |32           |0.0       |0.0      |0.0      |0.0      |0.0         |0.0           |0.0        |0.0        |Benign|\n",
      "|22     |6       |14/02/2018 08:40:23|8804066     |14        |11        |1143         |2209.0       |744         |0           |81.6428571429|203.7455453568|976         |0           |200.8181818182|362.2498635422|380.7331748762 |2.839597068  |366836.083333333|511356.609732762|1928102.0  |21.0       |8804066.0   |677235.846153846|532416.970958985|1928102.0  |246924.0   |7715481.0|771548.1        |755543.082716951|2174893.0|90.0     |0          |0          |0          |0          |456         |360         |1.5901743581 |1.2494227099|0        |976      |128.9230769231|279.7630315931|78267.3538461539|0         |0         |0         |1         |0         |0         |0           |0         |0           |134.08        |81.6428571429|200.8181818182|0           |0           |0            |0           |0           |0            |14            |1143          |11            |2209          |5808          |233           |6             |32           |0.0       |0.0      |0.0      |0.0      |0.0         |0.0           |0.0        |0.0        |Benign|\n",
      "|22     |6       |14/02/2018 08:40:31|6989341     |16        |12        |1239         |2273.0       |744         |0           |77.4375      |190.8311535538|976         |0           |189.4166666667|347.6425694023|502.4794183028 |4.0061001459 |258864.481481481|291724.14791076 |951098.0   |20.0       |6989341.0   |465956.066666667|244363.896416351|951098.0   |265831.0   |5980598.0|543690.727272727|460713.519752371|1254338.0|78.0     |0          |0          |0          |0          |332         |252         |2.2892000834 |1.7169000625|0        |976      |121.1034482759|265.7086676402|70601.0960591133|0         |0         |0         |1         |0         |0         |0           |0         |0           |125.4285714286|77.4375      |189.4166666667|0           |0           |0            |0           |0           |0            |16            |1239          |12            |2273          |5808          |234           |7             |20           |0.0       |0.0      |0.0      |0.0      |0.0         |0.0           |0.0        |0.0        |Benign|\n",
      "|0      |0       |14/02/2018 08:39:28|112640480   |3         |0         |0            |0.0          |0           |0           |0.0          |0.0           |0           |0           |0.0           |0.0           |0.0            |0.0266334092 |5.632024E7      |203.6467529817  |5.6320384E7|5.6320096E7|1.1264048E8 |5.632024E7      |203.6467529817  |5.6320384E7|5.6320096E7|0.0      |0.0             |0.0             |0.0      |0.0      |0          |0          |0          |0          |0           |0           |0.0266334092 |0.0         |0        |0        |0.0           |0.0           |0.0             |0         |0         |0         |0         |0         |0         |0           |0         |0           |0.0           |0.0          |0.0           |0           |0           |0            |0           |0           |0            |3             |0             |0             |0             |-1            |-1            |0             |0            |0.0       |0.0      |0.0      |0.0      |5.632024E7  |203.6467529817|5.6320384E7|5.6320096E7|Benign|\n",
      "|0      |0       |14/02/2018 08:42:17|112641244   |3         |0         |0            |0.0          |0           |0           |0.0          |0.0           |0           |0           |0.0           |0.0           |0.0            |0.0266332286 |5.6320622E7     |62.2253967444   |5.6320666E7|5.6320578E7|1.12641244E8|5.6320622E7     |62.2253967444   |5.6320666E7|5.6320578E7|0.0      |0.0             |0.0             |0.0      |0.0      |0          |0          |0          |0          |0           |0           |0.0266332286 |0.0         |0        |0        |0.0           |0.0           |0.0             |0         |0         |0         |0         |0         |0         |0           |0         |0           |0.0           |0.0          |0.0           |0           |0           |0            |0           |0           |0            |3             |0             |0             |0             |-1            |-1            |0             |0            |0.0       |0.0      |0.0      |0.0      |5.6320622E7 |62.2253967444 |5.6320666E7|5.6320578E7|Benign|\n",
      "|80     |6       |14/02/2018 08:47:14|476513      |5         |3         |211          |463.0        |211         |0           |42.2         |94.3620686505 |463         |0           |154.3333333333|267.3131746348|1414.4419984345|16.7886290615|68073.2857142857|115865.792656438|237711.0   |24.0       |476513.0    |119128.25       |137379.963358017|238470.0   |108.0      |238634.0 |119317.0        |167621.076693833|237843.0 |791.0    |0          |0          |0          |0          |168         |104         |10.4928931635|6.2957358981|0        |463      |74.8888888889 |161.4058893322|26051.8611111111|0         |0         |0         |1         |0         |0         |0           |0         |0           |84.25         |42.2         |154.3333333333|0           |0           |0            |0           |0           |0            |5             |211           |3             |463           |14600         |219           |1             |32           |0.0       |0.0      |0.0      |0.0      |0.0         |0.0           |0.0        |0.0        |Benign|\n",
      "|80     |6       |14/02/2018 08:47:15|475048      |5         |3         |220          |472.0        |220         |0           |44.0         |98.38699101   |472         |0           |157.3333333333|272.5093270575|1456.6949024099|16.8404034961|67864.0         |115746.933154476|237494.0   |15.0       |475048.0    |118762.0        |137096.759626185|237853.0   |15.0       |237516.0 |118758.0        |167472.584269784|237179.0 |337.0    |0          |0          |0          |0          |168         |104         |10.525252185 |6.315151311 |0        |472      |76.8888888889 |165.0669897681|27247.1111111111|0         |0         |0         |1         |0         |0         |0           |0         |0           |86.5          |44.0         |157.3333333333|0           |0           |0            |0           |0           |0            |5             |220           |3             |472           |14600         |219           |1             |32           |0.0       |0.0      |0.0      |0.0      |0.0         |0.0           |0.0        |0.0        |Benign|\n",
      "|80     |6       |14/02/2018 08:47:15|474926      |5         |3         |220          |472.0        |220         |0           |44.0         |98.38699101   |472         |0           |157.3333333333|272.5093270575|1457.0691012916|16.8447294947|67846.5714285714|115645.740842248|237162.0   |15.0       |474926.0    |118731.5        |136923.365842601|237497.0   |15.0       |237732.0 |118866.0        |167663.503100705|237422.0 |310.0    |0          |0          |0          |0          |168         |104         |10.5279559342|6.3167735605|0        |472      |76.8888888889 |165.0669897681|27247.1111111111|0         |0         |0         |1         |0         |0         |0           |0         |0           |86.5          |44.0         |157.3333333333|0           |0           |0            |0           |0           |0            |5             |220           |3             |472           |14480         |219           |1             |32           |0.0       |0.0      |0.0      |0.0      |0.0         |0.0           |0.0        |0.0        |Benign|\n",
      "|80     |6       |14/02/2018 08:47:16|477471      |5         |3         |209          |461.0        |209         |0           |41.8         |93.4676414595 |461         |0           |153.6666666667|266.1584740964|1403.2265833946|16.7549442793|68210.1428571429|116178.228792989|238389.0   |17.0       |477471.0    |119367.75       |137516.508224467|238515.0   |149.0      |238887.0 |119443.5        |168454.755588852|238559.0 |328.0    |0          |0          |0          |0          |168         |104         |10.4718401746|6.2831041048|0        |461      |74.4444444444 |160.5942955954|25790.5277777778|0         |0         |0         |1         |0         |0         |0           |0         |0           |83.75         |41.8         |153.6666666667|0           |0           |0            |0           |0           |0            |5             |209           |3             |461           |14480         |219           |1             |32           |0.0       |0.0      |0.0      |0.0      |0.0         |0.0           |0.0        |0.0        |Benign|\n",
      "|80     |6       |14/02/2018 08:47:16|512758      |5         |3         |211          |463.0        |211         |0           |42.2         |94.3620686505 |463         |0           |154.3333333333|267.3131746348|1314.4602327024|15.6019018718|73251.1428571429|124959.473740394|256188.0   |10.0       |512758.0    |128189.5        |148006.106082373|256523.0   |10.0       |256563.0 |128281.5        |180935.190276795|256222.0 |341.0    |0          |0          |0          |0          |168         |104         |9.7511886699 |5.8507132019|0        |463      |74.8888888889 |161.4058893322|26051.8611111111|0         |0         |0         |1         |0         |0         |0           |0         |0           |84.25         |42.2         |154.3333333333|0           |0           |0            |0           |0           |0            |5             |211           |3             |463           |14480         |219           |1             |32           |0.0       |0.0      |0.0      |0.0      |0.0         |0.0           |0.0        |0.0        |Benign|\n",
      "|80     |6       |14/02/2018 08:47:17|476711      |5         |3         |206          |458.0        |206         |0           |41.2         |92.126000673  |458         |0           |152.6666666667|264.4264232888|1392.8774456641|16.7816559719|68101.5714285714|115977.215079597|238034.0   |16.0       |476711.0    |119177.75       |137207.36560009 |238274.0   |78.0       |238033.0 |119016.5        |168007.864103143|237816.0 |217.0    |0          |0          |0          |0          |168         |104         |10.4885349824|6.2931209894|0        |458      |73.7777777778 |159.3783060659|25401.4444444444|0         |0         |0         |1         |0         |0         |0           |0         |0           |83.0          |41.2         |152.6666666667|0           |0           |0            |0           |0           |0            |5             |206           |3             |458           |14480         |219           |1             |32           |0.0       |0.0      |0.0      |0.0      |0.0         |0.0           |0.0        |0.0        |Benign|\n",
      "|80     |6       |14/02/2018 08:47:17|476616      |5         |3         |211          |463.0        |211         |0           |42.2         |94.3620686505 |463         |0           |154.3333333333|267.3131746348|1414.1363277775|16.7850009232|68088.0         |115553.073301117|237285.0   |8.0        |476616.0    |119154.0        |136576.972942001|237558.0   |8.0        |237660.0 |118830.0        |167563.093937776|237315.0 |345.0    |0          |0          |0          |0          |168         |104         |10.490625577 |6.2943753462|0        |463      |74.8888888889 |161.4058893322|26051.8611111111|0         |0         |0         |1         |0         |0         |0           |0         |0           |84.25         |42.2         |154.3333333333|0           |0           |0            |0           |0           |0            |5             |211           |3             |463           |14480         |219           |1             |32           |0.0       |0.0      |0.0      |0.0      |0.0         |0.0           |0.0        |0.0        |Benign|\n",
      "|80     |6       |14/02/2018 08:47:18|477161      |5         |3         |211          |463.0        |211         |0           |42.2         |94.3620686505 |463         |0           |154.3333333333|267.3131746348|1412.5211406632|16.7658295628|68165.8571428572|116324.530541969|238504.0   |12.0       |477161.0    |119290.25       |137729.560342905|238719.0   |12.0       |238618.0 |119309.0        |168449.805841384|238421.0 |197.0    |0          |0          |0          |0          |168         |104         |10.4786434767|6.287186086 |0        |463      |74.8888888889 |161.4058893322|26051.8611111111|0         |0         |0         |1         |0         |0         |0           |0         |0           |84.25         |42.2         |154.3333333333|0           |0           |0            |0           |0           |0            |5             |211           |3             |463           |14480         |219           |1             |32           |0.0       |0.0      |0.0      |0.0      |0.0         |0.0           |0.0        |0.0        |Benign|\n",
      "|80     |6       |14/02/2018 08:47:18|474670      |5         |3         |214          |466.0        |214         |0           |42.8         |95.703709437  |466         |0           |155.3333333333|269.0452254424|1432.5742094508|16.8538142288|67810.0         |115371.262364883|236717.0   |15.0       |474670.0    |118667.5        |136423.221362787|236894.0   |55.0       |236992.0 |118496.0        |167297.22178805 |236793.0 |199.0    |0          |0          |0          |0          |168         |104         |10.533633893 |6.3201803358|0        |466      |75.5555555556 |162.6246530443|26446.7777777778|0         |0         |0         |1         |0         |0         |0           |0         |0           |85.0          |42.8         |155.3333333333|0           |0           |0            |0           |0           |0            |5             |214           |3             |466           |14480         |219           |1             |32           |0.0       |0.0      |0.0      |0.0      |0.0         |0.0           |0.0        |0.0        |Benign|\n",
      "|80     |6       |14/02/2018 08:47:19|476608      |5         |3         |209          |461.0        |209         |0           |41.8         |93.4676414595 |461         |0           |153.6666666667|266.1584740964|1405.7674231234|16.7852826642|68086.8571428572|116165.357657993|238154.0   |21.0       |476608.0    |119152.0        |137536.399945614|238349.0   |28.0       |238442.0 |119221.0        |168305.556058022|238231.0 |211.0    |0          |0          |0          |0          |168         |104         |10.4908016651|6.2944809991|0        |461      |74.4444444444 |160.5942955954|25790.5277777778|0         |0         |0         |1         |0         |0         |0           |0         |0           |83.75         |41.8         |153.6666666667|0           |0           |0            |0           |0           |0            |5             |209           |3             |461           |14480         |219           |1             |32           |0.0       |0.0      |0.0      |0.0      |0.0         |0.0           |0.0        |0.0        |Benign|\n",
      "|80     |6       |14/02/2018 08:47:19|479249      |5         |3         |215          |467.0        |215         |0           |43.0         |96.1509230325 |467         |0           |155.6666666667|269.6225757116|1423.0598290242|16.6927839182|68464.1428571429|116522.185511928|239061.0   |18.0       |479249.0    |119812.25       |137797.592674606|239270.0   |21.0       |239238.0 |119619.0        |168903.768394906|239052.0 |186.0    |0          |0          |0          |0          |168         |104         |10.4329899489|6.2597939693|0        |467      |75.7777777778 |163.0312683029|26579.1944444444|0         |0         |0         |1         |0         |0         |0           |0         |0           |85.25         |43.0         |155.6666666667|0           |0           |0            |0           |0           |0            |5             |215           |3             |467           |14480         |219           |1             |32           |0.0       |0.0      |0.0      |0.0      |0.0         |0.0           |0.0        |0.0        |Benign|\n",
      "|80     |6       |14/02/2018 08:47:20|475967      |5         |3         |215          |467.0        |215         |0           |43.0         |96.1509230325 |467         |0           |155.6666666667|269.6225757116|1432.8724470394|16.8078879418|67995.2857142857|115929.081086548|237703.0   |16.0       |475967.0    |118991.75       |137195.538016305|237904.0   |21.0       |237915.0 |118957.5        |167975.337191208|237734.0 |181.0    |0          |0          |0          |0          |168         |104         |10.5049299636|6.3029579782|0        |467      |75.7777777778 |163.0312683029|26579.1944444444|0         |0         |0         |1         |0         |0         |0           |0         |0           |85.25         |43.0         |155.6666666667|0           |0           |0            |0           |0           |0            |5             |215           |3             |467           |14480         |219           |1             |32           |0.0       |0.0      |0.0      |0.0      |0.0         |0.0           |0.0        |0.0        |Benign|\n",
      "+-------+--------+-------------------+------------+----------+----------+-------------+-------------+------------+------------+-------------+--------------+------------+------------+--------------+--------------+---------------+-------------+----------------+----------------+-----------+-----------+------------+----------------+----------------+-----------+-----------+---------+----------------+----------------+---------+---------+-----------+-----------+-----------+-----------+------------+------------+-------------+------------+---------+---------+--------------+--------------+----------------+----------+----------+----------+----------+----------+----------+------------+----------+------------+--------------+-------------+--------------+------------+------------+-------------+------------+------------+-------------+--------------+--------------+--------------+--------------+--------------+--------------+--------------+-------------+----------+---------+---------+---------+------------+--------------+-----------+-----------+------+\n",
      "only showing top 20 rows\n",
      "\n"
     ]
    }
   ],
   "source": [
    "# QUERY@2 -- IMPLEMENTING THE DROP CONCEPT\n",
    "dataframeunion.na.drop(how=\"any\").show(truncate=False)"
   ]
  },
  {
   "cell_type": "code",
   "execution_count": 15,
   "metadata": {
    "colab": {
     "base_uri": "https://localhost:8080/"
    },
    "id": "xL6eQXpH8oBe",
    "outputId": "89894409-ab4e-435f-e612-5867209e684e"
   },
   "outputs": [
    {
     "name": "stdout",
     "output_type": "stream",
     "text": [
      "+------------------------------+\n",
      "|count(DISTINCT DstPort, Label)|\n",
      "+------------------------------+\n",
      "|73892                         |\n",
      "+------------------------------+\n",
      "\n",
      "Distinct Count of DstPort &amp; Label: 73892\n"
     ]
    }
   ],
   "source": [
    "#QUERY@3 -- IMPLEMENTING THE COUNT DISTINCT\n",
    "df2 = dataframeunion.select(countDistinct(\"DstPort\", \"Label\"))\n",
    "df2.show(truncate=False)\n",
    "print(\"Distinct Count of DstPort &amp; Label: \"+str(df2.collect()[0][0]))"
   ]
  },
  {
   "cell_type": "code",
   "execution_count": 16,
   "metadata": {
    "colab": {
     "base_uri": "https://localhost:8080/"
    },
    "id": "zg3GRdDt9tWm",
    "outputId": "eb287e22-c390-4a57-f418-6273ef557692"
   },
   "outputs": [
    {
     "name": "stdout",
     "output_type": "stream",
     "text": [
      "count: Row(count(FwdHeaderLen)=8284191)\n"
     ]
    }
   ],
   "source": [
    "#QUERY@4 -- IMPLEMNTING THE COUNT W.R.T. A ROW\n",
    "print(\"count: \"+str(dataframeunion.select(count(\"FwdHeaderLen\")).collect()[0]))"
   ]
  },
  {
   "cell_type": "code",
   "execution_count": 17,
   "metadata": {
    "colab": {
     "base_uri": "https://localhost:8080/"
    },
    "id": "T0yyFAU_V4HA",
    "outputId": "f42f7f6c-2a7a-4ce3-b0e0-ca8602569735"
   },
   "outputs": [
    {
     "name": "stdout",
     "output_type": "stream",
     "text": [
      "+-------------+\n",
      "|    FwdPkts_s|\n",
      "+-------------+\n",
      "| 0.0266331163|\n",
      "| 0.0266331761|\n",
      "| 0.0266338483|\n",
      "| 2.3241523119|\n",
      "| 1.5901743581|\n",
      "| 2.2892000834|\n",
      "| 0.0266334092|\n",
      "| 0.0266332286|\n",
      "|10.4928931635|\n",
      "| 10.525252185|\n",
      "|10.5279559342|\n",
      "|10.4718401746|\n",
      "| 9.7511886699|\n",
      "|10.4885349824|\n",
      "| 10.490625577|\n",
      "|10.4786434767|\n",
      "| 10.533633893|\n",
      "|10.4908016651|\n",
      "|10.4329899489|\n",
      "|10.5049299636|\n",
      "+-------------+\n",
      "only showing top 20 rows\n",
      "\n"
     ]
    }
   ],
   "source": [
    "#QUERY@5 -- IMPLEMENTING WHERE CLAUSE\n",
    "dataframeunion.where(~dataframeunion['FwdPkts_s'].like('Down_UpRatio'))[['FwdPkts_s']]\\\n",
    ".show()"
   ]
  },
  {
   "cell_type": "code",
   "execution_count": 18,
   "metadata": {
    "colab": {
     "base_uri": "https://localhost:8080/"
    },
    "id": "-YLX1oyKV6i9",
    "outputId": "3f2e3b55-d737-414d-a72d-e2df74ca38e5"
   },
   "outputs": [
    {
     "name": "stdout",
     "output_type": "stream",
     "text": [
      "+-------+--------+-------------------+------------+----------+----------+-------------+-------------+------------+------------+-------------+--------------+------------+------------+--------------+--------------+---------------+-------------+----------------+----------------+----------+----------+---------+----------------+----------------+---------+---------+---------+----------------+----------------+---------+---------+-----------+-----------+-----------+-----------+------------+------------+-------------+------------+---------+---------+--------------+--------------+----------------+----------+----------+----------+----------+----------+----------+------------+----------+------------+--------------+-------------+--------------+------------+------------+-------------+------------+------------+-------------+--------------+--------------+--------------+--------------+--------------+--------------+--------------+-------------+----------+---------+---------+---------+--------+-------+-------+-------+------+\n",
      "|DstPort|Protocol|Timestamp          |FlowDuration|TotFwdPkts|TotBwdPkts|TotLenFwdPkts|TotLenBwdPkts|FwdPktLenMax|FwdPktLenMin|FwdPktLenMean|FwdPktLenStd  |BwdPktLenMax|BwdPktLenMin|BwdPktLenMean |BwdPktLenStd  |FlowByts_s     |FlowPkts_s   |FlowIATMean     |FlowIATStd      |FlowIATMax|FlowIATMin|FwdIATTot|FwdIATMean      |FwdIATStd       |FwdIATMax|FwdIATMin|BwdIATTot|BwdIATMean      |BwdIATStd       |BwdIATMax|BwdIATMin|FwdPSHFlags|BwdPSHFlags|FwdURGFlags|BwdURGFlags|FwdHeaderLen|BwdHeaderLen|FwdPkts_s    |BwdPkts_s   |PktLenMin|PktLenMax|PktLenMean    |PktLenStd     |PktLenVar       |FINFlagCnt|SYNFlagCnt|RSTFlagCnt|PSHFlagCnt|ACKFlagCnt|URGFlagCnt|CWEFlagCount|ECEFlagCnt|Down_UpRatio|PktSizeAvg    |FwdSegSizeAvg|BwdSegSizeAvg |FwdByts_bAvg|FwdPkts_bAvg|FwdBlkRateAvg|BwdByts_bAvg|BwdPkts_bAvg|BwdBlkRateAvg|SubflowFwdPkts|SubflowFwdByts|SubflowBwdPkts|SubflowBwdByts|InitFwdWinByts|InitBwdWinByts|FwdActDataPkts|FwdSegSizeMin|ActiveMean|ActiveStd|ActiveMax|ActiveMin|IdleMean|IdleStd|IdleMax|IdleMin|Label |\n",
      "+-------+--------+-------------------+------------+----------+----------+-------------+-------------+------------+------------+-------------+--------------+------------+------------+--------------+--------------+---------------+-------------+----------------+----------------+----------+----------+---------+----------------+----------------+---------+---------+---------+----------------+----------------+---------+---------+-----------+-----------+-----------+-----------+------------+------------+-------------+------------+---------+---------+--------------+--------------+----------------+----------+----------+----------+----------+----------+----------+------------+----------+------------+--------------+-------------+--------------+------------+------------+-------------+------------+------------+-------------+--------------+--------------+--------------+--------------+--------------+--------------+--------------+-------------+----------+---------+---------+---------+--------+-------+-------+-------+------+\n",
      "|22     |6       |14/02/2018 08:40:13|6453966     |15        |10        |1239         |2273.0       |744         |0           |82.6         |196.7412368715|976         |0           |227.3         |371.6778922072|544.1615279659 |3.8735871865 |268915.25       |247443.778966007|673900.0  |22.0      |6453966.0|460997.571428571|123109.423587757|673900.0 |229740.0 |5637902.0|626433.555555556|455082.21422401 |1167293.0|554.0    |0          |0          |0          |0          |488         |328         |2.3241523119 |1.5494348746|0        |976      |135.0769230769|277.8347599674|77192.1538461539|0         |0         |0         |1         |0         |0         |0           |0         |0           |140.48        |82.6         |227.3         |0           |0           |0            |0           |0           |0            |15            |1239          |10            |2273          |65535         |233           |6             |32           |0.0       |0.0      |0.0      |0.0      |0.0     |0.0    |0.0    |0.0    |Benign|\n",
      "|22     |6       |14/02/2018 08:40:23|8804066     |14        |11        |1143         |2209.0       |744         |0           |81.6428571429|203.7455453568|976         |0           |200.8181818182|362.2498635422|380.7331748762 |2.839597068  |366836.083333333|511356.609732762|1928102.0 |21.0      |8804066.0|677235.846153846|532416.970958985|1928102.0|246924.0 |7715481.0|771548.1        |755543.082716951|2174893.0|90.0     |0          |0          |0          |0          |456         |360         |1.5901743581 |1.2494227099|0        |976      |128.9230769231|279.7630315931|78267.3538461539|0         |0         |0         |1         |0         |0         |0           |0         |0           |134.08        |81.6428571429|200.8181818182|0           |0           |0            |0           |0           |0            |14            |1143          |11            |2209          |5808          |233           |6             |32           |0.0       |0.0      |0.0      |0.0      |0.0     |0.0    |0.0    |0.0    |Benign|\n",
      "|22     |6       |14/02/2018 08:40:31|6989341     |16        |12        |1239         |2273.0       |744         |0           |77.4375      |190.8311535538|976         |0           |189.4166666667|347.6425694023|502.4794183028 |4.0061001459 |258864.481481481|291724.14791076 |951098.0  |20.0      |6989341.0|465956.066666667|244363.896416351|951098.0 |265831.0 |5980598.0|543690.727272727|460713.519752371|1254338.0|78.0     |0          |0          |0          |0          |332         |252         |2.2892000834 |1.7169000625|0        |976      |121.1034482759|265.7086676402|70601.0960591133|0         |0         |0         |1         |0         |0         |0           |0         |0           |125.4285714286|77.4375      |189.4166666667|0           |0           |0            |0           |0           |0            |16            |1239          |12            |2273          |5808          |234           |7             |20           |0.0       |0.0      |0.0      |0.0      |0.0     |0.0    |0.0    |0.0    |Benign|\n",
      "|80     |6       |14/02/2018 08:47:14|476513      |5         |3         |211          |463.0        |211         |0           |42.2         |94.3620686505 |463         |0           |154.3333333333|267.3131746348|1414.4419984345|16.7886290615|68073.2857142857|115865.792656438|237711.0  |24.0      |476513.0 |119128.25       |137379.963358017|238470.0 |108.0    |238634.0 |119317.0        |167621.076693833|237843.0 |791.0    |0          |0          |0          |0          |168         |104         |10.4928931635|6.2957358981|0        |463      |74.8888888889 |161.4058893322|26051.8611111111|0         |0         |0         |1         |0         |0         |0           |0         |0           |84.25         |42.2         |154.3333333333|0           |0           |0            |0           |0           |0            |5             |211           |3             |463           |14600         |219           |1             |32           |0.0       |0.0      |0.0      |0.0      |0.0     |0.0    |0.0    |0.0    |Benign|\n",
      "|80     |6       |14/02/2018 08:47:15|475048      |5         |3         |220          |472.0        |220         |0           |44.0         |98.38699101   |472         |0           |157.3333333333|272.5093270575|1456.6949024099|16.8404034961|67864.0         |115746.933154476|237494.0  |15.0      |475048.0 |118762.0        |137096.759626185|237853.0 |15.0     |237516.0 |118758.0        |167472.584269784|237179.0 |337.0    |0          |0          |0          |0          |168         |104         |10.525252185 |6.315151311 |0        |472      |76.8888888889 |165.0669897681|27247.1111111111|0         |0         |0         |1         |0         |0         |0           |0         |0           |86.5          |44.0         |157.3333333333|0           |0           |0            |0           |0           |0            |5             |220           |3             |472           |14600         |219           |1             |32           |0.0       |0.0      |0.0      |0.0      |0.0     |0.0    |0.0    |0.0    |Benign|\n",
      "|80     |6       |14/02/2018 08:47:15|474926      |5         |3         |220          |472.0        |220         |0           |44.0         |98.38699101   |472         |0           |157.3333333333|272.5093270575|1457.0691012916|16.8447294947|67846.5714285714|115645.740842248|237162.0  |15.0      |474926.0 |118731.5        |136923.365842601|237497.0 |15.0     |237732.0 |118866.0        |167663.503100705|237422.0 |310.0    |0          |0          |0          |0          |168         |104         |10.5279559342|6.3167735605|0        |472      |76.8888888889 |165.0669897681|27247.1111111111|0         |0         |0         |1         |0         |0         |0           |0         |0           |86.5          |44.0         |157.3333333333|0           |0           |0            |0           |0           |0            |5             |220           |3             |472           |14480         |219           |1             |32           |0.0       |0.0      |0.0      |0.0      |0.0     |0.0    |0.0    |0.0    |Benign|\n",
      "|80     |6       |14/02/2018 08:47:16|477471      |5         |3         |209          |461.0        |209         |0           |41.8         |93.4676414595 |461         |0           |153.6666666667|266.1584740964|1403.2265833946|16.7549442793|68210.1428571429|116178.228792989|238389.0  |17.0      |477471.0 |119367.75       |137516.508224467|238515.0 |149.0    |238887.0 |119443.5        |168454.755588852|238559.0 |328.0    |0          |0          |0          |0          |168         |104         |10.4718401746|6.2831041048|0        |461      |74.4444444444 |160.5942955954|25790.5277777778|0         |0         |0         |1         |0         |0         |0           |0         |0           |83.75         |41.8         |153.6666666667|0           |0           |0            |0           |0           |0            |5             |209           |3             |461           |14480         |219           |1             |32           |0.0       |0.0      |0.0      |0.0      |0.0     |0.0    |0.0    |0.0    |Benign|\n",
      "|80     |6       |14/02/2018 08:47:16|512758      |5         |3         |211          |463.0        |211         |0           |42.2         |94.3620686505 |463         |0           |154.3333333333|267.3131746348|1314.4602327024|15.6019018718|73251.1428571429|124959.473740394|256188.0  |10.0      |512758.0 |128189.5        |148006.106082373|256523.0 |10.0     |256563.0 |128281.5        |180935.190276795|256222.0 |341.0    |0          |0          |0          |0          |168         |104         |9.7511886699 |5.8507132019|0        |463      |74.8888888889 |161.4058893322|26051.8611111111|0         |0         |0         |1         |0         |0         |0           |0         |0           |84.25         |42.2         |154.3333333333|0           |0           |0            |0           |0           |0            |5             |211           |3             |463           |14480         |219           |1             |32           |0.0       |0.0      |0.0      |0.0      |0.0     |0.0    |0.0    |0.0    |Benign|\n",
      "|80     |6       |14/02/2018 08:47:17|476711      |5         |3         |206          |458.0        |206         |0           |41.2         |92.126000673  |458         |0           |152.6666666667|264.4264232888|1392.8774456641|16.7816559719|68101.5714285714|115977.215079597|238034.0  |16.0      |476711.0 |119177.75       |137207.36560009 |238274.0 |78.0     |238033.0 |119016.5        |168007.864103143|237816.0 |217.0    |0          |0          |0          |0          |168         |104         |10.4885349824|6.2931209894|0        |458      |73.7777777778 |159.3783060659|25401.4444444444|0         |0         |0         |1         |0         |0         |0           |0         |0           |83.0          |41.2         |152.6666666667|0           |0           |0            |0           |0           |0            |5             |206           |3             |458           |14480         |219           |1             |32           |0.0       |0.0      |0.0      |0.0      |0.0     |0.0    |0.0    |0.0    |Benign|\n",
      "|80     |6       |14/02/2018 08:47:17|476616      |5         |3         |211          |463.0        |211         |0           |42.2         |94.3620686505 |463         |0           |154.3333333333|267.3131746348|1414.1363277775|16.7850009232|68088.0         |115553.073301117|237285.0  |8.0       |476616.0 |119154.0        |136576.972942001|237558.0 |8.0      |237660.0 |118830.0        |167563.093937776|237315.0 |345.0    |0          |0          |0          |0          |168         |104         |10.490625577 |6.2943753462|0        |463      |74.8888888889 |161.4058893322|26051.8611111111|0         |0         |0         |1         |0         |0         |0           |0         |0           |84.25         |42.2         |154.3333333333|0           |0           |0            |0           |0           |0            |5             |211           |3             |463           |14480         |219           |1             |32           |0.0       |0.0      |0.0      |0.0      |0.0     |0.0    |0.0    |0.0    |Benign|\n",
      "|80     |6       |14/02/2018 08:47:18|477161      |5         |3         |211          |463.0        |211         |0           |42.2         |94.3620686505 |463         |0           |154.3333333333|267.3131746348|1412.5211406632|16.7658295628|68165.8571428572|116324.530541969|238504.0  |12.0      |477161.0 |119290.25       |137729.560342905|238719.0 |12.0     |238618.0 |119309.0        |168449.805841384|238421.0 |197.0    |0          |0          |0          |0          |168         |104         |10.4786434767|6.287186086 |0        |463      |74.8888888889 |161.4058893322|26051.8611111111|0         |0         |0         |1         |0         |0         |0           |0         |0           |84.25         |42.2         |154.3333333333|0           |0           |0            |0           |0           |0            |5             |211           |3             |463           |14480         |219           |1             |32           |0.0       |0.0      |0.0      |0.0      |0.0     |0.0    |0.0    |0.0    |Benign|\n",
      "|80     |6       |14/02/2018 08:47:18|474670      |5         |3         |214          |466.0        |214         |0           |42.8         |95.703709437  |466         |0           |155.3333333333|269.0452254424|1432.5742094508|16.8538142288|67810.0         |115371.262364883|236717.0  |15.0      |474670.0 |118667.5        |136423.221362787|236894.0 |55.0     |236992.0 |118496.0        |167297.22178805 |236793.0 |199.0    |0          |0          |0          |0          |168         |104         |10.533633893 |6.3201803358|0        |466      |75.5555555556 |162.6246530443|26446.7777777778|0         |0         |0         |1         |0         |0         |0           |0         |0           |85.0          |42.8         |155.3333333333|0           |0           |0            |0           |0           |0            |5             |214           |3             |466           |14480         |219           |1             |32           |0.0       |0.0      |0.0      |0.0      |0.0     |0.0    |0.0    |0.0    |Benign|\n",
      "|80     |6       |14/02/2018 08:47:19|476608      |5         |3         |209          |461.0        |209         |0           |41.8         |93.4676414595 |461         |0           |153.6666666667|266.1584740964|1405.7674231234|16.7852826642|68086.8571428572|116165.357657993|238154.0  |21.0      |476608.0 |119152.0        |137536.399945614|238349.0 |28.0     |238442.0 |119221.0        |168305.556058022|238231.0 |211.0    |0          |0          |0          |0          |168         |104         |10.4908016651|6.2944809991|0        |461      |74.4444444444 |160.5942955954|25790.5277777778|0         |0         |0         |1         |0         |0         |0           |0         |0           |83.75         |41.8         |153.6666666667|0           |0           |0            |0           |0           |0            |5             |209           |3             |461           |14480         |219           |1             |32           |0.0       |0.0      |0.0      |0.0      |0.0     |0.0    |0.0    |0.0    |Benign|\n",
      "|80     |6       |14/02/2018 08:47:19|479249      |5         |3         |215          |467.0        |215         |0           |43.0         |96.1509230325 |467         |0           |155.6666666667|269.6225757116|1423.0598290242|16.6927839182|68464.1428571429|116522.185511928|239061.0  |18.0      |479249.0 |119812.25       |137797.592674606|239270.0 |21.0     |239238.0 |119619.0        |168903.768394906|239052.0 |186.0    |0          |0          |0          |0          |168         |104         |10.4329899489|6.2597939693|0        |467      |75.7777777778 |163.0312683029|26579.1944444444|0         |0         |0         |1         |0         |0         |0           |0         |0           |85.25         |43.0         |155.6666666667|0           |0           |0            |0           |0           |0            |5             |215           |3             |467           |14480         |219           |1             |32           |0.0       |0.0      |0.0      |0.0      |0.0     |0.0    |0.0    |0.0    |Benign|\n",
      "|80     |6       |14/02/2018 08:47:20|475967      |5         |3         |215          |467.0        |215         |0           |43.0         |96.1509230325 |467         |0           |155.6666666667|269.6225757116|1432.8724470394|16.8078879418|67995.2857142857|115929.081086548|237703.0  |16.0      |475967.0 |118991.75       |137195.538016305|237904.0 |21.0     |237915.0 |118957.5        |167975.337191208|237734.0 |181.0    |0          |0          |0          |0          |168         |104         |10.5049299636|6.3029579782|0        |467      |75.7777777778 |163.0312683029|26579.1944444444|0         |0         |0         |1         |0         |0         |0           |0         |0           |85.25         |43.0         |155.6666666667|0           |0           |0            |0           |0           |0            |5             |215           |3             |467           |14480         |219           |1             |32           |0.0       |0.0      |0.0      |0.0      |0.0     |0.0    |0.0    |0.0    |Benign|\n",
      "|80     |6       |14/02/2018 08:47:20|477314      |5         |3         |215          |467.0        |215         |0           |43.0         |96.1509230325 |467         |0           |155.6666666667|269.6225757116|1428.8288212791|16.7604553816|68187.7142857143|116366.29740567 |238580.0  |6.0       |477314.0 |119328.5        |137774.255467655|238694.0 |6.0      |238799.0 |119399.5        |168584.863236591|238607.0 |192.0    |0          |0          |0          |0          |168         |104         |10.4752846135|6.2851707681|0        |467      |75.7777777778 |163.0312683029|26579.1944444444|0         |0         |0         |1         |0         |0         |0           |0         |0           |85.25         |43.0         |155.6666666667|0           |0           |0            |0           |0           |0            |5             |215           |3             |467           |14480         |219           |1             |32           |0.0       |0.0      |0.0      |0.0      |0.0     |0.0    |0.0    |0.0    |Benign|\n",
      "|80     |6       |14/02/2018 08:47:21|512063      |5         |3         |215          |467.0        |215         |0           |43.0         |96.1509230325 |467         |0           |155.6666666667|269.6225757116|1331.8673678825|15.6230776291|73151.8571428571|124592.695266655|255566.0  |19.0      |512063.0 |128015.75       |147377.937110399|255771.0 |20.0     |256458.0 |128229.0        |181088.632448312|256278.0 |180.0    |0          |0          |0          |0          |168         |104         |9.7644235182 |5.8586541109|0        |467      |75.7777777778 |163.0312683029|26579.1944444444|0         |0         |0         |1         |0         |0         |0           |0         |0           |85.25         |43.0         |155.6666666667|0           |0           |0            |0           |0           |0            |5             |215           |3             |467           |14480         |219           |1             |32           |0.0       |0.0      |0.0      |0.0      |0.0     |0.0    |0.0    |0.0    |Benign|\n",
      "|80     |6       |14/02/2018 08:47:21|476789      |5         |3         |215          |467.0        |215         |0           |43.0         |96.1509230325 |467         |0           |155.6666666667|269.6225757116|1430.4021275659|16.7789105873|68112.7142857143|116221.144692226|238336.0  |10.0      |476789.0 |119197.25       |137614.035489057|238389.0 |10.0     |238585.0 |119292.5        |168401.015473482|238370.0 |215.0    |0          |0          |0          |0          |168         |104         |10.4868191171|6.2920914702|0        |467      |75.7777777778 |163.0312683029|26579.1944444444|0         |0         |0         |1         |0         |0         |0           |0         |0           |85.25         |43.0         |155.6666666667|0           |0           |0            |0           |0           |0            |5             |215           |3             |467           |14480         |219           |1             |32           |0.0       |0.0      |0.0      |0.0      |0.0     |0.0    |0.0    |0.0    |Benign|\n",
      "|80     |6       |14/02/2018 08:47:22|530813      |5         |3         |215          |467.0        |215         |0           |43.0         |96.1509230325 |467         |0           |155.6666666667|269.6225757116|1284.8215850026|15.0712209384|75830.4285714286|129270.254005394|265278.0  |17.0      |530813.0 |132703.25       |152977.445148787|265301.0 |17.0     |265518.0 |132759.0        |187483.706177364|265330.0 |188.0    |0          |0          |0          |0          |168         |104         |9.4195130865 |5.6517078519|0        |467      |75.7777777778 |163.0312683029|26579.1944444444|0         |0         |0         |1         |0         |0         |0           |0         |0           |85.25         |43.0         |155.6666666667|0           |0           |0            |0           |0           |0            |5             |215           |3             |467           |14480         |219           |1             |32           |0.0       |0.0      |0.0      |0.0      |0.0     |0.0    |0.0    |0.0    |Benign|\n",
      "|80     |6       |14/02/2018 08:47:22|478007      |5         |3         |216          |468.0        |216         |0           |43.2         |96.598136628  |468         |0           |156.0         |270.1999259807|1430.9413878876|16.7361565835|68286.7142857143|116521.363245421|238871.0  |14.0      |478007.0 |119501.75       |137965.090440481|239088.0 |14.0     |239086.0 |119543.0        |168784.974455667|238892.0 |194.0    |0          |0          |0          |0          |168         |104         |10.4600978647|6.2760587188|0        |468      |76.0          |163.4380616625|26712.0         |0         |0         |0         |1         |0         |0         |0           |0         |0           |85.5          |43.2         |156.0         |0           |0           |0            |0           |0           |0            |5             |216           |3             |468           |14480         |219           |1             |32           |0.0       |0.0      |0.0      |0.0      |0.0     |0.0    |0.0    |0.0    |Benign|\n",
      "+-------+--------+-------------------+------------+----------+----------+-------------+-------------+------------+------------+-------------+--------------+------------+------------+--------------+--------------+---------------+-------------+----------------+----------------+----------+----------+---------+----------------+----------------+---------+---------+---------+----------------+----------------+---------+---------+-----------+-----------+-----------+-----------+------------+------------+-------------+------------+---------+---------+--------------+--------------+----------------+----------+----------+----------+----------+----------+----------+------------+----------+------------+--------------+-------------+--------------+------------+------------+-------------+------------+------------+-------------+--------------+--------------+--------------+--------------+--------------+--------------+--------------+-------------+----------+---------+---------+---------+--------+-------+-------+-------+------+\n",
      "only showing top 20 rows\n",
      "\n"
     ]
    }
   ],
   "source": [
    "#QUERY@6 IMPLEMENTING FILTER\n",
    "dataframeunion.filter( (dataframeunion.Protocol  == \"6\") | (dataframeunion.DstPort  == \"80\") ) \\\n",
    "    .show(truncate=False)  "
   ]
  },
  {
   "cell_type": "code",
   "execution_count": 19,
   "metadata": {
    "colab": {
     "base_uri": "https://localhost:8080/"
    },
    "id": "s9vTydFxV6-d",
    "outputId": "ba67e6a1-1fc8-4102-d211-c4cca4d8b896"
   },
   "outputs": [
    {
     "name": "stdout",
     "output_type": "stream",
     "text": [
      "+----------------+------------+----------+\n",
      "|BwdIATMean      |FlowDuration|lit_value1|\n",
      "+----------------+------------+----------+\n",
      "|0.0             |112641719   |1         |\n",
      "|0.0             |112641466   |1         |\n",
      "|0.0             |112638623   |1         |\n",
      "|626433.555555556|6453966     |1         |\n",
      "|771548.1        |8804066     |1         |\n",
      "|543690.727272727|6989341     |1         |\n",
      "|0.0             |112640480   |1         |\n",
      "|0.0             |112641244   |1         |\n",
      "|119317.0        |476513      |1         |\n",
      "|118758.0        |475048      |1         |\n",
      "|118866.0        |474926      |1         |\n",
      "|119443.5        |477471      |1         |\n",
      "|128281.5        |512758      |1         |\n",
      "|119016.5        |476711      |1         |\n",
      "|118830.0        |476616      |1         |\n",
      "|119309.0        |477161      |1         |\n",
      "|118496.0        |474670      |1         |\n",
      "|119221.0        |476608      |1         |\n",
      "|119619.0        |479249      |1         |\n",
      "|118957.5        |475967      |1         |\n",
      "+----------------+------------+----------+\n",
      "only showing top 20 rows\n",
      "\n"
     ]
    }
   ],
   "source": [
    "#QUERY@7 -- IMPLEMENTING COL & LIT\n",
    "from pyspark.sql.functions import col,lit\n",
    "df2 = dataframeunion.select(col(\"BwdIATMean\"),col(\"FlowDuration\"),lit(\"1\").alias(\"lit_value1\"))\n",
    "df2.show(truncate=False)"
   ]
  },
  {
   "cell_type": "code",
   "execution_count": 20,
   "metadata": {
    "colab": {
     "base_uri": "https://localhost:8080/"
    },
    "id": "jfb9GvlIV7aP",
    "outputId": "19fe4cab-60e6-41cd-86e0-9401455949b8"
   },
   "outputs": [
    {
     "name": "stdout",
     "output_type": "stream",
     "text": [
      "+--------+-------+\n",
      "|Protocol|  count|\n",
      "+--------+-------+\n",
      "|    null|     46|\n",
      "|       6|6504689|\n",
      "|      17|1685321|\n",
      "|       0|  94181|\n",
      "+--------+-------+\n",
      "\n"
     ]
    }
   ],
   "source": [
    "#QUERY@8 -- IMPLEMENTING GROUPBY AND COUNT W.R.T. TIME()\n",
    "from time import time\n",
    "\n",
    "t0 = time()\n",
    "dataframeunion.select(\"Protocol\", \"FlowDuration\", \"DstPort\").groupBy(\"Protocol\").count().show()"
   ]
  },
  {
   "cell_type": "markdown",
   "metadata": {
    "id": "jqDqthnHW-aL"
   },
   "source": [
    "# **PySpark -- PART 1 / TASK 2**"
   ]
  },
  {
   "cell_type": "code",
   "execution_count": 21,
   "metadata": {
    "colab": {
     "base_uri": "https://localhost:8080/"
    },
    "id": "MxHPm4NKAKri",
    "outputId": "3af8840e-f4e8-4879-a212-fe787a2ff952"
   },
   "outputs": [
    {
     "name": "stdout",
     "output_type": "stream",
     "text": [
      "+---------------------+--------------------+--------------------+\n",
      "|var_samp(FwdIATTot)  |var_samp(FlowByts_s)|var_pop(FwdPkts_s)  |\n",
      "+---------------------+--------------------+--------------------+\n",
      "|4.7719365470912826E17|NaN                 |4.423381798211515E10|\n",
      "+---------------------+--------------------+--------------------+\n",
      "\n"
     ]
    }
   ],
   "source": [
    "#QUERY@9 -- IMPLEMENTING VARIANCE\n",
    "dataframeunion.select(variance(\"FwdIATTot\"),var_samp(\"FlowByts_s\"),var_pop(\"FwdPkts_s\")) \\\n",
    "  .show(truncate=False)"
   ]
  },
  {
   "cell_type": "code",
   "execution_count": 22,
   "metadata": {
    "colab": {
     "base_uri": "https://localhost:8080/"
    },
    "id": "LKdfQCbAAg15",
    "outputId": "02c5c32c-7268-42ec-f045-3b755269e149"
   },
   "outputs": [
    {
     "name": "stdout",
     "output_type": "stream",
     "text": [
      "+----------------------+-----------------------+---------------------+\n",
      "|stddev_samp(FwdIATTot)|stddev_samp(FlowByts_s)|stddev_pop(FwdPkts_s)|\n",
      "+----------------------+-----------------------+---------------------+\n",
      "|6.90792048817246E8    |NaN                    |210318.37290668438   |\n",
      "+----------------------+-----------------------+---------------------+\n",
      "\n"
     ]
    }
   ],
   "source": [
    "#QUERY@10 -- IMPLEMENTING STANDARD DEVIATION\n",
    "dataframeunion.select(stddev(\"FwdIATTot\"), stddev_samp(\"FlowByts_s\"), \\\n",
    "    stddev_pop(\"FwdPkts_s\")).show(truncate=False)"
   ]
  },
  {
   "cell_type": "code",
   "execution_count": 23,
   "metadata": {
    "colab": {
     "base_uri": "https://localhost:8080/"
    },
    "id": "MNg9fgIfA4Bs",
    "outputId": "873910c6-04e3-4fea-b572-b0d7ed0c97c9"
   },
   "outputs": [
    {
     "name": "stdout",
     "output_type": "stream",
     "text": [
      "+-----------------+\n",
      "|sum(Down_UpRatio)|\n",
      "+-----------------+\n",
      "|3778303          |\n",
      "+-----------------+\n",
      "\n",
      "+--------------------------+\n",
      "|sum(DISTINCT Down_UpRatio)|\n",
      "+--------------------------+\n",
      "|7560                      |\n",
      "+--------------------------+\n",
      "\n"
     ]
    }
   ],
   "source": [
    "#QUERY@11 -- IMPLEMENTING SUMDISTINCT\n",
    "dataframeunion.select(sum(\"Down_UpRatio\")).show(truncate=False)\n",
    "dataframeunion.select(sumDistinct(\"Down_UpRatio\")).show(truncate=False)"
   ]
  },
  {
   "cell_type": "code",
   "execution_count": 24,
   "metadata": {
    "colab": {
     "base_uri": "https://localhost:8080/"
    },
    "id": "VIlNKxFHBWMa",
    "outputId": "6a142b03-0cb5-4ddd-820d-632d90bc6d0a"
   },
   "outputs": [
    {
     "name": "stdout",
     "output_type": "stream",
     "text": [
      "+-------------------+\n",
      "|kurtosis(FwdIATTot)|\n",
      "+-------------------+\n",
      "|1113249.5317189314 |\n",
      "+-------------------+\n",
      "\n"
     ]
    }
   ],
   "source": [
    "#QUERY@12 -- IMPLEMENTING KURTOSIS\n",
    "dataframeunion.select(kurtosis(\"FwdIATTot\")).show(truncate=False)"
   ]
  },
  {
   "cell_type": "code",
   "execution_count": 25,
   "metadata": {
    "colab": {
     "base_uri": "https://localhost:8080/"
    },
    "id": "uSlQac6SBwGi",
    "outputId": "6ca06688-fc9a-486e-9c53-e536d1c82a0d"
   },
   "outputs": [
    {
     "name": "stdout",
     "output_type": "stream",
     "text": [
      "+-----------------+\n",
      "|max(BwdHeaderLen)|\n",
      "+-----------------+\n",
      "|2462372          |\n",
      "+-----------------+\n",
      "\n",
      "+-----------------+\n",
      "|min(BwdHeaderLen)|\n",
      "+-----------------+\n",
      "|0                |\n",
      "+-----------------+\n",
      "\n",
      "+------------------+\n",
      "|avg(BwdHeaderLen) |\n",
      "+------------------+\n",
      "|128.01854375400083|\n",
      "+------------------+\n",
      "\n"
     ]
    }
   ],
   "source": [
    "#QUERY@13 -- IMPLMENTING MIN,MAX,MEAN\n",
    "dataframeunion.select(max(\"BwdHeaderLen\")).show(truncate=False)\n",
    "dataframeunion.select(min(\"BwdHeaderLen\")).show(truncate=False)\n",
    "dataframeunion.select(mean(\"BwdHeaderLen\")).show(truncate=False)"
   ]
  },
  {
   "cell_type": "code",
   "execution_count": 26,
   "metadata": {
    "colab": {
     "base_uri": "https://localhost:8080/"
    },
    "id": "S-uFPVPsCJk1",
    "outputId": "3aabcfb4-0ab7-4aa8-91ce-6cf67c3e8422"
   },
   "outputs": [
    {
     "name": "stdout",
     "output_type": "stream",
     "text": [
      "+----------------------+\n",
      "|skewness(FlowDuration)|\n",
      "+----------------------+\n",
      "|-1028.2663045071208   |\n",
      "+----------------------+\n",
      "\n"
     ]
    }
   ],
   "source": [
    "#QUERY@14 IMPLEMENTING SKEWNESS\n",
    "dataframeunion.select(skewness(\"FlowDuration\")).show(truncate=False)"
   ]
  },
  {
   "cell_type": "code",
   "execution_count": 27,
   "metadata": {
    "colab": {
     "base_uri": "https://localhost:8080/"
    },
    "id": "TrJ0a2wROKPD",
    "outputId": "bf39037b-3835-464b-9f10-ff2cdcc171b0"
   },
   "outputs": [
    {
     "name": "stdout",
     "output_type": "stream",
     "text": [
      "+-------+--------------------+-----------------+------------------+--------------------+--------------+\n",
      "|summary|          FwdIATMean|        PktLenVar|        PktSizeAvg|       FwdBlkRateAvg|         Label|\n",
      "+-------+--------------------+-----------------+------------------+--------------------+--------------+\n",
      "|  count|             8284191|          8284191|           8284191|             8284191|       8284237|\n",
      "|   mean|  3804538.5803629374| 40349.5312308883|  85.1619427816869|                 0.0|           0.0|\n",
      "| stddev|3.1187593210394305E8|205237.3372746219|109.73722578951173|                 0.0|          null|\n",
      "|    min|          -8.2822E11|              0.0|               0.0|                   0|             0|\n",
      "|    max|               1.2E8|           5.19E8|       17478.40769|0M\u0000M\u0000M\u0000M\u0000M\u0000M\u0000M\u0000M\u0000...|SSH-Bruteforce|\n",
      "+-------+--------------------+-----------------+------------------+--------------------+--------------+\n",
      "\n"
     ]
    }
   ],
   "source": [
    "#QUERY@15 -- IMPLEMENTING SUMMARY USING DESCRIBE\n",
    "dataframeunion.select(['FwdIATMean', 'PktLenVar', 'PktSizeAvg', 'FwdBlkRateAvg',\n",
    "           'Label']).describe().show()"
   ]
  },
  {
   "cell_type": "code",
   "execution_count": 30,
   "metadata": {
    "colab": {
     "base_uri": "https://localhost:8080/",
     "height": 514
    },
    "id": "h2lORKdhRKl-",
    "outputId": "9b570600-8bda-42a1-aec7-db8586668550"
   },
   "outputs": [
    {
     "name": "stderr",
     "output_type": "stream",
     "text": [
      "/usr/local/lib/python3.7/dist-packages/seaborn/distributions.py:2557: FutureWarning: `distplot` is a deprecated function and will be removed in a future version. Please adapt your code to use either `displot` (a figure-level function with similar flexibility) or `histplot` (an axes-level function for histograms).\n",
      "  warnings.warn(msg, FutureWarning)\n"
     ]
    },
    {
     "ename": "NameError",
     "evalue": "ignored",
     "output_type": "error",
     "traceback": [
      "\u001b[0;31m---------------------------------------------------------------------------\u001b[0m",
      "\u001b[0;31mNameError\u001b[0m                                 Traceback (most recent call last)",
      "\u001b[0;32m<ipython-input-30-c15974ec6f0a>\u001b[0m in \u001b[0;36m<module>\u001b[0;34m()\u001b[0m\n\u001b[1;32m      6\u001b[0m \u001b[0;32mimport\u001b[0m \u001b[0mseaborn\u001b[0m \u001b[0;32mas\u001b[0m \u001b[0msns\u001b[0m\u001b[0;34m\u001b[0m\u001b[0;34m\u001b[0m\u001b[0m\n\u001b[1;32m      7\u001b[0m \u001b[0msns\u001b[0m\u001b[0;34m.\u001b[0m\u001b[0mdistplot\u001b[0m\u001b[0;34m(\u001b[0m\u001b[0mpandas_df\u001b[0m\u001b[0;34m)\u001b[0m\u001b[0;34m\u001b[0m\u001b[0;34m\u001b[0m\u001b[0m\n\u001b[0;32m----> 8\u001b[0;31m \u001b[0mplt\u001b[0m\u001b[0;34m.\u001b[0m\u001b[0mxlabel\u001b[0m\u001b[0;34m(\u001b[0m\u001b[0;34m'BwdSegSizeAvg'\u001b[0m\u001b[0;34m)\u001b[0m\u001b[0;34m\u001b[0m\u001b[0;34m\u001b[0m\u001b[0m\n\u001b[0m\u001b[1;32m      9\u001b[0m \u001b[0mplt\u001b[0m\u001b[0;34m.\u001b[0m\u001b[0mshow\u001b[0m\u001b[0;34m(\u001b[0m\u001b[0;34m)\u001b[0m\u001b[0;34m\u001b[0m\u001b[0;34m\u001b[0m\u001b[0m\n",
      "\u001b[0;31mNameError\u001b[0m: name 'plt' is not defined"
     ]
    },
    {
     "data": {
      "image/png": "[encoded data removed]",
      "text/plain": [
       "<Figure size 432x288 with 1 Axes>"
      ]
     },
     "metadata": {
      "needs_background": "light",
      "tags": []
     },
     "output_type": "display_data"
    }
   ],
   "source": [
    "#QUERY@16 -- IMPLEMENTING SAMPLE()\n",
    "sample_df = dataframeunion.select(['BwdSegSizeAvg']).sample(False, 0.5, 42)\n",
    "pandas_df = sample_df.toPandas()\n",
    "\n",
    "# Plot distribution of pandas_df and display plot\n",
    "import seaborn as sns\n",
    "sns.distplot(pandas_df)\n",
    "plt.xlabel('BwdSegSizeAvg') \n",
    "plt.show()"
   ]
  },
  {
   "cell_type": "markdown",
   "metadata": {
    "id": "8NM9FsZNX8VP"
   },
   "source": [
    "# **PySpark -- PART 2 / TASK 2**"
   ]
  },
  {
   "cell_type": "markdown",
   "metadata": {
    "id": "gUFftD7w0xYY"
   },
   "source": [
    "# DecisionTreeClassifier"
   ]
  },
  {
   "cell_type": "code",
   "execution_count": 34,
   "metadata": {
    "colab": {
     "base_uri": "https://localhost:8080/"
    },
    "id": "22_bDQ14sE16",
    "outputId": "1ae5d9e7-177b-411c-8a48-ceaacba3201f"
   },
   "outputs": [
    {
     "name": "stdout",
     "output_type": "stream",
     "text": [
      "+--------+--------+-------------------+-------------+------------+------------+---------------+---------------+---------------+---------------+----------------+---------------+---------------+---------------+----------------+---------------+-----------+------------+-------------+--------------+------------+------------+-----------+------------+--------------+-----------+-----------+-----------+------------+-----------+-----------+-----------+-------------+-------------+-------------+-------------+--------------+--------------+------------+----------+-----------+-----------+------------+-----------+-----------+------------+------------+------------+------------+------------+------------+--------------+------------+-------------+------------+----------------+----------------+--------------+--------------+----------------+--------------+--------------+----------------+----------------+----------------+----------------+----------------+-----------------+-----------------+-----------------+----------------+-----------+----------+----------+----------+------------+--------------+--------+--------+------+\n",
      "|Dst Port|Protocol|          Timestamp|Flow Duration|Tot Fwd Pkts|Tot Bwd Pkts|TotLen Fwd Pkts|TotLen Bwd Pkts|Fwd Pkt Len Max|Fwd Pkt Len Min|Fwd Pkt Len Mean|Fwd Pkt Len Std|Bwd Pkt Len Max|Bwd Pkt Len Min|Bwd Pkt Len Mean|Bwd Pkt Len Std|Flow Byts/s| Flow Pkts/s|Flow IAT Mean|  Flow IAT Std|Flow IAT Max|Flow IAT Min|Fwd IAT Tot|Fwd IAT Mean|   Fwd IAT Std|Fwd IAT Max|Fwd IAT Min|Bwd IAT Tot|Bwd IAT Mean|Bwd IAT Std|Bwd IAT Max|Bwd IAT Min|Fwd PSH Flags|Bwd PSH Flags|Fwd URG Flags|Bwd URG Flags|Fwd Header Len|Bwd Header Len|  Fwd Pkts/s|Bwd Pkts/s|Pkt Len Min|Pkt Len Max|Pkt Len Mean|Pkt Len Std|Pkt Len Var|FIN Flag Cnt|SYN Flag Cnt|RST Flag Cnt|PSH Flag Cnt|ACK Flag Cnt|URG Flag Cnt|CWE Flag Count|ECE Flag Cnt|Down/Up Ratio|Pkt Size Avg|Fwd Seg Size Avg|Bwd Seg Size Avg|Fwd Byts/b Avg|Fwd Pkts/b Avg|Fwd Blk Rate Avg|Bwd Byts/b Avg|Bwd Pkts/b Avg|Bwd Blk Rate Avg|Subflow Fwd Pkts|Subflow Fwd Byts|Subflow Bwd Pkts|Subflow Bwd Byts|Init Fwd Win Byts|Init Bwd Win Byts|Fwd Act Data Pkts|Fwd Seg Size Min|Active Mean|Active Std|Active Max|Active Min|   Idle Mean|      Idle Std|Idle Max|Idle Min| Label|\n",
      "+--------+--------+-------------------+-------------+------------+------------+---------------+---------------+---------------+---------------+----------------+---------------+---------------+---------------+----------------+---------------+-----------+------------+-------------+--------------+------------+------------+-----------+------------+--------------+-----------+-----------+-----------+------------+-----------+-----------+-----------+-------------+-------------+-------------+-------------+--------------+--------------+------------+----------+-----------+-----------+------------+-----------+-----------+------------+------------+------------+------------+------------+------------+--------------+------------+-------------+------------+----------------+----------------+--------------+--------------+----------------+--------------+--------------+----------------+----------------+----------------+----------------+----------------+-----------------+-----------------+-----------------+----------------+-----------+----------+----------+----------+------------+--------------+--------+--------+------+\n",
      "|       0|       0|14/02/2018 08:31:01|    112641719|           3|           0|              0|              0|              0|              0|             0.0|            0.0|              0|              0|             0.0|            0.0|        0.0|0.0266331163| 5.63208595E7|139.3000358938|    56320958|    56320761|  112641719|5.63208595E7|139.3000358938|   56320958|   56320761|          0|         0.0|        0.0|          0|          0|            0|            0|            0|            0|             0|             0|0.0266331163|       0.0|          0|          0|         0.0|        0.0|        0.0|           0|           0|           0|           0|           0|           0|             0|           0|            0|         0.0|             0.0|             0.0|             0|             0|               0|             0|             0|               0|               3|               0|               0|               0|               -1|               -1|                0|               0|        0.0|       0.0|         0|         0|5.63208595E7|139.3000358938|56320958|56320761|Benign|\n",
      "|       0|       0|14/02/2018 08:33:50|    112641466|           3|           0|              0|              0|              0|              0|             0.0|            0.0|              0|              0|             0.0|            0.0|        0.0|0.0266331761|  5.6320733E7|114.5512985522|    56320814|    56320652|  112641466| 5.6320733E7|114.5512985522|   56320814|   56320652|          0|         0.0|        0.0|          0|          0|            0|            0|            0|            0|             0|             0|0.0266331761|       0.0|          0|          0|         0.0|        0.0|        0.0|           0|           0|           0|           0|           0|           0|             0|           0|            0|         0.0|             0.0|             0.0|             0|             0|               0|             0|             0|               0|               3|               0|               0|               0|               -1|               -1|                0|               0|        0.0|       0.0|         0|         0| 5.6320733E7|114.5512985522|56320814|56320652|Benign|\n",
      "|       0|       0|14/02/2018 08:36:39|    112638623|           3|           0|              0|              0|              0|              0|             0.0|            0.0|              0|              0|             0.0|            0.0|        0.0|0.0266338483| 5.63193115E7|301.9345955667|    56319525|    56319098|  112638623|5.63193115E7|301.9345955667|   56319525|   56319098|          0|         0.0|        0.0|          0|          0|            0|            0|            0|            0|             0|             0|0.0266338483|       0.0|          0|          0|         0.0|        0.0|        0.0|           0|           0|           0|           0|           0|           0|             0|           0|            0|         0.0|             0.0|             0.0|             0|             0|               0|             0|             0|               0|               3|               0|               0|               0|               -1|               -1|                0|               0|        0.0|       0.0|         0|         0|5.63193115E7|301.9345955667|56319525|56319098|Benign|\n",
      "+--------+--------+-------------------+-------------+------------+------------+---------------+---------------+---------------+---------------+----------------+---------------+---------------+---------------+----------------+---------------+-----------+------------+-------------+--------------+------------+------------+-----------+------------+--------------+-----------+-----------+-----------+------------+-----------+-----------+-----------+-------------+-------------+-------------+-------------+--------------+--------------+------------+----------+-----------+-----------+------------+-----------+-----------+------------+------------+------------+------------+------------+------------+--------------+------------+-------------+------------+----------------+----------------+--------------+--------------+----------------+--------------+--------------+----------------+----------------+----------------+----------------+----------------+-----------------+-----------------+-----------------+----------------+-----------+----------+----------+----------+------------+--------------+--------+--------+------+\n",
      "only showing top 3 rows\n",
      "\n"
     ]
    }
   ],
   "source": [
    "#import SparkSession\n",
    "from pyspark.sql import SparkSession\n",
    "spark=SparkSession.builder.appName('decision_tree').getOrCreate()\n",
    "df = spark.read.csv('/content/drive/MyDrive/data/02_14_2018.csv', inferSchema=True, header=True)\n",
    "df.show(3)"
   ]
  },
  {
   "cell_type": "code",
   "execution_count": 35,
   "metadata": {
    "id": "y7VMccKfu4vj"
   },
   "outputs": [],
   "source": [
    "from pyspark.ml.feature import VectorAssembler"
   ]
  },
  {
   "cell_type": "code",
   "execution_count": 36,
   "metadata": {
    "id": "FD6eW2t9u94P"
   },
   "outputs": [],
   "source": [
    "df_assembler = VectorAssembler(inputCols=['Dst Port', 'Protocol', 'Tot Fwd Pkts', 'TotLen Bwd Pkts', 'Fwd Pkt Len Max'], outputCol=\"features\")\n",
    "df = df_assembler.transform(df)"
   ]
  },
  {
   "cell_type": "code",
   "execution_count": 37,
   "metadata": {
    "colab": {
     "base_uri": "https://localhost:8080/"
    },
    "id": "6-EI9uxzvOSX",
    "outputId": "b0f1660e-7b0b-48a6-83a5-792ae1e85a1c"
   },
   "outputs": [
    {
     "name": "stdout",
     "output_type": "stream",
     "text": [
      "root\n",
      " |-- Dst Port: integer (nullable = true)\n",
      " |-- Protocol: integer (nullable = true)\n",
      " |-- Timestamp: string (nullable = true)\n",
      " |-- Flow Duration: long (nullable = true)\n",
      " |-- Tot Fwd Pkts: integer (nullable = true)\n",
      " |-- Tot Bwd Pkts: integer (nullable = true)\n",
      " |-- TotLen Fwd Pkts: integer (nullable = true)\n",
      " |-- TotLen Bwd Pkts: integer (nullable = true)\n",
      " |-- Fwd Pkt Len Max: integer (nullable = true)\n",
      " |-- Fwd Pkt Len Min: integer (nullable = true)\n",
      " |-- Fwd Pkt Len Mean: double (nullable = true)\n",
      " |-- Fwd Pkt Len Std: double (nullable = true)\n",
      " |-- Bwd Pkt Len Max: integer (nullable = true)\n",
      " |-- Bwd Pkt Len Min: integer (nullable = true)\n",
      " |-- Bwd Pkt Len Mean: double (nullable = true)\n",
      " |-- Bwd Pkt Len Std: double (nullable = true)\n",
      " |-- Flow Byts/s: double (nullable = true)\n",
      " |-- Flow Pkts/s: double (nullable = true)\n",
      " |-- Flow IAT Mean: double (nullable = true)\n",
      " |-- Flow IAT Std: double (nullable = true)\n",
      " |-- Flow IAT Max: long (nullable = true)\n",
      " |-- Flow IAT Min: long (nullable = true)\n",
      " |-- Fwd IAT Tot: long (nullable = true)\n",
      " |-- Fwd IAT Mean: double (nullable = true)\n",
      " |-- Fwd IAT Std: double (nullable = true)\n",
      " |-- Fwd IAT Max: long (nullable = true)\n",
      " |-- Fwd IAT Min: long (nullable = true)\n",
      " |-- Bwd IAT Tot: integer (nullable = true)\n",
      " |-- Bwd IAT Mean: double (nullable = true)\n",
      " |-- Bwd IAT Std: double (nullable = true)\n",
      " |-- Bwd IAT Max: integer (nullable = true)\n",
      " |-- Bwd IAT Min: integer (nullable = true)\n",
      " |-- Fwd PSH Flags: integer (nullable = true)\n",
      " |-- Bwd PSH Flags: integer (nullable = true)\n",
      " |-- Fwd URG Flags: integer (nullable = true)\n",
      " |-- Bwd URG Flags: integer (nullable = true)\n",
      " |-- Fwd Header Len: integer (nullable = true)\n",
      " |-- Bwd Header Len: integer (nullable = true)\n",
      " |-- Fwd Pkts/s: double (nullable = true)\n",
      " |-- Bwd Pkts/s: double (nullable = true)\n",
      " |-- Pkt Len Min: integer (nullable = true)\n",
      " |-- Pkt Len Max: integer (nullable = true)\n",
      " |-- Pkt Len Mean: double (nullable = true)\n",
      " |-- Pkt Len Std: double (nullable = true)\n",
      " |-- Pkt Len Var: double (nullable = true)\n",
      " |-- FIN Flag Cnt: integer (nullable = true)\n",
      " |-- SYN Flag Cnt: integer (nullable = true)\n",
      " |-- RST Flag Cnt: integer (nullable = true)\n",
      " |-- PSH Flag Cnt: integer (nullable = true)\n",
      " |-- ACK Flag Cnt: integer (nullable = true)\n",
      " |-- URG Flag Cnt: integer (nullable = true)\n",
      " |-- CWE Flag Count: integer (nullable = true)\n",
      " |-- ECE Flag Cnt: integer (nullable = true)\n",
      " |-- Down/Up Ratio: integer (nullable = true)\n",
      " |-- Pkt Size Avg: double (nullable = true)\n",
      " |-- Fwd Seg Size Avg: double (nullable = true)\n",
      " |-- Bwd Seg Size Avg: double (nullable = true)\n",
      " |-- Fwd Byts/b Avg: integer (nullable = true)\n",
      " |-- Fwd Pkts/b Avg: integer (nullable = true)\n",
      " |-- Fwd Blk Rate Avg: integer (nullable = true)\n",
      " |-- Bwd Byts/b Avg: integer (nullable = true)\n",
      " |-- Bwd Pkts/b Avg: integer (nullable = true)\n",
      " |-- Bwd Blk Rate Avg: integer (nullable = true)\n",
      " |-- Subflow Fwd Pkts: integer (nullable = true)\n",
      " |-- Subflow Fwd Byts: integer (nullable = true)\n",
      " |-- Subflow Bwd Pkts: integer (nullable = true)\n",
      " |-- Subflow Bwd Byts: integer (nullable = true)\n",
      " |-- Init Fwd Win Byts: integer (nullable = true)\n",
      " |-- Init Bwd Win Byts: integer (nullable = true)\n",
      " |-- Fwd Act Data Pkts: integer (nullable = true)\n",
      " |-- Fwd Seg Size Min: integer (nullable = true)\n",
      " |-- Active Mean: double (nullable = true)\n",
      " |-- Active Std: double (nullable = true)\n",
      " |-- Active Max: integer (nullable = true)\n",
      " |-- Active Min: integer (nullable = true)\n",
      " |-- Idle Mean: double (nullable = true)\n",
      " |-- Idle Std: double (nullable = true)\n",
      " |-- Idle Max: long (nullable = true)\n",
      " |-- Idle Min: long (nullable = true)\n",
      " |-- Label: string (nullable = true)\n",
      " |-- features: vector (nullable = true)\n",
      "\n"
     ]
    }
   ],
   "source": [
    "df.printSchema()"
   ]
  },
  {
   "cell_type": "code",
   "execution_count": 38,
   "metadata": {
    "colab": {
     "base_uri": "https://localhost:8080/"
    },
    "id": "R1L_wk_2vSTU",
    "outputId": "cad0b9d8-b47c-4d49-8d2c-177190ed1d57"
   },
   "outputs": [
    {
     "name": "stdout",
     "output_type": "stream",
     "text": [
      "+----------------------------+-------------+\n",
      "|features                    |Down/Up Ratio|\n",
      "+----------------------------+-------------+\n",
      "|(5,[2],[3.0])               |0            |\n",
      "|(5,[2],[3.0])               |0            |\n",
      "|(5,[2],[3.0])               |0            |\n",
      "|[22.0,6.0,15.0,2273.0,744.0]|0            |\n",
      "|[22.0,6.0,14.0,2209.0,744.0]|0            |\n",
      "|[22.0,6.0,16.0,2273.0,744.0]|0            |\n",
      "|(5,[2],[3.0])               |0            |\n",
      "|(5,[2],[3.0])               |0            |\n",
      "|[80.0,6.0,5.0,463.0,211.0]  |0            |\n",
      "|[80.0,6.0,5.0,472.0,220.0]  |0            |\n",
      "+----------------------------+-------------+\n",
      "only showing top 10 rows\n",
      "\n"
     ]
    }
   ],
   "source": [
    "df.select(['features','Down/Up Ratio']).show(10,False)"
   ]
  },
  {
   "cell_type": "code",
   "execution_count": 39,
   "metadata": {
    "id": "uw1SuC3nvn5B"
   },
   "outputs": [],
   "source": [
    "#select data for building model\n",
    "model_df=df.select(['features','Down/Up Ratio'])"
   ]
  },
  {
   "cell_type": "code",
   "execution_count": 40,
   "metadata": {
    "id": "Rrjxvt2vvuh9"
   },
   "outputs": [],
   "source": [
    "from pyspark.ml.classification import DecisionTreeClassifier"
   ]
  },
  {
   "cell_type": "code",
   "execution_count": 41,
   "metadata": {
    "id": "ZFDMMAuKvxrH"
   },
   "outputs": [],
   "source": [
    "train_df,test_df=model_df.randomSplit([0.75,0.25])"
   ]
  },
  {
   "cell_type": "code",
   "execution_count": 42,
   "metadata": {
    "colab": {
     "base_uri": "https://localhost:8080/"
    },
    "id": "p68yS16Jv0vg",
    "outputId": "2c06c0cc-60d2-44f3-be43-8e9005c1015d"
   },
   "outputs": [
    {
     "data": {
      "text/plain": [
       "786485"
      ]
     },
     "execution_count": 42,
     "metadata": {
      "tags": []
     },
     "output_type": "execute_result"
    }
   ],
   "source": [
    "train_df.count()"
   ]
  },
  {
   "cell_type": "code",
   "execution_count": 43,
   "metadata": {
    "colab": {
     "base_uri": "https://localhost:8080/"
    },
    "id": "JXCTrH31v3c3",
    "outputId": "50c7dea3-aad6-4c17-c2b6-ea522ce5fbf8"
   },
   "outputs": [
    {
     "name": "stdout",
     "output_type": "stream",
     "text": [
      "+-------------+------+\n",
      "|Down/Up Ratio| count|\n",
      "+-------------+------+\n",
      "|           78|     1|\n",
      "|           26|     1|\n",
      "|           12|    13|\n",
      "|            1|506037|\n",
      "|           13|     5|\n",
      "|            6|   190|\n",
      "|           16|    13|\n",
      "|            3|   651|\n",
      "|           20|     4|\n",
      "|           57|     1|\n",
      "|            5|    49|\n",
      "|           19|     5|\n",
      "|           64|     1|\n",
      "|           15|     2|\n",
      "|           61|     1|\n",
      "|            9|    24|\n",
      "|           17|     4|\n",
      "|            4|   447|\n",
      "|            8|    28|\n",
      "|            7|    18|\n",
      "+-------------+------+\n",
      "only showing top 20 rows\n",
      "\n"
     ]
    }
   ],
   "source": [
    "train_df.groupBy('Down/Up Ratio').count().show()"
   ]
  },
  {
   "cell_type": "code",
   "execution_count": 44,
   "metadata": {
    "colab": {
     "base_uri": "https://localhost:8080/"
    },
    "id": "VPwbGtAsv_AI",
    "outputId": "3b02c251-ad07-4fcc-d659-51ad6e5fe517"
   },
   "outputs": [
    {
     "name": "stdout",
     "output_type": "stream",
     "text": [
      "+-------------+------+\n",
      "|Down/Up Ratio| count|\n",
      "+-------------+------+\n",
      "|           12|     1|\n",
      "|            1|168591|\n",
      "|           13|     2|\n",
      "|            6|    51|\n",
      "|           16|     5|\n",
      "|            3|   236|\n",
      "|           20|     2|\n",
      "|            5|    13|\n",
      "|           15|     1|\n",
      "|            9|     4|\n",
      "|            4|   129|\n",
      "|            8|     2|\n",
      "|            7|     9|\n",
      "|           10|    20|\n",
      "|           70|     1|\n",
      "|           11|     7|\n",
      "|           33|     1|\n",
      "|            2|  1478|\n",
      "|            0| 91537|\n",
      "+-------------+------+\n",
      "\n"
     ]
    }
   ],
   "source": [
    "test_df.groupBy('Down/Up Ratio').count().show()"
   ]
  },
  {
   "cell_type": "code",
   "execution_count": 45,
   "metadata": {
    "id": "KorQFxBuwH0n"
   },
   "outputs": [],
   "source": [
    "dt_classifier=DecisionTreeClassifier(labelCol='Down/Up Ratio').fit(train_df)"
   ]
  },
  {
   "cell_type": "code",
   "execution_count": 46,
   "metadata": {
    "colab": {
     "base_uri": "https://localhost:8080/"
    },
    "id": "w7O6CC93wMli",
    "outputId": "50f44a21-c7d9-481e-ee9b-4fb83e30ffb5"
   },
   "outputs": [
    {
     "data": {
      "text/plain": [
       "DecisionTreeClassificationModel: uid=DecisionTreeClassifier_63d1b21f6806, depth=5, numNodes=47, numClasses=81, numFeatures=5"
      ]
     },
     "execution_count": 46,
     "metadata": {
      "tags": []
     },
     "output_type": "execute_result"
    }
   ],
   "source": [
    "dt_classifier"
   ]
  },
  {
   "cell_type": "code",
   "execution_count": 47,
   "metadata": {
    "id": "OqFEjcK0wP3Y"
   },
   "outputs": [],
   "source": [
    "predictions=dt_classifier.transform(test_df)"
   ]
  },
  {
   "cell_type": "code",
   "execution_count": 48,
   "metadata": {
    "colab": {
     "base_uri": "https://localhost:8080/"
    },
    "id": "GsC_QxP1wTyJ",
    "outputId": "7adb95c8-1202-4020-c317-2b450149b226"
   },
   "outputs": [
    {
     "name": "stdout",
     "output_type": "stream",
     "text": [
      "+-------------+-------------+-----------------------------------------------------------------------------------------------------------------------------------------------------------------------------------------------------------------------------------------------------------------------------------------------------------------------------------------------+------------------------------------------------------------------------------------------------------------------------------------------------------------------------------------------------------------------------------------------------------------------------------------------------------------------------------------------------------------------------------------------------------------------------+----------+\n",
      "|features     |Down/Up Ratio|rawPrediction                                                                                                                                                                                                                                                                                                                                  |probability                                                                                                                                                                                                                                                                                                                                                                                                             |prediction|\n",
      "+-------------+-------------+-----------------------------------------------------------------------------------------------------------------------------------------------------------------------------------------------------------------------------------------------------------------------------------------------------------------------------------------------+------------------------------------------------------------------------------------------------------------------------------------------------------------------------------------------------------------------------------------------------------------------------------------------------------------------------------------------------------------------------------------------------------------------------+----------+\n",
      "|(5,[2],[1.0])|1            |[0.0,337385.0,16.0,1.0,1.0,0.0,4.0,0.0,0.0,0.0,0.0,0.0,0.0,0.0,0.0,0.0,0.0,0.0,0.0,0.0,0.0,0.0,0.0,0.0,0.0,0.0,0.0,0.0,0.0,0.0,0.0,0.0,0.0,0.0,0.0,0.0,0.0,0.0,0.0,0.0,0.0,0.0,0.0,0.0,0.0,0.0,0.0,0.0,0.0,0.0,0.0,0.0,0.0,0.0,0.0,0.0,0.0,0.0,0.0,0.0,0.0,0.0,0.0,0.0,0.0,0.0,0.0,0.0,0.0,0.0,0.0,0.0,0.0,0.0,0.0,0.0,0.0,0.0,0.0,0.0,0.0]    |[0.0,0.999934796847724,4.74204743825706E-5,2.9637796489106627E-6,2.9637796489106627E-6,0.0,1.185511859564265E-5,0.0,0.0,0.0,0.0,0.0,0.0,0.0,0.0,0.0,0.0,0.0,0.0,0.0,0.0,0.0,0.0,0.0,0.0,0.0,0.0,0.0,0.0,0.0,0.0,0.0,0.0,0.0,0.0,0.0,0.0,0.0,0.0,0.0,0.0,0.0,0.0,0.0,0.0,0.0,0.0,0.0,0.0,0.0,0.0,0.0,0.0,0.0,0.0,0.0,0.0,0.0,0.0,0.0,0.0,0.0,0.0,0.0,0.0,0.0,0.0,0.0,0.0,0.0,0.0,0.0,0.0,0.0,0.0,0.0,0.0,0.0,0.0,0.0,0.0]|1.0       |\n",
      "|(5,[2],[1.0])|1            |[0.0,337385.0,16.0,1.0,1.0,0.0,4.0,0.0,0.0,0.0,0.0,0.0,0.0,0.0,0.0,0.0,0.0,0.0,0.0,0.0,0.0,0.0,0.0,0.0,0.0,0.0,0.0,0.0,0.0,0.0,0.0,0.0,0.0,0.0,0.0,0.0,0.0,0.0,0.0,0.0,0.0,0.0,0.0,0.0,0.0,0.0,0.0,0.0,0.0,0.0,0.0,0.0,0.0,0.0,0.0,0.0,0.0,0.0,0.0,0.0,0.0,0.0,0.0,0.0,0.0,0.0,0.0,0.0,0.0,0.0,0.0,0.0,0.0,0.0,0.0,0.0,0.0,0.0,0.0,0.0,0.0]    |[0.0,0.999934796847724,4.74204743825706E-5,2.9637796489106627E-6,2.9637796489106627E-6,0.0,1.185511859564265E-5,0.0,0.0,0.0,0.0,0.0,0.0,0.0,0.0,0.0,0.0,0.0,0.0,0.0,0.0,0.0,0.0,0.0,0.0,0.0,0.0,0.0,0.0,0.0,0.0,0.0,0.0,0.0,0.0,0.0,0.0,0.0,0.0,0.0,0.0,0.0,0.0,0.0,0.0,0.0,0.0,0.0,0.0,0.0,0.0,0.0,0.0,0.0,0.0,0.0,0.0,0.0,0.0,0.0,0.0,0.0,0.0,0.0,0.0,0.0,0.0,0.0,0.0,0.0,0.0,0.0,0.0,0.0,0.0,0.0,0.0,0.0,0.0,0.0,0.0]|1.0       |\n",
      "|(5,[2],[2.0])|0            |[136220.0,1071.0,121.0,1.0,0.0,0.0,0.0,0.0,0.0,0.0,0.0,0.0,0.0,0.0,0.0,0.0,0.0,0.0,0.0,0.0,0.0,0.0,0.0,0.0,0.0,0.0,0.0,0.0,0.0,0.0,0.0,0.0,0.0,0.0,0.0,0.0,0.0,0.0,0.0,0.0,0.0,0.0,0.0,0.0,0.0,0.0,0.0,0.0,0.0,0.0,0.0,0.0,0.0,0.0,0.0,0.0,0.0,0.0,0.0,0.0,0.0,0.0,0.0,0.0,0.0,0.0,0.0,0.0,0.0,0.0,0.0,0.0,0.0,0.0,0.0,0.0,0.0,0.0,0.0,0.0,0.0]|[0.991318143116008,0.007794022399627401,8.80557152525598E-4,7.277331839054529E-6,0.0,0.0,0.0,0.0,0.0,0.0,0.0,0.0,0.0,0.0,0.0,0.0,0.0,0.0,0.0,0.0,0.0,0.0,0.0,0.0,0.0,0.0,0.0,0.0,0.0,0.0,0.0,0.0,0.0,0.0,0.0,0.0,0.0,0.0,0.0,0.0,0.0,0.0,0.0,0.0,0.0,0.0,0.0,0.0,0.0,0.0,0.0,0.0,0.0,0.0,0.0,0.0,0.0,0.0,0.0,0.0,0.0,0.0,0.0,0.0,0.0,0.0,0.0,0.0,0.0,0.0,0.0,0.0,0.0,0.0,0.0,0.0,0.0,0.0,0.0,0.0,0.0]                   |0.0       |\n",
      "|(5,[2],[2.0])|0            |[136220.0,1071.0,121.0,1.0,0.0,0.0,0.0,0.0,0.0,0.0,0.0,0.0,0.0,0.0,0.0,0.0,0.0,0.0,0.0,0.0,0.0,0.0,0.0,0.0,0.0,0.0,0.0,0.0,0.0,0.0,0.0,0.0,0.0,0.0,0.0,0.0,0.0,0.0,0.0,0.0,0.0,0.0,0.0,0.0,0.0,0.0,0.0,0.0,0.0,0.0,0.0,0.0,0.0,0.0,0.0,0.0,0.0,0.0,0.0,0.0,0.0,0.0,0.0,0.0,0.0,0.0,0.0,0.0,0.0,0.0,0.0,0.0,0.0,0.0,0.0,0.0,0.0,0.0,0.0,0.0,0.0]|[0.991318143116008,0.007794022399627401,8.80557152525598E-4,7.277331839054529E-6,0.0,0.0,0.0,0.0,0.0,0.0,0.0,0.0,0.0,0.0,0.0,0.0,0.0,0.0,0.0,0.0,0.0,0.0,0.0,0.0,0.0,0.0,0.0,0.0,0.0,0.0,0.0,0.0,0.0,0.0,0.0,0.0,0.0,0.0,0.0,0.0,0.0,0.0,0.0,0.0,0.0,0.0,0.0,0.0,0.0,0.0,0.0,0.0,0.0,0.0,0.0,0.0,0.0,0.0,0.0,0.0,0.0,0.0,0.0,0.0,0.0,0.0,0.0,0.0,0.0,0.0,0.0,0.0,0.0,0.0,0.0,0.0,0.0,0.0,0.0,0.0,0.0]                   |0.0       |\n",
      "|(5,[2],[2.0])|0            |[136220.0,1071.0,121.0,1.0,0.0,0.0,0.0,0.0,0.0,0.0,0.0,0.0,0.0,0.0,0.0,0.0,0.0,0.0,0.0,0.0,0.0,0.0,0.0,0.0,0.0,0.0,0.0,0.0,0.0,0.0,0.0,0.0,0.0,0.0,0.0,0.0,0.0,0.0,0.0,0.0,0.0,0.0,0.0,0.0,0.0,0.0,0.0,0.0,0.0,0.0,0.0,0.0,0.0,0.0,0.0,0.0,0.0,0.0,0.0,0.0,0.0,0.0,0.0,0.0,0.0,0.0,0.0,0.0,0.0,0.0,0.0,0.0,0.0,0.0,0.0,0.0,0.0,0.0,0.0,0.0,0.0]|[0.991318143116008,0.007794022399627401,8.80557152525598E-4,7.277331839054529E-6,0.0,0.0,0.0,0.0,0.0,0.0,0.0,0.0,0.0,0.0,0.0,0.0,0.0,0.0,0.0,0.0,0.0,0.0,0.0,0.0,0.0,0.0,0.0,0.0,0.0,0.0,0.0,0.0,0.0,0.0,0.0,0.0,0.0,0.0,0.0,0.0,0.0,0.0,0.0,0.0,0.0,0.0,0.0,0.0,0.0,0.0,0.0,0.0,0.0,0.0,0.0,0.0,0.0,0.0,0.0,0.0,0.0,0.0,0.0,0.0,0.0,0.0,0.0,0.0,0.0,0.0,0.0,0.0,0.0,0.0,0.0,0.0,0.0,0.0,0.0,0.0,0.0]                   |0.0       |\n",
      "|(5,[2],[2.0])|0            |[136220.0,1071.0,121.0,1.0,0.0,0.0,0.0,0.0,0.0,0.0,0.0,0.0,0.0,0.0,0.0,0.0,0.0,0.0,0.0,0.0,0.0,0.0,0.0,0.0,0.0,0.0,0.0,0.0,0.0,0.0,0.0,0.0,0.0,0.0,0.0,0.0,0.0,0.0,0.0,0.0,0.0,0.0,0.0,0.0,0.0,0.0,0.0,0.0,0.0,0.0,0.0,0.0,0.0,0.0,0.0,0.0,0.0,0.0,0.0,0.0,0.0,0.0,0.0,0.0,0.0,0.0,0.0,0.0,0.0,0.0,0.0,0.0,0.0,0.0,0.0,0.0,0.0,0.0,0.0,0.0,0.0]|[0.991318143116008,0.007794022399627401,8.80557152525598E-4,7.277331839054529E-6,0.0,0.0,0.0,0.0,0.0,0.0,0.0,0.0,0.0,0.0,0.0,0.0,0.0,0.0,0.0,0.0,0.0,0.0,0.0,0.0,0.0,0.0,0.0,0.0,0.0,0.0,0.0,0.0,0.0,0.0,0.0,0.0,0.0,0.0,0.0,0.0,0.0,0.0,0.0,0.0,0.0,0.0,0.0,0.0,0.0,0.0,0.0,0.0,0.0,0.0,0.0,0.0,0.0,0.0,0.0,0.0,0.0,0.0,0.0,0.0,0.0,0.0,0.0,0.0,0.0,0.0,0.0,0.0,0.0,0.0,0.0,0.0,0.0,0.0,0.0,0.0,0.0]                   |0.0       |\n",
      "|(5,[2],[2.0])|0            |[136220.0,1071.0,121.0,1.0,0.0,0.0,0.0,0.0,0.0,0.0,0.0,0.0,0.0,0.0,0.0,0.0,0.0,0.0,0.0,0.0,0.0,0.0,0.0,0.0,0.0,0.0,0.0,0.0,0.0,0.0,0.0,0.0,0.0,0.0,0.0,0.0,0.0,0.0,0.0,0.0,0.0,0.0,0.0,0.0,0.0,0.0,0.0,0.0,0.0,0.0,0.0,0.0,0.0,0.0,0.0,0.0,0.0,0.0,0.0,0.0,0.0,0.0,0.0,0.0,0.0,0.0,0.0,0.0,0.0,0.0,0.0,0.0,0.0,0.0,0.0,0.0,0.0,0.0,0.0,0.0,0.0]|[0.991318143116008,0.007794022399627401,8.80557152525598E-4,7.277331839054529E-6,0.0,0.0,0.0,0.0,0.0,0.0,0.0,0.0,0.0,0.0,0.0,0.0,0.0,0.0,0.0,0.0,0.0,0.0,0.0,0.0,0.0,0.0,0.0,0.0,0.0,0.0,0.0,0.0,0.0,0.0,0.0,0.0,0.0,0.0,0.0,0.0,0.0,0.0,0.0,0.0,0.0,0.0,0.0,0.0,0.0,0.0,0.0,0.0,0.0,0.0,0.0,0.0,0.0,0.0,0.0,0.0,0.0,0.0,0.0,0.0,0.0,0.0,0.0,0.0,0.0,0.0,0.0,0.0,0.0,0.0,0.0,0.0,0.0,0.0,0.0,0.0,0.0]                   |0.0       |\n",
      "|(5,[2],[2.0])|0            |[136220.0,1071.0,121.0,1.0,0.0,0.0,0.0,0.0,0.0,0.0,0.0,0.0,0.0,0.0,0.0,0.0,0.0,0.0,0.0,0.0,0.0,0.0,0.0,0.0,0.0,0.0,0.0,0.0,0.0,0.0,0.0,0.0,0.0,0.0,0.0,0.0,0.0,0.0,0.0,0.0,0.0,0.0,0.0,0.0,0.0,0.0,0.0,0.0,0.0,0.0,0.0,0.0,0.0,0.0,0.0,0.0,0.0,0.0,0.0,0.0,0.0,0.0,0.0,0.0,0.0,0.0,0.0,0.0,0.0,0.0,0.0,0.0,0.0,0.0,0.0,0.0,0.0,0.0,0.0,0.0,0.0]|[0.991318143116008,0.007794022399627401,8.80557152525598E-4,7.277331839054529E-6,0.0,0.0,0.0,0.0,0.0,0.0,0.0,0.0,0.0,0.0,0.0,0.0,0.0,0.0,0.0,0.0,0.0,0.0,0.0,0.0,0.0,0.0,0.0,0.0,0.0,0.0,0.0,0.0,0.0,0.0,0.0,0.0,0.0,0.0,0.0,0.0,0.0,0.0,0.0,0.0,0.0,0.0,0.0,0.0,0.0,0.0,0.0,0.0,0.0,0.0,0.0,0.0,0.0,0.0,0.0,0.0,0.0,0.0,0.0,0.0,0.0,0.0,0.0,0.0,0.0,0.0,0.0,0.0,0.0,0.0,0.0,0.0,0.0,0.0,0.0,0.0,0.0]                   |0.0       |\n",
      "|(5,[2],[2.0])|0            |[136220.0,1071.0,121.0,1.0,0.0,0.0,0.0,0.0,0.0,0.0,0.0,0.0,0.0,0.0,0.0,0.0,0.0,0.0,0.0,0.0,0.0,0.0,0.0,0.0,0.0,0.0,0.0,0.0,0.0,0.0,0.0,0.0,0.0,0.0,0.0,0.0,0.0,0.0,0.0,0.0,0.0,0.0,0.0,0.0,0.0,0.0,0.0,0.0,0.0,0.0,0.0,0.0,0.0,0.0,0.0,0.0,0.0,0.0,0.0,0.0,0.0,0.0,0.0,0.0,0.0,0.0,0.0,0.0,0.0,0.0,0.0,0.0,0.0,0.0,0.0,0.0,0.0,0.0,0.0,0.0,0.0]|[0.991318143116008,0.007794022399627401,8.80557152525598E-4,7.277331839054529E-6,0.0,0.0,0.0,0.0,0.0,0.0,0.0,0.0,0.0,0.0,0.0,0.0,0.0,0.0,0.0,0.0,0.0,0.0,0.0,0.0,0.0,0.0,0.0,0.0,0.0,0.0,0.0,0.0,0.0,0.0,0.0,0.0,0.0,0.0,0.0,0.0,0.0,0.0,0.0,0.0,0.0,0.0,0.0,0.0,0.0,0.0,0.0,0.0,0.0,0.0,0.0,0.0,0.0,0.0,0.0,0.0,0.0,0.0,0.0,0.0,0.0,0.0,0.0,0.0,0.0,0.0,0.0,0.0,0.0,0.0,0.0,0.0,0.0,0.0,0.0,0.0,0.0]                   |0.0       |\n",
      "|(5,[2],[2.0])|0            |[136220.0,1071.0,121.0,1.0,0.0,0.0,0.0,0.0,0.0,0.0,0.0,0.0,0.0,0.0,0.0,0.0,0.0,0.0,0.0,0.0,0.0,0.0,0.0,0.0,0.0,0.0,0.0,0.0,0.0,0.0,0.0,0.0,0.0,0.0,0.0,0.0,0.0,0.0,0.0,0.0,0.0,0.0,0.0,0.0,0.0,0.0,0.0,0.0,0.0,0.0,0.0,0.0,0.0,0.0,0.0,0.0,0.0,0.0,0.0,0.0,0.0,0.0,0.0,0.0,0.0,0.0,0.0,0.0,0.0,0.0,0.0,0.0,0.0,0.0,0.0,0.0,0.0,0.0,0.0,0.0,0.0]|[0.991318143116008,0.007794022399627401,8.80557152525598E-4,7.277331839054529E-6,0.0,0.0,0.0,0.0,0.0,0.0,0.0,0.0,0.0,0.0,0.0,0.0,0.0,0.0,0.0,0.0,0.0,0.0,0.0,0.0,0.0,0.0,0.0,0.0,0.0,0.0,0.0,0.0,0.0,0.0,0.0,0.0,0.0,0.0,0.0,0.0,0.0,0.0,0.0,0.0,0.0,0.0,0.0,0.0,0.0,0.0,0.0,0.0,0.0,0.0,0.0,0.0,0.0,0.0,0.0,0.0,0.0,0.0,0.0,0.0,0.0,0.0,0.0,0.0,0.0,0.0,0.0,0.0,0.0,0.0,0.0,0.0,0.0,0.0,0.0,0.0,0.0]                   |0.0       |\n",
      "+-------------+-------------+-----------------------------------------------------------------------------------------------------------------------------------------------------------------------------------------------------------------------------------------------------------------------------------------------------------------------------------------------+------------------------------------------------------------------------------------------------------------------------------------------------------------------------------------------------------------------------------------------------------------------------------------------------------------------------------------------------------------------------------------------------------------------------+----------+\n",
      "only showing top 10 rows\n",
      "\n"
     ]
    }
   ],
   "source": [
    "predictions.show(10,False)"
   ]
  },
  {
   "cell_type": "code",
   "execution_count": 49,
   "metadata": {
    "id": "0Ct7GJS4wc0-"
   },
   "outputs": [],
   "source": [
    "from pyspark.ml.evaluation import MulticlassClassificationEvaluator"
   ]
  },
  {
   "cell_type": "code",
   "execution_count": 50,
   "metadata": {
    "id": "5-2TIDaZwf6-"
   },
   "outputs": [],
   "source": [
    "accuracy=MulticlassClassificationEvaluator(labelCol='Down/Up Ratio',metricName='accuracy').evaluate(predictions)"
   ]
  },
  {
   "cell_type": "code",
   "execution_count": 51,
   "metadata": {
    "colab": {
     "base_uri": "https://localhost:8080/"
    },
    "id": "2NZt-kXdwmcz",
    "outputId": "9c1a47cb-9e94-4cb4-95e3-16e9cfd8a738"
   },
   "outputs": [
    {
     "data": {
      "text/plain": [
       "0.9262467091457133"
      ]
     },
     "execution_count": 51,
     "metadata": {
      "tags": []
     },
     "output_type": "execute_result"
    }
   ],
   "source": [
    "accuracy"
   ]
  },
  {
   "cell_type": "code",
   "execution_count": 52,
   "metadata": {
    "id": "xvaNojtXwp0Z"
   },
   "outputs": [],
   "source": [
    "accuracy=MulticlassClassificationEvaluator(labelCol='Down/Up Ratio',metricName='f1').evaluate(predictions)"
   ]
  },
  {
   "cell_type": "code",
   "execution_count": 53,
   "metadata": {
    "colab": {
     "base_uri": "https://localhost:8080/"
    },
    "id": "ZRrlnFmqwwB_",
    "outputId": "cf5ff1b8-9257-4e70-b13a-623df688482c"
   },
   "outputs": [
    {
     "data": {
      "text/plain": [
       "0.9226771828191753"
      ]
     },
     "execution_count": 53,
     "metadata": {
      "tags": []
     },
     "output_type": "execute_result"
    }
   ],
   "source": [
    "accuracy"
   ]
  },
  {
   "cell_type": "code",
   "execution_count": 54,
   "metadata": {
    "id": "pB6HDwdwwyZS"
   },
   "outputs": [],
   "source": [
    "precision=MulticlassClassificationEvaluator(labelCol='Down/Up Ratio',metricName='weightedPrecision').evaluate(predictions)"
   ]
  },
  {
   "cell_type": "code",
   "execution_count": 55,
   "metadata": {
    "colab": {
     "base_uri": "https://localhost:8080/"
    },
    "id": "dyW7Tjjrw9AM",
    "outputId": "b11f14f1-2890-4072-a454-5d1de94f852d"
   },
   "outputs": [
    {
     "data": {
      "text/plain": [
       "0.9268232817833071"
      ]
     },
     "execution_count": 55,
     "metadata": {
      "tags": []
     },
     "output_type": "execute_result"
    }
   ],
   "source": [
    "precision"
   ]
  },
  {
   "cell_type": "code",
   "execution_count": 56,
   "metadata": {
    "id": "CwDoW3vnxBy0"
   },
   "outputs": [],
   "source": [
    "recall=MulticlassClassificationEvaluator(labelCol='Down/Up Ratio',metricName='weightedRecall').evaluate(predictions)"
   ]
  },
  {
   "cell_type": "code",
   "execution_count": 57,
   "metadata": {
    "colab": {
     "base_uri": "https://localhost:8080/"
    },
    "id": "G8UbXe6lxFte",
    "outputId": "36b9c894-0d0b-487c-9643-4c268de4a4d6"
   },
   "outputs": [
    {
     "data": {
      "text/plain": [
       "0.9262467091457134"
      ]
     },
     "execution_count": 57,
     "metadata": {
      "tags": []
     },
     "output_type": "execute_result"
    }
   ],
   "source": [
    "recall"
   ]
  },
  {
   "cell_type": "markdown",
   "metadata": {
    "id": "9swDF6in03x9"
   },
   "source": [
    "# LinearRegression"
   ]
  },
  {
   "cell_type": "code",
   "execution_count": 58,
   "metadata": {
    "id": "j8dcKVv9xcj0"
   },
   "outputs": [],
   "source": [
    "#create sparksession object\n",
    "from pyspark.sql import SparkSession\n",
    "spark=SparkSession.builder.appName('lin_reg').getOrCreate()"
   ]
  },
  {
   "cell_type": "code",
   "execution_count": 59,
   "metadata": {
    "id": "sRAsWNMox5FE"
   },
   "outputs": [],
   "source": [
    "#import Linear Regression from spark's MLlib\n",
    "from pyspark.ml.regression import LinearRegression"
   ]
  },
  {
   "cell_type": "code",
   "execution_count": 60,
   "metadata": {
    "id": "cIniiUUCx79j"
   },
   "outputs": [],
   "source": [
    "#Load the dataset\n",
    "df=spark.read.csv('/content/drive/MyDrive/data/02_14_2018.csv',inferSchema=True,header=True)"
   ]
  },
  {
   "cell_type": "code",
   "execution_count": 61,
   "metadata": {
    "colab": {
     "base_uri": "https://localhost:8080/"
    },
    "id": "Vwyateg3yFqS",
    "outputId": "8934833c-ce7a-44bd-c781-785af15f7d9f"
   },
   "outputs": [
    {
     "name": "stdout",
     "output_type": "stream",
     "text": [
      "(1048575, 80)\n"
     ]
    }
   ],
   "source": [
    "#validate the size of data\n",
    "print((df.count(), len(df.columns)))"
   ]
  },
  {
   "cell_type": "code",
   "execution_count": 62,
   "metadata": {
    "colab": {
     "base_uri": "https://localhost:8080/"
    },
    "id": "KCwPgkFIyNDf",
    "outputId": "98ae8156-651d-42b8-e51d-a1390ae9c4e1"
   },
   "outputs": [
    {
     "name": "stdout",
     "output_type": "stream",
     "text": [
      "root\n",
      " |-- Dst Port: integer (nullable = true)\n",
      " |-- Protocol: integer (nullable = true)\n",
      " |-- Timestamp: string (nullable = true)\n",
      " |-- Flow Duration: long (nullable = true)\n",
      " |-- Tot Fwd Pkts: integer (nullable = true)\n",
      " |-- Tot Bwd Pkts: integer (nullable = true)\n",
      " |-- TotLen Fwd Pkts: integer (nullable = true)\n",
      " |-- TotLen Bwd Pkts: integer (nullable = true)\n",
      " |-- Fwd Pkt Len Max: integer (nullable = true)\n",
      " |-- Fwd Pkt Len Min: integer (nullable = true)\n",
      " |-- Fwd Pkt Len Mean: double (nullable = true)\n",
      " |-- Fwd Pkt Len Std: double (nullable = true)\n",
      " |-- Bwd Pkt Len Max: integer (nullable = true)\n",
      " |-- Bwd Pkt Len Min: integer (nullable = true)\n",
      " |-- Bwd Pkt Len Mean: double (nullable = true)\n",
      " |-- Bwd Pkt Len Std: double (nullable = true)\n",
      " |-- Flow Byts/s: double (nullable = true)\n",
      " |-- Flow Pkts/s: double (nullable = true)\n",
      " |-- Flow IAT Mean: double (nullable = true)\n",
      " |-- Flow IAT Std: double (nullable = true)\n",
      " |-- Flow IAT Max: long (nullable = true)\n",
      " |-- Flow IAT Min: long (nullable = true)\n",
      " |-- Fwd IAT Tot: long (nullable = true)\n",
      " |-- Fwd IAT Mean: double (nullable = true)\n",
      " |-- Fwd IAT Std: double (nullable = true)\n",
      " |-- Fwd IAT Max: long (nullable = true)\n",
      " |-- Fwd IAT Min: long (nullable = true)\n",
      " |-- Bwd IAT Tot: integer (nullable = true)\n",
      " |-- Bwd IAT Mean: double (nullable = true)\n",
      " |-- Bwd IAT Std: double (nullable = true)\n",
      " |-- Bwd IAT Max: integer (nullable = true)\n",
      " |-- Bwd IAT Min: integer (nullable = true)\n",
      " |-- Fwd PSH Flags: integer (nullable = true)\n",
      " |-- Bwd PSH Flags: integer (nullable = true)\n",
      " |-- Fwd URG Flags: integer (nullable = true)\n",
      " |-- Bwd URG Flags: integer (nullable = true)\n",
      " |-- Fwd Header Len: integer (nullable = true)\n",
      " |-- Bwd Header Len: integer (nullable = true)\n",
      " |-- Fwd Pkts/s: double (nullable = true)\n",
      " |-- Bwd Pkts/s: double (nullable = true)\n",
      " |-- Pkt Len Min: integer (nullable = true)\n",
      " |-- Pkt Len Max: integer (nullable = true)\n",
      " |-- Pkt Len Mean: double (nullable = true)\n",
      " |-- Pkt Len Std: double (nullable = true)\n",
      " |-- Pkt Len Var: double (nullable = true)\n",
      " |-- FIN Flag Cnt: integer (nullable = true)\n",
      " |-- SYN Flag Cnt: integer (nullable = true)\n",
      " |-- RST Flag Cnt: integer (nullable = true)\n",
      " |-- PSH Flag Cnt: integer (nullable = true)\n",
      " |-- ACK Flag Cnt: integer (nullable = true)\n",
      " |-- URG Flag Cnt: integer (nullable = true)\n",
      " |-- CWE Flag Count: integer (nullable = true)\n",
      " |-- ECE Flag Cnt: integer (nullable = true)\n",
      " |-- Down/Up Ratio: integer (nullable = true)\n",
      " |-- Pkt Size Avg: double (nullable = true)\n",
      " |-- Fwd Seg Size Avg: double (nullable = true)\n",
      " |-- Bwd Seg Size Avg: double (nullable = true)\n",
      " |-- Fwd Byts/b Avg: integer (nullable = true)\n",
      " |-- Fwd Pkts/b Avg: integer (nullable = true)\n",
      " |-- Fwd Blk Rate Avg: integer (nullable = true)\n",
      " |-- Bwd Byts/b Avg: integer (nullable = true)\n",
      " |-- Bwd Pkts/b Avg: integer (nullable = true)\n",
      " |-- Bwd Blk Rate Avg: integer (nullable = true)\n",
      " |-- Subflow Fwd Pkts: integer (nullable = true)\n",
      " |-- Subflow Fwd Byts: integer (nullable = true)\n",
      " |-- Subflow Bwd Pkts: integer (nullable = true)\n",
      " |-- Subflow Bwd Byts: integer (nullable = true)\n",
      " |-- Init Fwd Win Byts: integer (nullable = true)\n",
      " |-- Init Bwd Win Byts: integer (nullable = true)\n",
      " |-- Fwd Act Data Pkts: integer (nullable = true)\n",
      " |-- Fwd Seg Size Min: integer (nullable = true)\n",
      " |-- Active Mean: double (nullable = true)\n",
      " |-- Active Std: double (nullable = true)\n",
      " |-- Active Max: integer (nullable = true)\n",
      " |-- Active Min: integer (nullable = true)\n",
      " |-- Idle Mean: double (nullable = true)\n",
      " |-- Idle Std: double (nullable = true)\n",
      " |-- Idle Max: long (nullable = true)\n",
      " |-- Idle Min: long (nullable = true)\n",
      " |-- Label: string (nullable = true)\n",
      "\n"
     ]
    }
   ],
   "source": [
    "#explore the data\n",
    "df.printSchema()"
   ]
  },
  {
   "cell_type": "code",
   "execution_count": 63,
   "metadata": {
    "id": "-NFHuI3_ysPQ"
   },
   "outputs": [],
   "source": [
    "#import vectorassembler to create dense vectors\n",
    "from pyspark.ml.linalg import Vector\n",
    "from pyspark.ml.feature import VectorAssembler"
   ]
  },
  {
   "cell_type": "code",
   "execution_count": 64,
   "metadata": {
    "id": "kdSniCcryv-z"
   },
   "outputs": [],
   "source": [
    "#create the vector assembler \n",
    "vec_assmebler=VectorAssembler(inputCols=['Dst Port', 'Protocol', 'Tot Fwd Pkts', 'TotLen Bwd Pkts', 'Fwd Pkt Len Max'],outputCol='features')"
   ]
  },
  {
   "cell_type": "code",
   "execution_count": 65,
   "metadata": {
    "id": "knzWvjpEzCqv"
   },
   "outputs": [],
   "source": [
    "#transform the values\n",
    "features_df=vec_assmebler.transform(df)"
   ]
  },
  {
   "cell_type": "code",
   "execution_count": 66,
   "metadata": {
    "colab": {
     "base_uri": "https://localhost:8080/"
    },
    "id": "vnfSufrezGdK",
    "outputId": "065a1a29-f754-4551-a359-0c2af15a0894"
   },
   "outputs": [
    {
     "name": "stdout",
     "output_type": "stream",
     "text": [
      "root\n",
      " |-- Dst Port: integer (nullable = true)\n",
      " |-- Protocol: integer (nullable = true)\n",
      " |-- Timestamp: string (nullable = true)\n",
      " |-- Flow Duration: long (nullable = true)\n",
      " |-- Tot Fwd Pkts: integer (nullable = true)\n",
      " |-- Tot Bwd Pkts: integer (nullable = true)\n",
      " |-- TotLen Fwd Pkts: integer (nullable = true)\n",
      " |-- TotLen Bwd Pkts: integer (nullable = true)\n",
      " |-- Fwd Pkt Len Max: integer (nullable = true)\n",
      " |-- Fwd Pkt Len Min: integer (nullable = true)\n",
      " |-- Fwd Pkt Len Mean: double (nullable = true)\n",
      " |-- Fwd Pkt Len Std: double (nullable = true)\n",
      " |-- Bwd Pkt Len Max: integer (nullable = true)\n",
      " |-- Bwd Pkt Len Min: integer (nullable = true)\n",
      " |-- Bwd Pkt Len Mean: double (nullable = true)\n",
      " |-- Bwd Pkt Len Std: double (nullable = true)\n",
      " |-- Flow Byts/s: double (nullable = true)\n",
      " |-- Flow Pkts/s: double (nullable = true)\n",
      " |-- Flow IAT Mean: double (nullable = true)\n",
      " |-- Flow IAT Std: double (nullable = true)\n",
      " |-- Flow IAT Max: long (nullable = true)\n",
      " |-- Flow IAT Min: long (nullable = true)\n",
      " |-- Fwd IAT Tot: long (nullable = true)\n",
      " |-- Fwd IAT Mean: double (nullable = true)\n",
      " |-- Fwd IAT Std: double (nullable = true)\n",
      " |-- Fwd IAT Max: long (nullable = true)\n",
      " |-- Fwd IAT Min: long (nullable = true)\n",
      " |-- Bwd IAT Tot: integer (nullable = true)\n",
      " |-- Bwd IAT Mean: double (nullable = true)\n",
      " |-- Bwd IAT Std: double (nullable = true)\n",
      " |-- Bwd IAT Max: integer (nullable = true)\n",
      " |-- Bwd IAT Min: integer (nullable = true)\n",
      " |-- Fwd PSH Flags: integer (nullable = true)\n",
      " |-- Bwd PSH Flags: integer (nullable = true)\n",
      " |-- Fwd URG Flags: integer (nullable = true)\n",
      " |-- Bwd URG Flags: integer (nullable = true)\n",
      " |-- Fwd Header Len: integer (nullable = true)\n",
      " |-- Bwd Header Len: integer (nullable = true)\n",
      " |-- Fwd Pkts/s: double (nullable = true)\n",
      " |-- Bwd Pkts/s: double (nullable = true)\n",
      " |-- Pkt Len Min: integer (nullable = true)\n",
      " |-- Pkt Len Max: integer (nullable = true)\n",
      " |-- Pkt Len Mean: double (nullable = true)\n",
      " |-- Pkt Len Std: double (nullable = true)\n",
      " |-- Pkt Len Var: double (nullable = true)\n",
      " |-- FIN Flag Cnt: integer (nullable = true)\n",
      " |-- SYN Flag Cnt: integer (nullable = true)\n",
      " |-- RST Flag Cnt: integer (nullable = true)\n",
      " |-- PSH Flag Cnt: integer (nullable = true)\n",
      " |-- ACK Flag Cnt: integer (nullable = true)\n",
      " |-- URG Flag Cnt: integer (nullable = true)\n",
      " |-- CWE Flag Count: integer (nullable = true)\n",
      " |-- ECE Flag Cnt: integer (nullable = true)\n",
      " |-- Down/Up Ratio: integer (nullable = true)\n",
      " |-- Pkt Size Avg: double (nullable = true)\n",
      " |-- Fwd Seg Size Avg: double (nullable = true)\n",
      " |-- Bwd Seg Size Avg: double (nullable = true)\n",
      " |-- Fwd Byts/b Avg: integer (nullable = true)\n",
      " |-- Fwd Pkts/b Avg: integer (nullable = true)\n",
      " |-- Fwd Blk Rate Avg: integer (nullable = true)\n",
      " |-- Bwd Byts/b Avg: integer (nullable = true)\n",
      " |-- Bwd Pkts/b Avg: integer (nullable = true)\n",
      " |-- Bwd Blk Rate Avg: integer (nullable = true)\n",
      " |-- Subflow Fwd Pkts: integer (nullable = true)\n",
      " |-- Subflow Fwd Byts: integer (nullable = true)\n",
      " |-- Subflow Bwd Pkts: integer (nullable = true)\n",
      " |-- Subflow Bwd Byts: integer (nullable = true)\n",
      " |-- Init Fwd Win Byts: integer (nullable = true)\n",
      " |-- Init Bwd Win Byts: integer (nullable = true)\n",
      " |-- Fwd Act Data Pkts: integer (nullable = true)\n",
      " |-- Fwd Seg Size Min: integer (nullable = true)\n",
      " |-- Active Mean: double (nullable = true)\n",
      " |-- Active Std: double (nullable = true)\n",
      " |-- Active Max: integer (nullable = true)\n",
      " |-- Active Min: integer (nullable = true)\n",
      " |-- Idle Mean: double (nullable = true)\n",
      " |-- Idle Std: double (nullable = true)\n",
      " |-- Idle Max: long (nullable = true)\n",
      " |-- Idle Min: long (nullable = true)\n",
      " |-- Label: string (nullable = true)\n",
      " |-- features: vector (nullable = true)\n",
      "\n"
     ]
    }
   ],
   "source": [
    "#validate the presence of dense vectors \n",
    "features_df.printSchema()"
   ]
  },
  {
   "cell_type": "code",
   "execution_count": 67,
   "metadata": {
    "colab": {
     "base_uri": "https://localhost:8080/"
    },
    "id": "t5ggIqFYzKC0",
    "outputId": "ab000cc5-95a2-4806-a8ee-c68f3edff372"
   },
   "outputs": [
    {
     "name": "stdout",
     "output_type": "stream",
     "text": [
      "+-------------+\n",
      "|features     |\n",
      "+-------------+\n",
      "|(5,[2],[3.0])|\n",
      "+-------------+\n",
      "only showing top 1 row\n",
      "\n"
     ]
    }
   ],
   "source": [
    "#view the details of dense vector\n",
    "features_df.select('features').show(1,False)"
   ]
  },
  {
   "cell_type": "code",
   "execution_count": 68,
   "metadata": {
    "id": "QzeE08erzN6V"
   },
   "outputs": [],
   "source": [
    "#create data containing input features and output column\n",
    "model_df=features_df.select('features','Down/Up Ratio')"
   ]
  },
  {
   "cell_type": "code",
   "execution_count": 69,
   "metadata": {
    "colab": {
     "base_uri": "https://localhost:8080/"
    },
    "id": "BHI0G5T_ziLh",
    "outputId": "b426aac8-e806-4795-89bd-0031a9959640"
   },
   "outputs": [
    {
     "name": "stdout",
     "output_type": "stream",
     "text": [
      "+-------------+-------------+\n",
      "|     features|Down/Up Ratio|\n",
      "+-------------+-------------+\n",
      "|(5,[2],[3.0])|            0|\n",
      "|(5,[2],[3.0])|            0|\n",
      "|(5,[2],[3.0])|            0|\n",
      "+-------------+-------------+\n",
      "only showing top 3 rows\n",
      "\n"
     ]
    }
   ],
   "source": [
    "model_df.show(3)"
   ]
  },
  {
   "cell_type": "code",
   "execution_count": 70,
   "metadata": {
    "colab": {
     "base_uri": "https://localhost:8080/"
    },
    "id": "tJ3PUJZxzlVE",
    "outputId": "03896825-df6b-4d76-977c-e23a744f97d3"
   },
   "outputs": [
    {
     "name": "stdout",
     "output_type": "stream",
     "text": [
      "(1048575, 2)\n"
     ]
    }
   ],
   "source": [
    "#size of model df\n",
    "print((model_df.count(), len(model_df.columns)))"
   ]
  },
  {
   "cell_type": "code",
   "execution_count": 71,
   "metadata": {
    "id": "hQRRUTjLzo9v"
   },
   "outputs": [],
   "source": [
    "#split the data into 70/30 ratio for train test purpose\n",
    "train_df,test_df=model_df.randomSplit([0.7,0.3])"
   ]
  },
  {
   "cell_type": "code",
   "execution_count": 72,
   "metadata": {
    "colab": {
     "base_uri": "https://localhost:8080/"
    },
    "id": "z2T3Eqpjzsjb",
    "outputId": "a617ab93-9b8d-41c8-d9d7-7e658764c946"
   },
   "outputs": [
    {
     "name": "stdout",
     "output_type": "stream",
     "text": [
      "(733532, 2)\n"
     ]
    }
   ],
   "source": [
    "print((train_df.count(), len(train_df.columns)))"
   ]
  },
  {
   "cell_type": "code",
   "execution_count": 73,
   "metadata": {
    "colab": {
     "base_uri": "https://localhost:8080/"
    },
    "id": "9gfw0c5-zvjD",
    "outputId": "4f7382a6-34c2-4075-adbd-0f408e487742"
   },
   "outputs": [
    {
     "name": "stdout",
     "output_type": "stream",
     "text": [
      "(315043, 2)\n"
     ]
    }
   ],
   "source": [
    "print((test_df.count(), len(test_df.columns)))"
   ]
  },
  {
   "cell_type": "code",
   "execution_count": 74,
   "metadata": {
    "colab": {
     "base_uri": "https://localhost:8080/"
    },
    "id": "BKaM5EPPzzrE",
    "outputId": "da76c0eb-e7fe-4057-d41e-bf8aaca1219d"
   },
   "outputs": [
    {
     "name": "stdout",
     "output_type": "stream",
     "text": [
      "+-------+------------------+\n",
      "|summary|     Down/Up Ratio|\n",
      "+-------+------------------+\n",
      "|  count|            733532|\n",
      "|   mean|0.6633084855193775|\n",
      "| stddev|0.5599861581491731|\n",
      "|    min|                 0|\n",
      "|    max|                80|\n",
      "+-------+------------------+\n",
      "\n"
     ]
    }
   ],
   "source": [
    "train_df.describe().show()"
   ]
  },
  {
   "cell_type": "code",
   "execution_count": 75,
   "metadata": {
    "id": "KsvvnEnrz3AF"
   },
   "outputs": [],
   "source": [
    "#Build Linear Regression model \n",
    "lin_Reg=LinearRegression(labelCol='Down/Up Ratio')"
   ]
  },
  {
   "cell_type": "code",
   "execution_count": 76,
   "metadata": {
    "id": "jXF-TFwcz-GL"
   },
   "outputs": [],
   "source": [
    "#fit the linear regression model on training data set \n",
    "lr_model=lin_Reg.fit(train_df)"
   ]
  },
  {
   "cell_type": "code",
   "execution_count": 77,
   "metadata": {
    "colab": {
     "base_uri": "https://localhost:8080/"
    },
    "id": "QDTSoOar0B0-",
    "outputId": "c8476a59-04e5-42be-fa43-9e7ffdbf9458"
   },
   "outputs": [
    {
     "data": {
      "text/plain": [
       "0.5807377678976476"
      ]
     },
     "execution_count": 77,
     "metadata": {
      "tags": []
     },
     "output_type": "execute_result"
    }
   ],
   "source": [
    "lr_model.intercept"
   ]
  },
  {
   "cell_type": "code",
   "execution_count": 78,
   "metadata": {
    "colab": {
     "base_uri": "https://localhost:8080/"
    },
    "id": "wxpNyfTo0Eyg",
    "outputId": "2e9aa06c-f37b-4513-cde9-743183a2ce3e"
   },
   "outputs": [
    {
     "name": "stdout",
     "output_type": "stream",
     "text": [
      "[-7.872672703019911e-06,0.024465375482845334,-0.00353136129102735,1.3675926146314173e-06,-0.0003529217780114114]\n"
     ]
    }
   ],
   "source": [
    "print(lr_model.coefficients)"
   ]
  },
  {
   "cell_type": "code",
   "execution_count": 79,
   "metadata": {
    "id": "mJUPyduX0IPk"
   },
   "outputs": [],
   "source": [
    "training_predictions=lr_model.evaluate(train_df)"
   ]
  },
  {
   "cell_type": "code",
   "execution_count": 80,
   "metadata": {
    "colab": {
     "base_uri": "https://localhost:8080/"
    },
    "id": "KFyvGpf10LUb",
    "outputId": "03935938-f85a-4846-8870-72f273822992"
   },
   "outputs": [
    {
     "data": {
      "text/plain": [
       "0.25750707354139585"
      ]
     },
     "execution_count": 80,
     "metadata": {
      "tags": []
     },
     "output_type": "execute_result"
    }
   ],
   "source": [
    "training_predictions.meanSquaredError"
   ]
  },
  {
   "cell_type": "code",
   "execution_count": 81,
   "metadata": {
    "colab": {
     "base_uri": "https://localhost:8080/"
    },
    "id": "-ep-8IR30Pr0",
    "outputId": "d6e2be97-ed74-422a-b9fa-c4d42feafd61"
   },
   "outputs": [
    {
     "data": {
      "text/plain": [
       "0.1788260363805546"
      ]
     },
     "execution_count": 81,
     "metadata": {
      "tags": []
     },
     "output_type": "execute_result"
    }
   ],
   "source": [
    "training_predictions.r2"
   ]
  },
  {
   "cell_type": "code",
   "execution_count": 82,
   "metadata": {
    "id": "6pGN-Eis0Sim"
   },
   "outputs": [],
   "source": [
    "#make predictions on test data \n",
    "test_results=lr_model.evaluate(test_df)"
   ]
  },
  {
   "cell_type": "code",
   "execution_count": 83,
   "metadata": {
    "colab": {
     "base_uri": "https://localhost:8080/"
    },
    "id": "USYgqLxd0V4I",
    "outputId": "77c3c9d0-f1ab-4fbb-d708-51ef1f6842f0"
   },
   "outputs": [
    {
     "name": "stdout",
     "output_type": "stream",
     "text": [
      "+-------------------+\n",
      "|          residuals|\n",
      "+-------------------+\n",
      "|0.42279359339337974|\n",
      "|0.42279359339337974|\n",
      "|0.42279359339337974|\n",
      "|0.42279359339337974|\n",
      "| -0.573675045315593|\n",
      "| -0.573675045315593|\n",
      "| -0.573675045315593|\n",
      "| -0.573675045315593|\n",
      "| -0.573675045315593|\n",
      "| -0.573675045315593|\n",
      "+-------------------+\n",
      "only showing top 10 rows\n",
      "\n"
     ]
    }
   ],
   "source": [
    "#view the residual errors based on predictions \n",
    "test_results.residuals.show(10)"
   ]
  },
  {
   "cell_type": "code",
   "execution_count": 84,
   "metadata": {
    "colab": {
     "base_uri": "https://localhost:8080/"
    },
    "id": "HS_0bJ6q0a3J",
    "outputId": "d6905a60-bffa-4b74-b494-9f4707feb848"
   },
   "outputs": [
    {
     "data": {
      "text/plain": [
       "0.16233945325960542"
      ]
     },
     "execution_count": 84,
     "metadata": {
      "tags": []
     },
     "output_type": "execute_result"
    }
   ],
   "source": [
    "#coefficient of determination value for model\n",
    "test_results.r2"
   ]
  },
  {
   "cell_type": "code",
   "execution_count": 85,
   "metadata": {
    "colab": {
     "base_uri": "https://localhost:8080/"
    },
    "id": "xLw_wuNB0d0p",
    "outputId": "e9b3523d-4432-46d8-b93d-99ca0614d3a1"
   },
   "outputs": [
    {
     "data": {
      "text/plain": [
       "0.5284846074633018"
      ]
     },
     "execution_count": 85,
     "metadata": {
      "tags": []
     },
     "output_type": "execute_result"
    }
   ],
   "source": [
    "test_results.rootMeanSquaredError"
   ]
  },
  {
   "cell_type": "code",
   "execution_count": 86,
   "metadata": {
    "colab": {
     "base_uri": "https://localhost:8080/"
    },
    "id": "NLRIv3T40gxA",
    "outputId": "d4fa9f72-e5f0-4a0a-8d17-e28daed7465d"
   },
   "outputs": [
    {
     "data": {
      "text/plain": [
       "0.2792959803256402"
      ]
     },
     "execution_count": 86,
     "metadata": {
      "tags": []
     },
     "output_type": "execute_result"
    }
   ],
   "source": [
    "test_results.meanSquaredError"
   ]
  }
 ],
 "metadata": {
  "colab": {
   "collapsed_sections": [],
   "name": "bigdata_assesment_2021.ipynb",
   "provenance": [],
   "toc_visible": true
  },
  "kernelspec": {
   "display_name": "Python 3",
   "language": "python",
   "name": "python3"
  },
  "language_info": {
   "codemirror_mode": {
    "name": "ipython",
    "version": 3
   },
   "file_extension": ".py",
   "mimetype": "text/x-python",
   "name": "python",
   "nbconvert_exporter": "python",
   "pygments_lexer": "ipython3",
   "version": "3.8.5"
  }
 },
 "nbformat": 4,
 "nbformat_minor": 1
}
